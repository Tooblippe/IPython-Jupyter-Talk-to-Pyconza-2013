{
 "metadata": {
  "name": "",
  "signature": "sha256:f0bac7f6ca653b14680f01cd365d86d138464f812a3ffd83b456e1a6a6ecc1b1"
 },
 "nbformat": 3,
 "nbformat_minor": 0,
 "worksheets": [
  {
   "cells": [
    {
     "cell_type": "code",
     "collapsed": false,
     "input": [
      "%run ../talktools.py"
     ],
     "language": "python",
     "metadata": {},
     "outputs": []
    },
    {
     "cell_type": "markdown",
     "metadata": {},
     "source": [
      "# Visulizando nuestro problema\n",
      "\n",
      "En este modulo vamos a usar un poco mas la libreria `matplotlib` para crear graficas y diagramas basados en nuestros datos. Este proceso se conoce como visualizacion de datos.\n",
      "\n",
      "## Inline Charts\n",
      "\n",
      "Como hemos visto en otras sesiones, es neecsario ejecutar el comando especial:\n",
      "\n",
      "    %matplotlib inline"
     ]
    },
    {
     "cell_type": "code",
     "collapsed": false,
     "input": [
      "# Escriban y ejecuten el codigo en esta celda\n",
      "%matplotlib inline"
     ],
     "language": "python",
     "metadata": {},
     "outputs": [],
     "prompt_number": 4
    },
    {
     "cell_type": "markdown",
     "metadata": {},
     "source": [
      "para que las graficas aparezcan adentro, \"_inline_\", de IPython Notebook, y no en una ventana separada. Por ejemplo ejecuten el siguiente codigo:\n",
      "\n",
      "    import matplotlib.pyplot as plt\n",
      "    vals = [3,2,5,0,1]\n",
      "    plt.plot(vals)\n",
      "    \n",
      "Veran un diagrama formado con lineas en la libreta."
     ]
    },
    {
     "cell_type": "code",
     "collapsed": false,
     "input": [
      "# Escriban y ejecuten el codigo en esta celda\n",
      "\n",
      "import matplotlib.pyplot as plt\n",
      "vals = [3,2,5,0,1]\n",
      "plt.plot(vals)"
     ],
     "language": "python",
     "metadata": {},
     "outputs": [
      {
       "metadata": {},
       "output_type": "pyout",
       "prompt_number": 2,
       "text": [
        "[<matplotlib.lines.Line2D at 0x7fa412663850>]"
       ]
      },
      {
       "metadata": {},
       "output_type": "display_data",
       "png": "[encoded data removed]",
       "text": [
        "<matplotlib.figure.Figure at 0x7fa4146cd490>"
       ]
      }
     ],
     "prompt_number": 2
    },
    {
     "cell_type": "markdown",
     "metadata": {},
     "source": [
      "## Matplotlib sin IPython Notebook\n",
      "\n",
      "Si quieren usar la libreria `matplotlib` directamente desde Python en lugar de hacerlo via IPython Notebook, lo unico que tienen que hacer es agregar al final del programa la instruccion:\n",
      "\n",
      "    plt.show()\n",
      "\n",
      "Que hara que se despliegue una nueva ventana con la grafica creada, pausando el script hasta que la ventana se cierre."
     ]
    },
    {
     "cell_type": "markdown",
     "metadata": {},
     "source": [
      "Todos los ejemplos que siguen asumen que estamos usando `matplotlib` dentro de IPython Notebook, de modo que conviene recordar la linea con la que empezamos esta discusion, de otro modo no veran nada al ejecutar sus programas! (confirmen este comportamiento abriendo una nueva libreta y ejecutando las instrucciones para graficar las lineas _sin_ hacer el llamado a `%matplotlin inline`)."
     ]
    },
    {
     "cell_type": "markdown",
     "metadata": {},
     "source": [
      "## Votos de rabanos\n",
      "\n",
      "Usemos `matplotlib` para generar una grafica de barras que muestre los votos contados para cada variedad de rabanos. Copien el programa que hicieron en el modulo anterior y ejecutenlo para tener acceso a la variable que contiene los votos."
     ]
    },
    {
     "cell_type": "code",
     "collapsed": false,
     "input": [
      "# Escriban y ejecuten el codigo en esta celda\n",
      "counts = {}\n",
      "for line in open(\"../encuestarabanos.txt\"):\n",
      "    line = line.strip()\n",
      "    name, vote = line.split(\" - \")\n",
      "    # munge the vote string to clean it up\n",
      "    vote = vote.strip()\n",
      "    vote = vote.capitalize()\n",
      "    vote = vote.replace('  ', ' ')\n",
      "    if not vote in counts:\n",
      "        # First vote for this variety\n",
      "        counts[vote] = 1\n",
      "    else:\n",
      "        # Increment the vote count\n",
      "        counts[vote] = counts[vote] + 1\n",
      "# counts"
     ],
     "language": "python",
     "metadata": {},
     "outputs": [],
     "prompt_number": 2
    },
    {
     "cell_type": "markdown",
     "metadata": {},
     "source": [
      "Ahora copien el siguiente programa a una celda y ejecutenlo\n",
      "\n",
      "    import matplotlib.pyplot as plt\n",
      "    import numpy as np\n",
      "    \n",
      "    names = []\n",
      "    votes = []\n",
      "    # Split the dictionary of name:votes into two lists, one for names and one for vote count\n",
      "    for radish in counts:\n",
      "        names.append(radish)\n",
      "        votes.append(counts[radish])\n",
      "    \n",
      "    # The X axis can just be numbered 0,1,2,3...\n",
      "    x = np.arange(len(counts))\n",
      "    \n",
      "    plt.bar(x, votes)\n",
      "    plt.xticks(x + 0.5, names, rotation=90)\n"
     ]
    },
    {
     "cell_type": "code",
     "collapsed": false,
     "input": [
      "import matplotlib.pyplot as plt\n",
      "import numpy as np\n",
      "\n",
      "names = []\n",
      "votes = []\n",
      "# Split the dictionary of name:votes into two lists, one for names and one for vote count\n",
      "for radish in counts:\n",
      "    names.append(radish)\n",
      "    votes.append(counts[radish])\n",
      "    \n",
      "# The X axis can just be numbered 0,1,2,3...\n",
      "x = np.arange(len(counts))\n",
      "\n",
      "plt.bar(x, votes);\n",
      "plt.xticks(x + 0.5, names, rotation=90);"
     ],
     "language": "python",
     "metadata": {},
     "outputs": [
      {
       "metadata": {},
       "output_type": "display_data",
       "png": "[encoded data removed]",
       "text": [
        "<matplotlib.figure.Figure at 0x7ff5762d9890>"
       ]
      }
     ],
     "prompt_number": 7
    },
    {
     "cell_type": "markdown",
     "metadata": {},
     "source": [
      "## Ejercicio\n",
      "\n",
      "Adapten el codigo para que el eje vertical tenga texto indicando que representa el numero de votos. La documentacion de la funcion [ylabel() de pyplot](http://matplotlib.org/api/pyplot_api.html#matplotlib.pyplot.ylabel) puede ser de utilidad."
     ]
    },
    {
     "cell_type": "markdown",
     "metadata": {},
     "source": [
      "## Mas informacion\n",
      "\n",
      "`matplotlib` y `pyplot` son _frameworks_ para graficacion y visualizacion poderosos y versatiles.\n",
      "\n",
      "La [galeria de ejemplos de `matplotlib`](http://matplotlib.org/gallery.html#pylab_examples) y [el tutorial de `pyplot`](http://matplotlib.org/users/pyplot_tutorial.html) contienen buenos ejemplos de las capacidades y opciones que ofrecen.\n",
      "\n",
      "En general, las herramientas de estos paquetes osn complejas, de modo que ayuda copiar y modificar los ejemplos. Seguiremos usando estas librerias a lo largo del curso."
     ]
    },
    {
     "cell_type": "markdown",
     "metadata": {},
     "source": [
      "## Modulo siguiente\n",
      "\n",
      "Antes de pasar al siguiente modulo, guarden los cambios realizados a su documento.\n",
      "\n",
      "En el siguiente modulo seguiremos [analizando datos usando ejemplos reales](../Dia2/Lib11_ArchivosCSV.ipynb)"
     ]
    }
   ],
   "metadata": {}
  }
 ]
}