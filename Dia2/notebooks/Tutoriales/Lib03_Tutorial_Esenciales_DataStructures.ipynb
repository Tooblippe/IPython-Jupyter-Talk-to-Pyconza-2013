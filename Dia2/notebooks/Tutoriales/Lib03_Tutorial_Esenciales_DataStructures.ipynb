{
 "metadata": {
  "name": "",
  "signature": "sha256:f0da0dd39ae7f167ffac747e34a4968c5780b17805cbd45133fe25c3a7a76732"
 },
 "nbformat": 3,
 "nbformat_minor": 0,
 "worksheets": [
  {
   "cells": [
    {
     "cell_type": "code",
     "collapsed": false,
     "input": [
      "%run ../talktools.py"
     ],
     "language": "python",
     "metadata": {},
     "outputs": [
      {
       "html": [
        "\n",
        "<style>\n",
        "    @font-face {\n",
        "        font-family: \"Computer Modern\";\n",
        "        src: url('http://mirrors.ctan.org/fonts/cm-unicode/fonts/otf/cmunss.otf');\n",
        "    }\n",
        "    div.cell{\n",
        "        width:800px;\n",
        "        margin-left:auto !important;\n",
        "        margin-right:auto;\n",
        "\t\tmargin-top:1em;\n",
        "\t\tmargin-bottom:1em;\n",
        "    }\n",
        "    h1 {\n",
        "        font-family: Helvetica, serif;\n",
        "\t\tbackground-color:#b0c4de;\n",
        "\n",
        "\t\t\n",
        "    }\n",
        "\th2 {\n",
        "        font-family: Helvetica, serif;\n",
        "\t\tbackground-color:#b0c4de;\n",
        "\t\t\n",
        "\t\t\n",
        "    }\n",
        "\th3 {\n",
        "        font-family: Helvetica, serif;\n",
        "\t\tbackground-color:#b0c4de;\n",
        "\t\t\n",
        "    }\n",
        "    h4{\n",
        "        margin-top:12px;\n",
        "        margin-bottom: 3px;\n",
        "       }\n",
        "    div.text_cell_render{\n",
        "        font-family: Computer Modern, \"Helvetica Neue\", Arial, Helvetica, Geneva, sans-serif;\n",
        "        line-height: 145%;\n",
        "        font-size: 130%;\n",
        "        width:800px;\n",
        "        margin-left:auto;\n",
        "        margin-right:auto;\n",
        "    }\n",
        "    .CodeMirror{\n",
        "            font-family: \"Source Code Pro\", source-code-pro,Consolas, monospace;\n",
        "    }\n",
        "    \n",
        "    .text_cell_render h5 {\n",
        "        font-weight: 300;\n",
        "        font-size: 22pt;\n",
        "        color: #4057A1;\n",
        "        font-style: italic;\n",
        "        margin-bottom: .5em;\n",
        "        margin-top: 0.5em;\n",
        "        display: block;\n",
        "    }\n",
        "    \n",
        "    .warning{\n",
        "        color: rgb( 240, 20, 20 )\n",
        "        }  \n",
        "\n",
        "\t\tdiv.cell.code_cell {  /* Areat containing both code and output */\n",
        "\t\tbackground-color:#F1F0FF; /* light blue */\n",
        "\t\tborder-radius: 10px; /* rounded borders = friendlier */\n",
        "\t\tpadding: 1em;\n",
        "\t\t}\n",
        "</style>\n",
        "<script>\n",
        "    MathJax.Hub.Config({\n",
        "                        TeX: {\n",
        "                           extensions: [\"AMSmath.js\"]\n",
        "                           },\n",
        "                tex2jax: {\n",
        "                    inlineMath: [ ['$','$'], [\"\\\\(\",\"\\\\)\"] ],\n",
        "                    displayMath: [ ['$$','$$'], [\"\\\\[\",\"\\\\]\"] ]\n",
        "                },\n",
        "                displayAlign: 'center', // Change this to 'center' to center equations.\n",
        "                \"HTML-CSS\": {\n",
        "                    styles: {'.MathJax_Display': {\"margin\": 4}}\n",
        "                }\n",
        "        });\n",
        "</script>"
       ],
       "metadata": {},
       "output_type": "display_data",
       "text": [
        "<IPython.core.display.HTML at 0x105eaba90>"
       ]
      }
     ],
     "prompt_number": 1
    },
    {
     "cell_type": "markdown",
     "metadata": {},
     "source": [
      "Esenciales de Python\n",
      "=====\n",
      "En este modulo presentamos las estructuras conocidas en Python como **diccionarios**."
     ]
    },
    {
     "cell_type": "markdown",
     "metadata": {},
     "source": [
      "### Diccionarios\n",
      "\n",
      "El otro tipo de datos fundamental son los diccionarios. Un diccionario permite asociar una parte de los datos (una llave, \"key\") con otra (el valor, \"value\"). Esta analogia viene de los diccionarios reales, donde se asocia una palabra con su significado. Son un poco mas dificiles de entender que las listas, pero Python hace muy sencillo su uso."
     ]
    },
    {
     "cell_type": "markdown",
     "metadata": {},
     "source": [
      "Pueden crear un diccionario con ``{}``\n",
      "\n",
      "    comidas = {}\n",
      "\n",
      "Y agregar elementos al diccionario de la siguiente manera:\n",
      "\n",
      "    comidas[\"platano\"] = \"Un bocado amarillo exquisito!\"\n",
      "    comidas[\"lodo\"]   = \"No muy rico. NO COMER!\"\n",
      "\n",
      "En este ejemplo, las llaves (keys) son \"platano\" y \"lodo\", y los valores (values) son aquellos que asignamos a las llaves. Como llave puede usarse cualquier tipo de dato que no cambie. Prueben usando un numero, un valor booleano y una lista como llaves en un diccionario. Que les dice esto de las cadenas de caracteres?"
     ]
    },
    {
     "cell_type": "markdown",
     "metadata": {},
     "source": [
      "Como con las listas, puede verse que hay en un diccionario:\n",
      "\n",
      "    >>> comidas\n",
      "    {'platano': 'Un bocado amarillo exquisito!', 'lodo': 'No muy rico. NO COMER!'}"
     ]
    },
    {
     "cell_type": "markdown",
     "metadata": {},
     "source": [
      "Puede consultarse cualquierentrada en un diccionario usando su llave:\n",
      "\n",
      "    >>> comidas[\"platano\"]\n",
      "    'Un bocado amarillo exquisito!'"
     ]
    },
    {
     "cell_type": "markdown",
     "metadata": {},
     "source": [
      "Si la llave no se encuentra en el diccionario, ocurre un `KeyError`:\n",
      "\n",
      "    >>> comidas[\"queso\"]\n",
      "    Traceback (most recent call last):\n",
      "      File \"<stdin>\", line 1, in <module>\n",
      "    KeyError: 'queso'"
     ]
    },
    {
     "cell_type": "markdown",
     "metadata": {},
     "source": [
      "Por esta razon, es posible probar si una llave esta o no en un diccionario, usando la palabra `in`:\n",
      "\n",
      "    if \"queso\" in comidas:\n",
      "        print(\"Queso es una comida conocida!\")\n",
      "        print(comidas[\"queso\"])\n",
      "\n",
      "`not in` tambien sirve, intentenlo."
     ]
    },
    {
     "cell_type": "markdown",
     "metadata": {},
     "source": [
      "Podemos borrar de un diccionario. Por ejemplo, no necesitamos una entrada para el lodo:\n",
      "\n",
      "    del comidas[\"lodo\"]"
     ]
    },
    {
     "cell_type": "markdown",
     "metadata": {},
     "source": [
      "Lo que hace muy utiles a los diccionarios es que podemos asignar significado a los elementos. Una lista es solamente una bolsa llena de objetos, pero un diccionario es un mapeo especifico de algo en otra cosa. Al combinar listas y diccionarios se puede describir basicamente cualquier estructura usada en computacion."
     ]
    },
    {
     "cell_type": "markdown",
     "metadata": {},
     "source": [
      "Por ejemplo, es muy sencillo incluir una lista en un diccionario:\n",
      "\n",
      "    ingredientes = {}\n",
      "    ingredientes[\"sandwich jlt\"] = [\"pan\", \"jitomate\", \"lechuga\", \"tocino\"]"
     ]
    },
    {
     "cell_type": "markdown",
     "metadata": {},
     "source": [
      "O agregar dictcionarios a listas:\n",
      "\n",
      "    europa = []\n",
      "    alemania = {\"nombre\": \"Alemania\", \"poblacion\": 81000000}\n",
      "    europa.append(alemania)\n",
      "    luxemburgo = {\"nombre\": \"Luxemburgo\", \"poblacion\": 512000}\n",
      "    europa.append(luxemburgo)"
     ]
    },
    {
     "cell_type": "markdown",
     "metadata": {},
     "source": [
      "Fuera de Python, los diccionarios se conocen como ``tablas hash``, ``mapas hash`` o solo ``mapas``."
     ]
    },
    {
     "cell_type": "markdown",
     "metadata": {},
     "source": [
      "## Ejercicio\n",
      "\n",
      "1. Ejecuten todas las celdas de esta libreta.\n",
      "\n",
      "2. Agreguen un diccionario a la lista de plantas que crearon en el modulo anterior, dandole los siguientes atributos a cada planta: \n",
      "\n",
      " * nombre: una cadena de texto especificando el nombre de la planta\n",
      " * es_arbusto, una variable booleana\n",
      " * es_arbol, una variable booleana\n",
      " * imagen, un enlace a una fotografia de la planta en internet (por ejemplo en [Wikipedia](http://es.wikipedia.org/), en [FigShare](figshare.com) o en la [Biblioteca Science Photo Library](http://www.sciencephoto.com)."
     ]
    },
    {
     "cell_type": "markdown",
     "metadata": {},
     "source": [
      "## Modulo siguiente\n",
      "Antes de pasar al siguiente modulo, guarden los cambios realizados.\n",
      "\n",
      "En el siguiente modulo veremos como trabajar con [archivos de texto en Python.](../Dia2/Lib04_Esenciales_TextFiles.ipynb)"
     ]
    }
   ],
   "metadata": {}
  }
 ]
}