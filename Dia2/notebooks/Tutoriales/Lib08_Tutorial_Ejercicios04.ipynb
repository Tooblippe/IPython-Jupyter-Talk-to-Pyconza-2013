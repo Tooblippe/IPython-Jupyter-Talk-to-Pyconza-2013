{
 "cells": [
  {
   "cell_type": "markdown",
   "metadata": {},
   "source": [
    "# IPython y IPython Notebooks\n",
    "\n",
    "\n",
    "\n",
    "El contenido de esta libreta esta basado en [Python-Cientifico-HCC](http://nbviewer.ipython.org/github/damianavila/Python-Cientifico-HCC/tree/master/) de Damian Avila."
   ]
  },
  {
   "cell_type": "markdown",
   "metadata": {},
   "source": [
    "### Descripción."
   ]
  },
  {
   "cell_type": "markdown",
   "metadata": {},
   "source": [
    "**Es una poderosa herramienta para la computación científica interactiva y exploratoria.**\n",
    "\n",
    "* Intérpretes interactivos *poderosos* (terminal y basado en Qt).\n",
    "* Un web-notebook con las mismas funcionalidades básicas que los interpretes interactivos pero con soporte para video, texto, código, expresiones matematicas y plot embebidos.\n",
    "* Soporte para la visualización interactiva de datos y uso de bibliotecas GUI.\n",
    "* Herramientas de alta performance para la cumputación en paralelo."
   ]
  },
  {
   "cell_type": "markdown",
   "metadata": {},
   "source": [
    "#### Encendiendo motores..."
   ]
  },
  {
   "cell_type": "markdown",
   "metadata": {},
   "source": [
    "```\n",
    "(ipython_dev)damian@damian-Inspiron-1110:~$ ipython notebook\n",
    "```"
   ]
  },
  {
   "cell_type": "markdown",
   "metadata": {},
   "source": [
    "```\n",
    "2013-05-10 12:11:26.912 [NotebookApp] Using existing profile dir: u'/home/damian/.config/ipython/profile_default'\n",
    "2013-05-10 12:11:26.937 [NotebookApp] Using MathJax from CDN: http://cdn.mathjax.org/mathjax/latest/MathJax.js\n",
    "2013-05-10 12:11:26.984 [NotebookApp] The port 8888 is already in use, trying another random port.\n",
    "2013-05-10 12:11:26.985 [NotebookApp] Serving notebooks from local directory: /home/damian\n",
    "2013-05-10 12:11:26.985 [NotebookApp] The IPython Notebook is running at: http://127.0.0.1:8888/\n",
    "2013-05-10 12:11:26.986 [NotebookApp] Use Control-C to stop this server and shut down all kernels.\n",
    "Se ha abierto una nueva ventana en la sesión actual del navegador.\n",
    "```"
   ]
  },
  {
   "cell_type": "markdown",
   "metadata": {},
   "source": [
    "y ejecutando un *hola mundo*:"
   ]
  },
  {
   "cell_type": "code",
   "execution_count": 1,
   "metadata": {
    "collapsed": false
   },
   "outputs": [
    {
     "name": "stdout",
     "output_type": "stream",
     "text": [
      "Hola RySi 2015\n"
     ]
    }
   ],
   "source": [
    "print \"Hola RySi 2015\""
   ]
  },
  {
   "cell_type": "code",
   "execution_count": 2,
   "metadata": {
    "collapsed": false
   },
   "outputs": [],
   "source": [
    "a = 1"
   ]
  },
  {
   "cell_type": "code",
   "execution_count": 3,
   "metadata": {
    "collapsed": false
   },
   "outputs": [
    {
     "data": {
      "text/plain": [
       "1"
      ]
     },
     "execution_count": 3,
     "metadata": {},
     "output_type": "execute_result"
    }
   ],
   "source": [
    "a"
   ]
  },
  {
   "cell_type": "markdown",
   "metadata": {},
   "source": [
    "La representación de los objetos es más legible:"
   ]
  },
  {
   "cell_type": "code",
   "execution_count": 4,
   "metadata": {
    "collapsed": false
   },
   "outputs": [],
   "source": [
    "from numpy.random import randn\n",
    "data = {i : randn() for i in range(7)}"
   ]
  },
  {
   "cell_type": "code",
   "execution_count": 5,
   "metadata": {
    "collapsed": false
   },
   "outputs": [
    {
     "data": {
      "text/plain": [
       "{0: 0.9428841525856904,\n",
       " 1: 1.165063252749645,\n",
       " 2: 1.308665792696693,\n",
       " 3: -0.8000502965205039,\n",
       " 4: 0.4853678668880446,\n",
       " 5: 0.03887308359359395,\n",
       " 6: 1.9373711669042895}"
      ]
     },
     "execution_count": 5,
     "metadata": {},
     "output_type": "execute_result"
    }
   ],
   "source": [
    "data"
   ]
  },
  {
   "cell_type": "code",
   "execution_count": 6,
   "metadata": {
    "collapsed": false
   },
   "outputs": [
    {
     "name": "stdout",
     "output_type": "stream",
     "text": [
      "{0: 0.6512988528977837, 1: 0.5240925908050613, 2: -0.8488047039989695, 3: 0.5773754635792333, 4: 0.13304051330295186, 5: -0.50229331002119, 6: -1.4593748753264693}\n"
     ]
    }
   ],
   "source": [
    ">>> from numpy.random import randn\n",
    ">>> data = {i : randn() for i in range(7)}\n",
    ">>> print data # pequeña trampa para verlo como se vería en consola"
   ]
  },
  {
   "cell_type": "markdown",
   "metadata": {},
   "source": [
    "### 2.3.2. Completado por < TAB >."
   ]
  },
  {
   "cell_type": "code",
   "execution_count": 7,
   "metadata": {
    "collapsed": false
   },
   "outputs": [],
   "source": [
    "Facundo = 1"
   ]
  },
  {
   "cell_type": "code",
   "execution_count": 8,
   "metadata": {
    "collapsed": false
   },
   "outputs": [],
   "source": [
    "Facultad = 8"
   ]
  },
  {
   "cell_type": "code",
   "execution_count": 9,
   "metadata": {
    "collapsed": false
   },
   "outputs": [],
   "source": [
    "Fa = 4"
   ]
  },
  {
   "cell_type": "markdown",
   "metadata": {},
   "source": [
    "Busqueda de variables en el espacio de nombres: variable_de_interés**`<TAB>`**:"
   ]
  },
  {
   "cell_type": "code",
   "execution_count": null,
   "metadata": {
    "collapsed": false
   },
   "outputs": [],
   "source": [
    "Fa"
   ]
  },
  {
   "cell_type": "markdown",
   "metadata": {},
   "source": [
    "Acceso a métodos y atributos, por ejemplo, objeto_de_interés**.`<TAB>`**:"
   ]
  },
  {
   "cell_type": "code",
   "execution_count": 10,
   "metadata": {
    "collapsed": false
   },
   "outputs": [],
   "source": [
    "lista = [1, 2, 3, 4, 5]"
   ]
  },
  {
   "cell_type": "code",
   "execution_count": null,
   "metadata": {
    "collapsed": false
   },
   "outputs": [],
   "source": [
    "lista."
   ]
  },
  {
   "cell_type": "markdown",
   "metadata": {},
   "source": [
    "Lo mismo para los módulos, por ejemplo, modulo_de_interés**.`<TAB>`**:"
   ]
  },
  {
   "cell_type": "code",
   "execution_count": 11,
   "metadata": {
    "collapsed": false
   },
   "outputs": [],
   "source": [
    "import datetime"
   ]
  },
  {
   "cell_type": "code",
   "execution_count": null,
   "metadata": {
    "collapsed": false
   },
   "outputs": [],
   "source": [
    "datetime."
   ]
  },
  {
   "cell_type": "code",
   "execution_count": null,
   "metadata": {
    "collapsed": false
   },
   "outputs": [],
   "source": [
    "datetime._"
   ]
  },
  {
   "cell_type": "markdown",
   "metadata": {},
   "source": [
    "Incluso para directorios, por ejemplo, carpeta_de_interés**/`<TAB>`**:"
   ]
  },
  {
   "cell_type": "code",
   "execution_count": 12,
   "metadata": {
    "collapsed": false
   },
   "outputs": [
    {
     "name": "stdout",
     "output_type": "stream",
     "text": [
      "1_Python_Cientifico_Intro.ipynb  README.md\r\n",
      "6_Herramientas_avanzadas.ipynb\t SciPyConAr_IPython.ipynb\r\n",
      "images\t\t\t\t SciPyConAr_Matplotlib.ipynb\r\n",
      "PairsTrading_0.1_Damian.ipynb\t SciPyConAr_NumPy.ipynb\r\n",
      "PairsTrading_0.1_etf.ipynb\t SciPyConAr_SciPy.ipynb\r\n",
      "random-matrix.csv\t\t scripts\r\n",
      "random-matrix.npy\t\t stockholm_td_adj.dat\r\n"
     ]
    }
   ],
   "source": [
    "!ls # pequeño truco para pasar comandos a consola..."
   ]
  },
  {
   "cell_type": "code",
   "execution_count": null,
   "metadata": {
    "collapsed": false
   },
   "outputs": [],
   "source": [
    "scripts/"
   ]
  },
  {
   "cell_type": "code",
   "execution_count": 14,
   "metadata": {
    "collapsed": false
   },
   "outputs": [
    {
     "name": "stdout",
     "output_type": "stream",
     "text": [
      "hola_mundo.py\r\n"
     ]
    }
   ],
   "source": [
    "!ls scripts/"
   ]
  },
  {
   "cell_type": "markdown",
   "metadata": {},
   "source": [
    "### 2.3.3. Introspección de objetos."
   ]
  },
  {
   "cell_type": "code",
   "execution_count": 15,
   "metadata": {
    "collapsed": false
   },
   "outputs": [],
   "source": [
    "lista?"
   ]
  },
  {
   "cell_type": "markdown",
   "metadata": {},
   "source": [
    "Apliquemoslo a una función propia:"
   ]
  },
  {
   "cell_type": "code",
   "execution_count": 16,
   "metadata": {
    "collapsed": false
   },
   "outputs": [],
   "source": [
    "def suma(a, b):\n",
    "    \"\"\"\n",
    "    Demo de una función que suma cosas...\n",
    "    \"\"\"\n",
    "    return a + b"
   ]
  },
  {
   "cell_type": "code",
   "execution_count": 17,
   "metadata": {
    "collapsed": false
   },
   "outputs": [],
   "source": [
    "suma?"
   ]
  },
  {
   "cell_type": "code",
   "execution_count": 18,
   "metadata": {
    "collapsed": false
   },
   "outputs": [],
   "source": [
    "suma??"
   ]
  },
  {
   "cell_type": "markdown",
   "metadata": {},
   "source": [
    "El **\"?\"** También puede servirnos para la busqueda en el espacio de nombres de IPython:"
   ]
  },
  {
   "cell_type": "code",
   "execution_count": 21,
   "metadata": {
    "collapsed": false
   },
   "outputs": [],
   "source": [
    "import numpy as np\n",
    "np.*lin*?"
   ]
  },
  {
   "cell_type": "markdown",
   "metadata": {},
   "source": [
    "### 2.3.4. %run, Forest... %run."
   ]
  },
  {
   "cell_type": "markdown",
   "metadata": {},
   "source": [
    "Con el comando `%run` podemos ejecutar cualquier archivo `.py` en un espacio de nombres **limpio**, sin `imports` ni `variables` definidas (a menos que corramos `%run -i`).\n",
    "\n",
    "Demo:\n",
    "\n",
    "```\n",
    "!mkdir temporal/\n",
    "!touch temporal/mi_programa.py\n",
    "!ls temporal/\n",
    "!cat temporal/mi_programa.py\n",
    "```"
   ]
  },
  {
   "cell_type": "code",
   "execution_count": 22,
   "metadata": {
    "collapsed": false
   },
   "outputs": [
    {
     "name": "stdout",
     "output_type": "stream",
     "text": [
      "mi_programa.py\n"
     ]
    }
   ],
   "source": [
    "%%bash\n",
    "mkdir temporal/\n",
    "touch temporal/mi_programa.py\n",
    "ls temporal/"
   ]
  },
  {
   "cell_type": "code",
   "execution_count": 23,
   "metadata": {
    "collapsed": false
   },
   "outputs": [],
   "source": [
    "!cat temporal/mi_programa.py\n",
    "# archivo vacio"
   ]
  },
  {
   "cell_type": "code",
   "execution_count": 24,
   "metadata": {
    "collapsed": false
   },
   "outputs": [
    {
     "name": "stdout",
     "output_type": "stream",
     "text": [
      "Overwriting temporal/mi_programa.py\n"
     ]
    }
   ],
   "source": [
    "%%writefile temporal/mi_programa.py\n",
    "def mi_funcion(x, y):\n",
    "    \"\"\"\n",
    "    Demo\n",
    "    \"\"\"\n",
    "    return x / y\n",
    "\n",
    "x = 4\n",
    "y = 2\n",
    "\n",
    "resultado = mi_funcion(x, y)"
   ]
  },
  {
   "cell_type": "code",
   "execution_count": 25,
   "metadata": {
    "collapsed": false
   },
   "outputs": [
    {
     "name": "stdout",
     "output_type": "stream",
     "text": [
      "def mi_funcion(x, y):\r\n",
      "    \"\"\"\r\n",
      "    Demo\r\n",
      "    \"\"\"\r\n",
      "    return x / y\r\n",
      "\r\n",
      "x = 4\r\n",
      "y = 2\r\n",
      "\r\n",
      "resultado = mi_funcion(x, y)"
     ]
    }
   ],
   "source": [
    "!cat temporal/mi_programa.py"
   ]
  },
  {
   "cell_type": "code",
   "execution_count": 26,
   "metadata": {
    "collapsed": false
   },
   "outputs": [],
   "source": [
    "%run temporal/mi_programa.py"
   ]
  },
  {
   "cell_type": "code",
   "execution_count": 27,
   "metadata": {
    "collapsed": false
   },
   "outputs": [
    {
     "data": {
      "text/plain": [
       "2"
      ]
     },
     "execution_count": 27,
     "metadata": {},
     "output_type": "execute_result"
    }
   ],
   "source": [
    "resultado"
   ]
  },
  {
   "cell_type": "markdown",
   "metadata": {},
   "source": [
    "### 2.3.5. Excepciones y Tracebacks."
   ]
  },
  {
   "cell_type": "code",
   "execution_count": 28,
   "metadata": {
    "collapsed": false
   },
   "outputs": [
    {
     "name": "stdout",
     "output_type": "stream",
     "text": [
      "Overwriting temporal/mi_programa.py\n"
     ]
    }
   ],
   "source": [
    "%%writefile temporal/mi_programa.py\n",
    "def mi_funcion(x, y):\n",
    "    \"\"\"\n",
    "    Demo\n",
    "    \"\"\"\n",
    "    return x / y\n",
    "\n",
    "x = 4\n",
    "y = 0\n",
    "\n",
    "resultado = mi_funcion(x, y)"
   ]
  },
  {
   "cell_type": "code",
   "execution_count": 29,
   "metadata": {
    "collapsed": false
   },
   "outputs": [
    {
     "ename": "ZeroDivisionError",
     "evalue": "integer division or modulo by zero",
     "output_type": "error",
     "traceback": [
      "\u001b[1;31m---------------------------------------------------------------------------\u001b[0m\n\u001b[1;31mZeroDivisionError\u001b[0m                         Traceback (most recent call last)",
      "\u001b[1;32m/home/damian/.virtualenvs/blog/local/lib/python2.7/site-packages/IPython/utils/py3compat.pyc\u001b[0m in \u001b[0;36mexecfile\u001b[1;34m(fname, *where)\u001b[0m\n\u001b[0;32m    202\u001b[0m             \u001b[1;32melse\u001b[0m\u001b[1;33m:\u001b[0m\u001b[1;33m\u001b[0m\u001b[0m\n\u001b[0;32m    203\u001b[0m                 \u001b[0mfilename\u001b[0m \u001b[1;33m=\u001b[0m \u001b[0mfname\u001b[0m\u001b[1;33m\u001b[0m\u001b[0m\n\u001b[1;32m--> 204\u001b[1;33m             \u001b[0m__builtin__\u001b[0m\u001b[1;33m.\u001b[0m\u001b[0mexecfile\u001b[0m\u001b[1;33m(\u001b[0m\u001b[0mfilename\u001b[0m\u001b[1;33m,\u001b[0m \u001b[1;33m*\u001b[0m\u001b[0mwhere\u001b[0m\u001b[1;33m)\u001b[0m\u001b[1;33m\u001b[0m\u001b[0m\n\u001b[0m",
      "\u001b[1;32m/media/datos/Presentacion/SciPyConAr_Python_Cientifico/temporal/mi_programa.py\u001b[0m in \u001b[0;36m<module>\u001b[1;34m()\u001b[0m\n\u001b[0;32m      8\u001b[0m \u001b[0my\u001b[0m \u001b[1;33m=\u001b[0m \u001b[1;36m0\u001b[0m\u001b[1;33m\u001b[0m\u001b[0m\n\u001b[0;32m      9\u001b[0m \u001b[1;33m\u001b[0m\u001b[0m\n\u001b[1;32m---> 10\u001b[1;33m \u001b[0mresultado\u001b[0m \u001b[1;33m=\u001b[0m \u001b[0mmi_funcion\u001b[0m\u001b[1;33m(\u001b[0m\u001b[0mx\u001b[0m\u001b[1;33m,\u001b[0m \u001b[0my\u001b[0m\u001b[1;33m)\u001b[0m\u001b[1;33m\u001b[0m\u001b[0m\n\u001b[0m",
      "\u001b[1;32m/media/datos/Presentacion/SciPyConAr_Python_Cientifico/temporal/mi_programa.py\u001b[0m in \u001b[0;36mmi_funcion\u001b[1;34m(x, y)\u001b[0m\n\u001b[0;32m      3\u001b[0m     \u001b[0mDemo\u001b[0m\u001b[1;33m\u001b[0m\u001b[0m\n\u001b[0;32m      4\u001b[0m     \"\"\"\n\u001b[1;32m----> 5\u001b[1;33m     \u001b[1;32mreturn\u001b[0m \u001b[0mx\u001b[0m \u001b[1;33m/\u001b[0m \u001b[0my\u001b[0m\u001b[1;33m\u001b[0m\u001b[0m\n\u001b[0m\u001b[0;32m      6\u001b[0m \u001b[1;33m\u001b[0m\u001b[0m\n\u001b[0;32m      7\u001b[0m \u001b[0mx\u001b[0m \u001b[1;33m=\u001b[0m \u001b[1;36m4\u001b[0m\u001b[1;33m\u001b[0m\u001b[0m\n",
      "\u001b[1;31mZeroDivisionError\u001b[0m: integer division or modulo by zero"
     ]
    }
   ],
   "source": [
    "%run temporal/mi_programa.py"
   ]
  },
  {
   "cell_type": "markdown",
   "metadata": {},
   "source": [
    "### 2.3.6. \"It a kind of Magic...\""
   ]
  },
  {
   "cell_type": "markdown",
   "metadata": {},
   "source": [
    "Los *magics* son comandos que facilitan las tareas más comunes y/o permiten interaccionar y controlar IPython. \n",
    "\n",
    "Se reconocen por estar precedidos por **`%`** (*line-magics*) o **`%%`** (*cell-magics*).\n",
    "\n",
    "Explicación detallada, tenemos un *magic* para ello: **`%magic`**:"
   ]
  },
  {
   "cell_type": "code",
   "execution_count": 30,
   "metadata": {
    "collapsed": false
   },
   "outputs": [],
   "source": [
    "%magic"
   ]
  },
  {
   "cell_type": "code",
   "execution_count": 31,
   "metadata": {
    "collapsed": false
   },
   "outputs": [
    {
     "data": {
      "application/json": {
       "cell": {
        "!": "OSMagics",
        "HTML": "Other",
        "SVG": "Other",
        "bash": "Other",
        "capture": "ExecutionMagics",
        "debug": "ExecutionMagics",
        "file": "Other",
        "html": "DisplayMagics",
        "javascript": "DisplayMagics",
        "latex": "DisplayMagics",
        "perl": "Other",
        "prun": "ExecutionMagics",
        "pypy": "Other",
        "python": "Other",
        "python3": "Other",
        "ruby": "Other",
        "script": "ScriptMagics",
        "sh": "Other",
        "svg": "DisplayMagics",
        "sx": "OSMagics",
        "system": "OSMagics",
        "time": "ExecutionMagics",
        "timeit": "ExecutionMagics",
        "writefile": "OSMagics"
       },
       "line": {
        "alias": "OSMagics",
        "alias_magic": "BasicMagics",
        "autocall": "AutoMagics",
        "automagic": "AutoMagics",
        "autosave": "KernelMagics",
        "bookmark": "OSMagics",
        "cd": "OSMagics",
        "clear": "KernelMagics",
        "colors": "BasicMagics",
        "config": "ConfigMagics",
        "connect_info": "KernelMagics",
        "debug": "ExecutionMagics",
        "dhist": "OSMagics",
        "dirs": "OSMagics",
        "doctest_mode": "KernelMagics",
        "ed": "Other",
        "edit": "KernelMagics",
        "env": "OSMagics",
        "gui": "BasicMagics",
        "hist": "Other",
        "history": "HistoryMagics",
        "install_default_config": "DeprecatedMagics",
        "install_ext": "ExtensionMagics",
        "install_profiles": "DeprecatedMagics",
        "killbgscripts": "ScriptMagics",
        "less": "KernelMagics",
        "load": "CodeMagics",
        "load_ext": "ExtensionMagics",
        "loadpy": "CodeMagics",
        "logoff": "LoggingMagics",
        "logon": "LoggingMagics",
        "logstart": "LoggingMagics",
        "logstate": "LoggingMagics",
        "logstop": "LoggingMagics",
        "lsmagic": "BasicMagics",
        "macro": "ExecutionMagics",
        "magic": "BasicMagics",
        "man": "KernelMagics",
        "matplotlib": "PylabMagics",
        "more": "KernelMagics",
        "notebook": "BasicMagics",
        "page": "BasicMagics",
        "pastebin": "CodeMagics",
        "pdb": "ExecutionMagics",
        "pdef": "NamespaceMagics",
        "pdoc": "NamespaceMagics",
        "pfile": "NamespaceMagics",
        "pinfo": "NamespaceMagics",
        "pinfo2": "NamespaceMagics",
        "popd": "OSMagics",
        "pprint": "BasicMagics",
        "precision": "BasicMagics",
        "profile": "BasicMagics",
        "prun": "ExecutionMagics",
        "psearch": "NamespaceMagics",
        "psource": "NamespaceMagics",
        "pushd": "OSMagics",
        "pwd": "OSMagics",
        "pycat": "OSMagics",
        "pylab": "PylabMagics",
        "qtconsole": "KernelMagics",
        "quickref": "BasicMagics",
        "recall": "HistoryMagics",
        "rehashx": "OSMagics",
        "reload_ext": "ExtensionMagics",
        "rep": "Other",
        "rerun": "HistoryMagics",
        "reset": "NamespaceMagics",
        "reset_selective": "NamespaceMagics",
        "run": "ExecutionMagics",
        "save": "CodeMagics",
        "sc": "OSMagics",
        "store": "StoreMagics",
        "sx": "OSMagics",
        "system": "OSMagics",
        "tb": "ExecutionMagics",
        "time": "ExecutionMagics",
        "timeit": "ExecutionMagics",
        "unalias": "OSMagics",
        "unload_ext": "ExtensionMagics",
        "who": "NamespaceMagics",
        "who_ls": "NamespaceMagics",
        "whos": "NamespaceMagics",
        "xdel": "NamespaceMagics",
        "xmode": "BasicMagics"
       }
      },
      "text/plain": [
       "Available line magics:\n",
       "%alias  %alias_magic  %autocall  %automagic  %autosave  %bookmark  %cd  %clear  %colors  %config  %connect_info  %debug  %dhist  %dirs  %doctest_mode  %ed  %edit  %env  %gui  %hist  %history  %install_default_config  %install_ext  %install_profiles  %killbgscripts  %less  %load  %load_ext  %loadpy  %logoff  %logon  %logstart  %logstate  %logstop  %lsmagic  %macro  %magic  %man  %matplotlib  %more  %notebook  %page  %pastebin  %pdb  %pdef  %pdoc  %pfile  %pinfo  %pinfo2  %popd  %pprint  %precision  %profile  %prun  %psearch  %psource  %pushd  %pwd  %pycat  %pylab  %qtconsole  %quickref  %recall  %rehashx  %reload_ext  %rep  %rerun  %reset  %reset_selective  %run  %save  %sc  %store  %sx  %system  %tb  %time  %timeit  %unalias  %unload_ext  %who  %who_ls  %whos  %xdel  %xmode\n",
       "\n",
       "Available cell magics:\n",
       "%%!  %%HTML  %%SVG  %%bash  %%capture  %%debug  %%file  %%html  %%javascript  %%latex  %%perl  %%prun  %%pypy  %%python  %%python3  %%ruby  %%script  %%sh  %%svg  %%sx  %%system  %%time  %%timeit  %%writefile\n",
       "\n",
       "Automagic is ON, % prefix IS NOT needed for line magics."
      ]
     },
     "execution_count": 31,
     "metadata": {},
     "output_type": "execute_result"
    }
   ],
   "source": [
    "%lsmagic # si queremos listar todas las magics disponibles"
   ]
  },
  {
   "cell_type": "code",
   "execution_count": 32,
   "metadata": {
    "collapsed": false
   },
   "outputs": [],
   "source": [
    "%quickref # referencia rápida"
   ]
  },
  {
   "cell_type": "code",
   "execution_count": 33,
   "metadata": {
    "collapsed": false
   },
   "outputs": [],
   "source": [
    "quickref # si %automagic está ON"
   ]
  },
  {
   "cell_type": "markdown",
   "metadata": {},
   "source": [
    "OK, usemos una *magic* (**`%timeit`**) a modo de ejemplo:"
   ]
  },
  {
   "cell_type": "code",
   "execution_count": 34,
   "metadata": {
    "collapsed": false
   },
   "outputs": [],
   "source": [
    "%timeit?"
   ]
  },
  {
   "cell_type": "code",
   "execution_count": 35,
   "metadata": {
    "collapsed": false
   },
   "outputs": [],
   "source": [
    "m = np.random.randn(100, 100) # matriz de números aleatorios de 100 x 100"
   ]
  },
  {
   "cell_type": "code",
   "execution_count": 36,
   "metadata": {
    "collapsed": false
   },
   "outputs": [
    {
     "data": {
      "text/plain": [
       "array([[ 0.64201774, -0.38347844, -0.7890974 , ..., -0.46518725,\n",
       "        -0.47730066,  0.59527553],\n",
       "       [-1.72622707,  0.74743633, -0.85308879, ...,  1.42442569,\n",
       "        -1.65892221, -0.16731257],\n",
       "       [-0.51145336, -2.38426458,  0.07501939, ..., -0.5910769 ,\n",
       "         0.51592869, -1.57094979],\n",
       "       ..., \n",
       "       [-0.73568139,  1.45216464,  0.06415584, ..., -1.76705521,\n",
       "        -0.60617697, -2.12174131],\n",
       "       [ 1.72783127,  0.94125702, -0.72083119, ...,  1.295081  ,\n",
       "        -0.3173796 , -0.32551457],\n",
       "       [ 0.61688356, -2.44552169,  1.78567795, ...,  1.06696316,\n",
       "        -0.60935242, -0.26821413]])"
      ]
     },
     "execution_count": 36,
     "metadata": {},
     "output_type": "execute_result"
    }
   ],
   "source": [
    "m"
   ]
  },
  {
   "cell_type": "code",
   "execution_count": 37,
   "metadata": {
    "collapsed": false
   },
   "outputs": [
    {
     "name": "stdout",
     "output_type": "stream",
     "text": [
      "1000 loops, best of 3: 1.82 ms per loop\n"
     ]
    }
   ],
   "source": [
    "%timeit np.dot(m, m) # multiplicación vectorial de matrices"
   ]
  },
  {
   "cell_type": "code",
   "execution_count": 38,
   "metadata": {
    "collapsed": false
   },
   "outputs": [
    {
     "name": "stdout",
     "output_type": "stream",
     "text": [
      "100 loops, best of 10: 1.82 ms per loop\n"
     ]
    }
   ],
   "source": [
    "%timeit -n 100 -r 10 np.dot(m, m) # las magics aceptan parámetros"
   ]
  },
  {
   "cell_type": "markdown",
   "metadata": {},
   "source": [
    "Algunas **`magics`** de uso frecuente que aun no hemos comentado:"
   ]
  },
  {
   "cell_type": "code",
   "execution_count": 39,
   "metadata": {
    "collapsed": false
   },
   "outputs": [
    {
     "name": "stdout",
     "output_type": "stream",
     "text": [
      "Fa\tFacultad\tFacundo\ta\tdata\tdatetime\tlista\tm\tmi_funcion\t\n",
      "np\trandn\tresultado\tsuma\tx\ty\t\n"
     ]
    }
   ],
   "source": [
    "%who"
   ]
  },
  {
   "cell_type": "code",
   "execution_count": 40,
   "metadata": {
    "collapsed": false
   },
   "outputs": [
    {
     "data": {
      "text/plain": [
       "['Fa',\n",
       " 'Facultad',\n",
       " 'Facundo',\n",
       " 'a',\n",
       " 'data',\n",
       " 'datetime',\n",
       " 'lista',\n",
       " 'm',\n",
       " 'mi_funcion',\n",
       " 'np',\n",
       " 'randn',\n",
       " 'resultado',\n",
       " 'suma',\n",
       " 'x',\n",
       " 'y']"
      ]
     },
     "execution_count": 40,
     "metadata": {},
     "output_type": "execute_result"
    }
   ],
   "source": [
    "%who_ls"
   ]
  },
  {
   "cell_type": "code",
   "execution_count": 41,
   "metadata": {
    "collapsed": false
   },
   "outputs": [
    {
     "name": "stdout",
     "output_type": "stream",
     "text": [
      "Variable     Type                          Data/Info\n",
      "----------------------------------------------------\n",
      "Fa           int                           4\n",
      "Facultad     int                           8\n",
      "Facundo      int                           1\n",
      "a            int                           1\n",
      "data         dict                          n=7\n",
      "datetime     module                        <module 'datetime' from '<...>ime.x86_64-linux-gnu.so'>\n",
      "lista        list                          n=5\n",
      "m            ndarray                       100x100: 10000 elems, type `float64`, 80000 bytes\n",
      "mi_funcion   function                      <function mi_funcion at 0x2a9ac80>\n",
      "np           module                        <module 'numpy' from '/ho<...>ages/numpy/__init__.pyc'>\n",
      "randn        builtin_function_or_method    <built-in method randn of<...>object at 0x7fc7bda98678>\n",
      "resultado    int                           2\n",
      "suma         function                      <function suma at 0x2a9a500>\n",
      "x            int                           4\n",
      "y            int                           0\n"
     ]
    }
   ],
   "source": [
    "%whos"
   ]
  },
  {
   "cell_type": "code",
   "execution_count": 42,
   "metadata": {
    "collapsed": false
   },
   "outputs": [
    {
     "name": "stdout",
     "output_type": "stream",
     "text": [
      "Fa\tFacultad\tFacundo\ta\tdata\tdatetime\tlista\tm\tmi_funcion\t\n",
      "np\trandn\tsuma\tx\ty\t\n"
     ]
    }
   ],
   "source": [
    "%xdel resultado\n",
    "%who"
   ]
  },
  {
   "cell_type": "code",
   "execution_count": 44,
   "metadata": {
    "collapsed": false
   },
   "outputs": [
    {
     "name": "stdout",
     "output_type": "stream",
     "text": [
      "Once deleted, variables cannot be recovered. Proceed (y/[n])? y\n"
     ]
    }
   ],
   "source": [
    "%reset"
   ]
  },
  {
   "cell_type": "code",
   "execution_count": 45,
   "metadata": {
    "collapsed": false
   },
   "outputs": [
    {
     "ename": "NameError",
     "evalue": "name 'm' is not defined",
     "output_type": "error",
     "traceback": [
      "\u001b[1;31m---------------------------------------------------------------------------\u001b[0m\n\u001b[1;31mNameError\u001b[0m                                 Traceback (most recent call last)",
      "\u001b[1;32m<ipython-input-45-69b64623f86d>\u001b[0m in \u001b[0;36m<module>\u001b[1;34m()\u001b[0m\n\u001b[1;32m----> 1\u001b[1;33m \u001b[0mm\u001b[0m\u001b[1;33m\u001b[0m\u001b[0m\n\u001b[0m",
      "\u001b[1;31mNameError\u001b[0m: name 'm' is not defined"
     ]
    }
   ],
   "source": [
    "m"
   ]
  },
  {
   "cell_type": "markdown",
   "metadata": {},
   "source": [
    "Nota: `%paste` y `%cpaste` son `magics` con uso frecuente en la consola de IPython."
   ]
  },
  {
   "cell_type": "markdown",
   "metadata": {},
   "source": [
    "### 2.3.7. Dos `magics` muy útiles."
   ]
  },
  {
   "cell_type": "code",
   "execution_count": null,
   "metadata": {
    "collapsed": false
   },
   "outputs": [],
   "source": [
    "%qtconsole"
   ]
  },
  {
   "cell_type": "code",
   "execution_count": 47,
   "metadata": {
    "collapsed": false
   },
   "outputs": [
    {
     "name": "stdout",
     "output_type": "stream",
     "text": [
      "Using matplotlib backend: agg\n"
     ]
    }
   ],
   "source": [
    "%matplotlib"
   ]
  },
  {
   "cell_type": "markdown",
   "metadata": {},
   "source": [
    "### 2.4. IPython básico (parte 2)."
   ]
  },
  {
   "cell_type": "markdown",
   "metadata": {},
   "source": [
    "### 2.4.1. Haciendo uso de la historia..."
   ]
  },
  {
   "cell_type": "markdown",
   "metadata": {},
   "source": [
    "`Inputs` y `Outputs`:"
   ]
  },
  {
   "cell_type": "code",
   "execution_count": 48,
   "metadata": {
    "collapsed": false
   },
   "outputs": [
    {
     "data": {
      "text/plain": [
       "16"
      ]
     },
     "execution_count": 48,
     "metadata": {},
     "output_type": "execute_result"
    }
   ],
   "source": [
    "2**4"
   ]
  },
  {
   "cell_type": "code",
   "execution_count": 49,
   "metadata": {
    "collapsed": false
   },
   "outputs": [
    {
     "data": {
      "text/plain": [
       "16"
      ]
     },
     "execution_count": 49,
     "metadata": {},
     "output_type": "execute_result"
    }
   ],
   "source": [
    "_"
   ]
  },
  {
   "cell_type": "code",
   "execution_count": 50,
   "metadata": {
    "collapsed": false
   },
   "outputs": [
    {
     "data": {
      "text/plain": [
       "'bar'"
      ]
     },
     "execution_count": 50,
     "metadata": {},
     "output_type": "execute_result"
    }
   ],
   "source": [
    "foo = \"bar\"\n",
    "foo"
   ]
  },
  {
   "cell_type": "code",
   "execution_count": 51,
   "metadata": {
    "collapsed": false
   },
   "outputs": [
    {
     "data": {
      "text/plain": [
       "u'foo = \"bar\"\\nfoo'"
      ]
     },
     "execution_count": 51,
     "metadata": {},
     "output_type": "execute_result"
    }
   ],
   "source": [
    "_i50"
   ]
  },
  {
   "cell_type": "code",
   "execution_count": 52,
   "metadata": {
    "collapsed": false
   },
   "outputs": [
    {
     "data": {
      "text/plain": [
       "'bar'"
      ]
     },
     "execution_count": 52,
     "metadata": {},
     "output_type": "execute_result"
    }
   ],
   "source": [
    "_50"
   ]
  },
  {
   "cell_type": "code",
   "execution_count": 53,
   "metadata": {
    "collapsed": false
   },
   "outputs": [
    {
     "data": {
      "text/plain": [
       "'baz'"
      ]
     },
     "execution_count": 53,
     "metadata": {},
     "output_type": "execute_result"
    }
   ],
   "source": [
    "foo = \"baz\"\n",
    "foo"
   ]
  },
  {
   "cell_type": "code",
   "execution_count": 54,
   "metadata": {
    "collapsed": false
   },
   "outputs": [],
   "source": [
    "exec _i50"
   ]
  },
  {
   "cell_type": "code",
   "execution_count": 55,
   "metadata": {
    "collapsed": false
   },
   "outputs": [
    {
     "data": {
      "text/plain": [
       "'bar'"
      ]
     },
     "execution_count": 55,
     "metadata": {},
     "output_type": "execute_result"
    }
   ],
   "source": [
    "foo"
   ]
  },
  {
   "cell_type": "markdown",
   "metadata": {},
   "source": [
    "Note: Logging `magics` (`%logstart`, `%logstate`, `%logstop`, `%logon` y `%logoff`) son útiles en la consola de IPython."
   ]
  },
  {
   "cell_type": "markdown",
   "metadata": {},
   "source": [
    "### 2.4.2. Interacción con el OS."
   ]
  },
  {
   "cell_type": "markdown",
   "metadata": {},
   "source": [
    "Usamos el signo de exclamación (**`!`**) para enviar el comando a la consola del sistema:"
   ]
  },
  {
   "cell_type": "code",
   "execution_count": 56,
   "metadata": {
    "collapsed": false
   },
   "outputs": [
    {
     "name": "stdout",
     "output_type": "stream",
     "text": [
      "/media/datos/Presentacion/SciPyConAr_Python_Cientifico\r\n"
     ]
    }
   ],
   "source": [
    "!pwd "
   ]
  },
  {
   "cell_type": "markdown",
   "metadata": {},
   "source": [
    "Incluso podemos capturar el output en una variable (en forma de una lista)"
   ]
  },
  {
   "cell_type": "code",
   "execution_count": 57,
   "metadata": {
    "collapsed": false
   },
   "outputs": [],
   "source": [
    "mes = !cal"
   ]
  },
  {
   "cell_type": "code",
   "execution_count": 58,
   "metadata": {
    "collapsed": false
   },
   "outputs": [
    {
     "data": {
      "text/plain": [
       "'  Septiembre 2013     '"
      ]
     },
     "execution_count": 58,
     "metadata": {},
     "output_type": "execute_result"
    }
   ],
   "source": [
    "este_mes = mes[0]\n",
    "este_mes"
   ]
  },
  {
   "cell_type": "markdown",
   "metadata": {},
   "source": [
    "Pueden utilizarse variables definidas en el espacio de nombres actual, precediéndolas con el signo **`$`**:"
   ]
  },
  {
   "cell_type": "code",
   "execution_count": 59,
   "metadata": {
    "collapsed": false
   },
   "outputs": [],
   "source": [
    "ipy_notebooks = '*.ipynb'"
   ]
  },
  {
   "cell_type": "code",
   "execution_count": 60,
   "metadata": {
    "collapsed": false
   },
   "outputs": [
    {
     "name": "stdout",
     "output_type": "stream",
     "text": [
      "1_Python_Cientifico_Intro.ipynb  SciPyConAr_IPython.ipynb\r\n",
      "6_Herramientas_avanzadas.ipynb\t SciPyConAr_Matplotlib.ipynb\r\n",
      "images\t\t\t\t SciPyConAr_NumPy.ipynb\r\n",
      "PairsTrading_0.1_Damian.ipynb\t SciPyConAr_SciPy.ipynb\r\n",
      "PairsTrading_0.1_etf.ipynb\t scripts\r\n",
      "random-matrix.csv\t\t stockholm_td_adj.dat\r\n",
      "random-matrix.npy\t\t temporal\r\n",
      "README.md\r\n"
     ]
    }
   ],
   "source": [
    "!ls"
   ]
  },
  {
   "cell_type": "code",
   "execution_count": 61,
   "metadata": {
    "collapsed": false
   },
   "outputs": [
    {
     "name": "stdout",
     "output_type": "stream",
     "text": [
      "1_Python_Cientifico_Intro.ipynb  SciPyConAr_IPython.ipynb\r\n",
      "6_Herramientas_avanzadas.ipynb\t SciPyConAr_Matplotlib.ipynb\r\n",
      "PairsTrading_0.1_Damian.ipynb\t SciPyConAr_NumPy.ipynb\r\n",
      "PairsTrading_0.1_etf.ipynb\t SciPyConAr_SciPy.ipynb\r\n"
     ]
    }
   ],
   "source": [
    "!ls $ipy_notebooks"
   ]
  },
  {
   "cell_type": "markdown",
   "metadata": {},
   "source": [
    "Asimismo puedo establecer \"apodos\" o **`%alias`** de la siguiente forma:"
   ]
  },
  {
   "cell_type": "code",
   "execution_count": 62,
   "metadata": {
    "collapsed": false
   },
   "outputs": [],
   "source": [
    "%alias ld ls -l"
   ]
  },
  {
   "cell_type": "code",
   "execution_count": 63,
   "metadata": {
    "collapsed": false
   },
   "outputs": [
    {
     "name": "stdout",
     "output_type": "stream",
     "text": [
      "total 7772\r\n",
      "-rw-rw-r-- 1 damian damian   22666 sep 20 13:00 1_Python_Cientifico_Intro.ipynb\r\n",
      "-rw-rw-r-- 1 damian damian  682829 sep 20 12:43 6_Herramientas_avanzadas.ipynb\r\n",
      "drwxrwxr-x 2 damian damian    4096 sep 19 15:20 \u001b[0m\u001b[01;34mimages\u001b[0m/\r\n",
      "-rw-rw-r-- 1 damian damian  931205 sep 20 01:42 PairsTrading_0.1_Damian.ipynb\r\n",
      "-rw-rw-r-- 1 damian damian  668205 sep 19 17:41 PairsTrading_0.1_etf.ipynb\r\n",
      "-rw-rw-r-- 1 damian damian      72 sep 20 11:44 random-matrix.csv\r\n",
      "-rw-rw-r-- 1 damian damian     152 sep 20 11:44 random-matrix.npy\r\n",
      "-rw-rw-r-- 1 damian damian     782 sep 19 15:20 README.md\r\n",
      "-rw-rw-r-- 1 damian damian   43277 sep 20 13:07 SciPyConAr_IPython.ipynb\r\n",
      "-rw-rw-r-- 1 damian damian 1516905 sep 20 12:01 SciPyConAr_Matplotlib.ipynb\r\n",
      "-rw-rw-r-- 1 damian damian   66539 sep 20 12:03 SciPyConAr_NumPy.ipynb\r\n",
      "-rw-rw-r-- 1 damian damian 1107362 sep 20 12:23 SciPyConAr_SciPy.ipynb\r\n",
      "drwxrwxr-x 2 damian damian    4096 sep 19 15:20 \u001b[01;34mscripts\u001b[0m/\r\n",
      "-rw-rw-r-- 1 damian damian 2864946 sep 19 15:20 stockholm_td_adj.dat\r\n",
      "drwxrwxr-x 2 damian damian    4096 sep 20 13:05 \u001b[01;34mtemporal\u001b[0m/\r\n"
     ]
    }
   ],
   "source": [
    "ld"
   ]
  },
  {
   "cell_type": "markdown",
   "metadata": {},
   "source": [
    "El **`%alias`** puede incluso contener varios comandos separados por (**`;`**):"
   ]
  },
  {
   "cell_type": "code",
   "execution_count": 64,
   "metadata": {
    "collapsed": false
   },
   "outputs": [],
   "source": [
    "%alias l_datos (cd /media/datos; ls)"
   ]
  },
  {
   "cell_type": "code",
   "execution_count": 65,
   "metadata": {
    "collapsed": false
   },
   "outputs": [
    {
     "name": "stdout",
     "output_type": "stream",
     "text": [
      "Desarrollos  Documentos  Imágenes    Música\t   Programas  virtualenvs\r\n",
      "Descargas    Ejemplos\t lost+found  Presentacion  Vídeos\r\n"
     ]
    }
   ],
   "source": [
    "l_datos"
   ]
  },
  {
   "cell_type": "markdown",
   "metadata": {},
   "source": [
    "Puedo usar marcadores para directorios de uso recurrente:"
   ]
  },
  {
   "cell_type": "code",
   "execution_count": 66,
   "metadata": {
    "collapsed": false
   },
   "outputs": [],
   "source": [
    "%bookmark datos /media/datos"
   ]
  },
  {
   "cell_type": "code",
   "execution_count": 67,
   "metadata": {
    "collapsed": false
   },
   "outputs": [
    {
     "name": "stdout",
     "output_type": "stream",
     "text": [
      "(bookmark:datos) -> /media/datos\n",
      "/media/datos\n"
     ]
    }
   ],
   "source": [
    "%cd datos"
   ]
  },
  {
   "cell_type": "code",
   "execution_count": 68,
   "metadata": {
    "collapsed": false
   },
   "outputs": [
    {
     "name": "stdout",
     "output_type": "stream",
     "text": [
      "Desarrollos  Documentos  Imágenes    Música\t   Programas  virtualenvs\r\n",
      "Descargas    Ejemplos\t lost+found  Presentacion  Vídeos\r\n"
     ]
    }
   ],
   "source": [
    "!ls"
   ]
  },
  {
   "cell_type": "markdown",
   "metadata": {},
   "source": [
    "### 2.4.3. Debugging. "
   ]
  },
  {
   "cell_type": "markdown",
   "metadata": {},
   "source": [
    "* `%debug` (post-mortem debugger, lo inicializás después de la aparición de una excepción).\n",
    "* `%pdb` (inicializa el debugger después de cada excepción)."
   ]
  },
  {
   "cell_type": "markdown",
   "metadata": {},
   "source": [
    "### 2.4.4. Profiling."
   ]
  },
  {
   "cell_type": "markdown",
   "metadata": {},
   "source": [
    "* `%prun` o `%run -p` (profiling en general).\n",
    "* `%lprun` (profiling por linea, necesita de line-profiler)."
   ]
  },
  {
   "cell_type": "markdown",
   "metadata": {},
   "source": [
    "### 2.4.5. Configuración."
   ]
  },
  {
   "cell_type": "markdown",
   "metadata": {},
   "source": [
    "* Intro:\n",
    "    * http://ipython.org/ipython-doc/dev/config/overview.html\n",
    "* Perfiles:\n",
    "    * http://ipython.org/ipython-doc/dev/config/overview.html#profiles\n",
    "* Extensiones:\n",
    "    * http://ipython.org/ipython-doc/dev/config/extensions/index.\n",
    "    * https://github.com/ipython/ipython/wiki/Extensions-Index"
   ]
  }
 ],
 "metadata": {
  "kernelspec": {
   "display_name": "Python 2",
   "language": "python",
   "name": "python2"
  },
  "language_info": {
   "codemirror_mode": {
    "name": "ipython",
    "version": 2
   },
   "file_extension": ".py",
   "mimetype": "text/x-python",
   "name": "python",
   "nbconvert_exporter": "python",
   "pygments_lexer": "ipython2",
   "version": "2.7.10"
  }
 },
 "nbformat": 4,
 "nbformat_minor": 0
}
