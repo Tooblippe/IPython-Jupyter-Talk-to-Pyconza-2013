{
 "metadata": {
  "name": "",
  "signature": "sha256:e1dab431832b1c01eab672b89e1428d62685be06edf785891ef7b1ec6e0d9f62"
 },
 "nbformat": 3,
 "nbformat_minor": 0,
 "worksheets": [
  {
   "cells": [
    {
     "cell_type": "code",
     "collapsed": false,
     "input": [
      "%run ../talktools.py"
     ],
     "language": "python",
     "metadata": {},
     "outputs": [
      {
       "html": [
        "\n",
        "<style>\n",
        "    @font-face {\n",
        "        font-family: \"Computer Modern\";\n",
        "        src: url('http://mirrors.ctan.org/fonts/cm-unicode/fonts/otf/cmunss.otf');\n",
        "    }\n",
        "    div.cell{\n",
        "        width:800px;\n",
        "        margin-left:auto !important;\n",
        "        margin-right:auto;\n",
        "\t\tmargin-top:1em;\n",
        "\t\tmargin-bottom:1em;\n",
        "    }\n",
        "    h1 {\n",
        "        font-family: Helvetica, serif;\n",
        "\t\tbackground-color:#b0c4de;\n",
        "\n",
        "\t\t\n",
        "    }\n",
        "\th2 {\n",
        "        font-family: Helvetica, serif;\n",
        "\t\tbackground-color:#b0c4de;\n",
        "\t\t\n",
        "\t\t\n",
        "    }\n",
        "\th3 {\n",
        "        font-family: Helvetica, serif;\n",
        "\t\tbackground-color:#b0c4de;\n",
        "\t\t\n",
        "    }\n",
        "    h4{\n",
        "        margin-top:12px;\n",
        "        margin-bottom: 3px;\n",
        "       }\n",
        "    div.text_cell_render{\n",
        "        font-family: Computer Modern, \"Helvetica Neue\", Arial, Helvetica, Geneva, sans-serif;\n",
        "        line-height: 145%;\n",
        "        font-size: 130%;\n",
        "        width:800px;\n",
        "        margin-left:auto;\n",
        "        margin-right:auto;\n",
        "    }\n",
        "    .CodeMirror{\n",
        "            font-family: \"Source Code Pro\", source-code-pro,Consolas, monospace;\n",
        "    }\n",
        "    \n",
        "    .text_cell_render h5 {\n",
        "        font-weight: 300;\n",
        "        font-size: 22pt;\n",
        "        color: #4057A1;\n",
        "        font-style: italic;\n",
        "        margin-bottom: .5em;\n",
        "        margin-top: 0.5em;\n",
        "        display: block;\n",
        "    }\n",
        "    \n",
        "    .warning{\n",
        "        color: rgb( 240, 20, 20 )\n",
        "        }  \n",
        "\n",
        "\t\tdiv.cell.code_cell {  /* Areat containing both code and output */\n",
        "\t\tbackground-color:#F1F0FF; /* light blue */\n",
        "\t\tborder-radius: 10px; /* rounded borders = friendlier */\n",
        "\t\tpadding: 1em;\n",
        "\t\t}\n",
        "</style>\n",
        "<script>\n",
        "    MathJax.Hub.Config({\n",
        "                        TeX: {\n",
        "                           extensions: [\"AMSmath.js\"]\n",
        "                           },\n",
        "                tex2jax: {\n",
        "                    inlineMath: [ ['$','$'], [\"\\\\(\",\"\\\\)\"] ],\n",
        "                    displayMath: [ ['$$','$$'], [\"\\\\[\",\"\\\\]\"] ]\n",
        "                },\n",
        "                displayAlign: 'center', // Change this to 'center' to center equations.\n",
        "                \"HTML-CSS\": {\n",
        "                    styles: {'.MathJax_Display': {\"margin\": 4}}\n",
        "                }\n",
        "        });\n",
        "</script>"
       ],
       "metadata": {},
       "output_type": "display_data",
       "text": [
        "<IPython.core.display.HTML at 0x105eaba90>"
       ]
      }
     ],
     "prompt_number": 1
    },
    {
     "cell_type": "markdown",
     "metadata": {},
     "source": [
      "Esenciales de Python 2\n",
      "=====\n",
      "\n",
      "Cuando trabajamos con datos, necesitamos una manera de guardarlos en variables de manera que podamos manipularlos. Usaremos dos nuevos tipos de estructuras que quizas no conozcan:  **listas** y **diccionarios**.\n",
      "\n",
      "En este modulo veremos las **listas**"
     ]
    },
    {
     "cell_type": "markdown",
     "metadata": {},
     "source": [
      "## Entendiendo las estructuras de datos\n",
      "\n",
      "Tres de los tipos de datos mas comunes usados en programacion son: numeros, cadenas (de caracteres) y booleanos. En Python estos tipos de datos se asignan a variables uno por uno, como en:\n",
      "\n",
      "    x = 3          # numeros\n",
      "    a = \"gorilas\"  # cadenas\n",
      "    t = True       # booleanos\n",
      "\n",
      "Pero que pasa si necesitamos algo mas complicado, como una lista del supermercado. Asignando una variable para cada elemento de la lista podria hacer que las cosas fueran complicandose rapidamente:\n",
      "\n",
      "    item_1 = \"leche\"\n",
      "    item_2 = \"queso\"\n",
      "    item_3 = \"pan\""
     ]
    },
    {
     "cell_type": "markdown",
     "metadata": {},
     "source": [
      "### Listas\n",
      "\n",
      "Python proporciona un manera de evitar este tipo de cosas. En lugar de esto, existe el tipo de datos 'lista', ``list``. Una lista vacia, sin elementos, es simplemente ``[]``:\n",
      "\n",
      "    lista_del_super = []\n",
      "\n",
      "Si estan en el interprete de Python, pueden ver que hay dentro de una lista escribiendo el nombre de la lista. Por ejemplo:\n",
      "\n",
      "    >>> lista_del_super\n",
      "    []"
     ]
    },
    {
     "cell_type": "markdown",
     "metadata": {},
     "source": [
      "El interprete muestra que la lista esta vacia.\n",
      "\n",
      "Para agregar elementos a la ``lista_del_super``, usamos los siguientes comandos:\n",
      "\n",
      "    lista_del_super.append(\"leche\")\n",
      "    lista_del_super.append(\"queso\")\n",
      "    lista_del_super.append(\"pan\")"
     ]
    },
    {
     "cell_type": "markdown",
     "metadata": {},
     "source": [
      "Que hay ahora en la `lista_del_super`?\n",
      "Que ocurre si agregamos numeros o booleanos a la lista?"
     ]
    },
    {
     "cell_type": "markdown",
     "metadata": {},
     "source": [
      "Tambien podemos asignar una lista con algunos elementos en una sola linea, por ejemplo:\n",
      "\n",
      "    lista_del_super = [ \"leche\", \"queso\", \"pan\" ]"
     ]
    },
    {
     "cell_type": "markdown",
     "metadata": {},
     "source": [
      "Para remover un elemento de lista, usamos ``remove()``:\n",
      "\n",
      "    lista_del_super.remove(\"leche\")"
     ]
    },
    {
     "cell_type": "markdown",
     "metadata": {},
     "source": [
      "Las listas pueden usarse y procesarse facilmente dentro de un loop usando `for`. Vean el siguiente ejemplo el cual imprime cada elemento de la lista en un renglon nuevo:\n",
      "\n",
      "    for item in lista_del_super:\n",
      "        print(item)"
     ]
    },
    {
     "cell_type": "markdown",
     "metadata": {},
     "source": [
      "Eso es todo! En Python es muy facil checar si algo esta o no en una lista:\n",
      "\n",
      "    if \"leche\" in lista_del_super:\n",
      "        print(\"Mmmh! Que rico.\")\n",
      "\n",
      "    if \"huevos\" not in lista_del_super:\n",
      "        print(\"No podemos tener eso!\")\n",
      "        shopping_list.append(\"huevos\")"
     ]
    },
    {
     "cell_type": "markdown",
     "metadata": {},
     "source": [
      "Las listas son las estructuras de datos mas comunes en programacion. Existen muchas otras cosas que pueden hacerse con ellas, y todos los lenguajes tienen ligeras diferencias en su interpretacion, pero fundamentalmente son todas similares.\n",
      "\n",
      "En resumen:\n",
      "\n",
      "    lista_del_super = []\n",
      "    lista_del_super.append(\"galletas\")\n",
      "    lista_del_super.remove(\"galletas\")"
     ]
    },
    {
     "cell_type": "markdown",
     "metadata": {},
     "source": [
      "## Ejercicios\n",
      "1. Ejecuten todas las celdas de esta libreta\n",
      "\n",
      "2. Crear una lista de al menos tres nombres de plantas.\n",
      "3. Agregar una nueva planta a su lista.\n",
      "4. Checar si la planta \"encinos\" esta en su lista, si no esta, incluyanla."
     ]
    },
    {
     "cell_type": "markdown",
     "metadata": {},
     "source": [
      "## Modulo siguiente\n",
      "Antes de pasar al siguiente modulo, guarden los cambios realizados.\n",
      "\n",
      "El siguiente modulo presenta el [otro tipo de estructuras comun en Python, diccionarios.](Lib03_Esenciales_DataStructures.ipynb)"
     ]
    }
   ],
   "metadata": {}
  }
 ]
}