{
 "cells": [
  {
   "cell_type": "markdown",
   "metadata": {},
   "source": [
    "# Dia 2, Libreta 5 acelerometro\n",
    "\n",
    "En esta libreta accederemos a los datos de su acelerometro. Nuevamente importen el modulo y creen un objeto `android`."
   ]
  },
  {
   "cell_type": "code",
   "execution_count": 1,
   "metadata": {
    "collapsed": true
   },
   "outputs": [],
   "source": [
    "import android\n",
    "droide=android.Android()"
   ]
  },
  {
   "cell_type": "code",
   "execution_count": 3,
   "metadata": {
    "collapsed": false
   },
   "outputs": [
    {
     "data": {
      "text/plain": [
       "Result(id=1, result=None, error=None)"
      ]
     },
     "execution_count": 3,
     "metadata": {},
     "output_type": "execute_result"
    }
   ],
   "source": [
    "droide.ttsSpeak(\"hola bato\")"
   ]
  },
  {
   "cell_type": "code",
   "execution_count": 4,
   "metadata": {
    "collapsed": true
   },
   "outputs": [],
   "source": [
    "# 100ms entre lecturas\n",
    "dt = 100\n",
    "# duracion de la muestras\n",
    "fin = 3000"
   ]
  },
  {
   "cell_type": "markdown",
   "metadata": {},
   "source": [
    "Inicializamos el tiempo de censado e iniciamos censado en el dispositivo"
   ]
  },
  {
   "cell_type": "code",
   "execution_count": 5,
   "metadata": {
    "collapsed": false
   },
   "outputs": [
    {
     "data": {
      "text/plain": [
       "Result(id=2, result=None, error=None)"
      ]
     },
     "execution_count": 5,
     "metadata": {},
     "output_type": "execute_result"
    }
   ],
   "source": [
    "tiempo = 0\n",
    "droide.startSensingTimed(2,dt)"
   ]
  },
  {
   "cell_type": "markdown",
   "metadata": {},
   "source": [
    "La siguiente instruccion regresa los valores de la lectura del acelerometro:"
   ]
  },
  {
   "cell_type": "code",
   "execution_count": 7,
   "metadata": {
    "collapsed": false
   },
   "outputs": [
    {
     "data": {
      "text/plain": [
       "Result(id=3, result=[0.08140286, 0.12569559, 9.6767645], error=None)"
      ]
     },
     "execution_count": 7,
     "metadata": {},
     "output_type": "execute_result"
    }
   ],
   "source": [
    "droide.sensorsReadAccelerometer()"
   ]
  },
  {
   "cell_type": "markdown",
   "metadata": {},
   "source": [
    "Guardaremos estas lecturas en una variable que contendra los datos"
   ]
  },
  {
   "cell_type": "code",
   "execution_count": 6,
   "metadata": {
    "collapsed": true
   },
   "outputs": [],
   "source": [
    "lecturas = []"
   ]
  },
  {
   "cell_type": "markdown",
   "metadata": {},
   "source": [
    "Ahora censamos hasta que el tiempo alcance el tiempo de sensado"
   ]
  },
  {
   "cell_type": "code",
   "execution_count": 10,
   "metadata": {
    "collapsed": false
   },
   "outputs": [],
   "source": [
    "import time\n",
    "while tiempo <= fin:\n",
    "    lecturas.append(droide.sensorsReadAccelerometer().result)\n",
    "    time.sleep(dt/1000.0)\n",
    "    tiempo += dt\n",
    "    \n",
    "droide.stopSensing();"
   ]
  },
  {
   "cell_type": "code",
   "execution_count": 11,
   "metadata": {
    "collapsed": false
   },
   "outputs": [
    {
     "data": {
      "text/plain": [
       "[[0.0712275, 0.109534726, 9.687539],\n",
       " [0.073621705, 0.1352724, 9.671976],\n",
       " [0.062249243, 0.14664486, 9.675568],\n",
       " [0.08619126, 0.13347675, 9.667188],\n",
       " [0.073621705, 0.12210429, 9.689933],\n",
       " [0.08319851, 0.12150574, 9.704897],\n",
       " [0.0676362, 0.1400608, 9.660006],\n",
       " [0.08319851, 0.1340753, 9.671378],\n",
       " [0.076015905, 0.12090719, 9.701305],\n",
       " [0.077811554, 0.12928689, 9.660006],\n",
       " [0.075417355, 0.12330139, 9.661801],\n",
       " [0.08619126, 0.12389994, 9.691729],\n",
       " [0.06584055, 0.12389994, 9.673173],\n",
       " [0.06464344, 0.12689269, 9.700109],\n",
       " [0.088585466, 0.14784196, 9.640852],\n",
       " [0.074220255, 0.110133275, 9.689933],\n",
       " [0.060453594, 0.12808979, 9.670779],\n",
       " [0.07062895, 0.12030864, 9.669582],\n",
       " [0.088585466, 0.12509704, 9.680356],\n",
       " [0.08379706, 0.13347675, 9.650429],\n",
       " [0.050278235, 0.110133275, 9.679159],\n",
       " [0.061650693, 0.12868834, 9.705495],\n",
       " [0.0712275, 0.11731588, 9.662998],\n",
       " [0.0688333, 0.12749124, 9.661202],\n",
       " [0.094570965, 0.11671733, 9.656414],\n",
       " [0.08080431, 0.11671733, 9.689933],\n",
       " [0.0700304, 0.109534726, 9.683349],\n",
       " [0.08439561, 0.12509704, 9.654019],\n",
       " [0.06344634, 0.12330139, 9.6923275],\n",
       " [0.077213004, 0.1316811, 9.687539],\n",
       " [0.05327099, 0.11971009, 9.719262],\n",
       " [0.076015905, 0.11851298, 9.656414],\n",
       " [0.09756372, 0.15562311, 9.654618]]"
      ]
     },
     "execution_count": 11,
     "metadata": {},
     "output_type": "execute_result"
    }
   ],
   "source": [
    "lecturas"
   ]
  },
  {
   "cell_type": "code",
   "execution_count": 16,
   "metadata": {
    "collapsed": true
   },
   "outputs": [],
   "source": [
    "import pandas as pd\n",
    "%matplotlib inline"
   ]
  },
  {
   "cell_type": "code",
   "execution_count": 14,
   "metadata": {
    "collapsed": false
   },
   "outputs": [],
   "source": [
    "df = pd.DataFrame(lecturas, columns=['x','y','z'])"
   ]
  },
  {
   "cell_type": "code",
   "execution_count": 17,
   "metadata": {
    "collapsed": false
   },
   "outputs": [
    {
     "name": "stdout",
     "output_type": "stream",
     "text": [
      "<class 'pandas.core.frame.DataFrame'>\n",
      "Int64Index: 33 entries, 0 to 32\n",
      "Data columns (total 3 columns):\n",
      "x    33 non-null float64\n",
      "y    33 non-null float64\n",
      "z    33 non-null float64\n",
      "dtypes: float64(3)\n",
      "memory usage: 1.0 KB\n"
     ]
    }
   ],
   "source": [
    "df.info()"
   ]
  },
  {
   "cell_type": "code",
   "execution_count": 21,
   "metadata": {
    "collapsed": false
   },
   "outputs": [
    {
     "data": {
      "text/plain": [
       "<matplotlib.axes._subplots.AxesSubplot at 0xc38e2e8>"
      ]
     },
     "execution_count": 21,
     "metadata": {},
     "output_type": "execute_result"
    },
    {
     "data": {
      "image/png": "[encoded data removed]",
      "text/plain": [
       "<matplotlib.figure.Figure at 0xc332b00>"
      ]
     },
     "metadata": {},
     "output_type": "display_data"
    }
   ],
   "source": [
    "df.plot()"
   ]
  },
  {
   "cell_type": "markdown",
   "metadata": {},
   "source": [
    "# Ejercicio\n",
    "\n",
    "Escriban un script que lleve a cabo unicamente la lectura de los datos del acelerometro de su dispositivo y copienlo en el folder correspondiente para ejecutarlo desde sus dispositivos."
   ]
  }
 ],
 "metadata": {
  "kernelspec": {
   "display_name": "Python 2",
   "language": "python",
   "name": "python2"
  },
  "language_info": {
   "codemirror_mode": {
    "name": "ipython",
    "version": 2
   },
   "file_extension": ".py",
   "mimetype": "text/x-python",
   "name": "python",
   "nbconvert_exporter": "python",
   "pygments_lexer": "ipython2",
   "version": "2.7.10"
  }
 },
 "nbformat": 4,
 "nbformat_minor": 0
}
