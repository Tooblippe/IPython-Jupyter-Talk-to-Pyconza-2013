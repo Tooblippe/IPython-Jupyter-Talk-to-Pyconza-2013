{
 "cells": [
  {
   "cell_type": "code",
   "execution_count": 1,
   "metadata": {
    "collapsed": true
   },
   "outputs": [],
   "source": [
    "import android\n",
    "droide=android.Android()"
   ]
  },
  {
   "cell_type": "code",
   "execution_count": 3,
   "metadata": {
    "collapsed": true
   },
   "outputs": [],
   "source": [
    "%%file tempMexicoFDialog.py\n",
    "import urllib2\n",
    "import json\n",
    "\n",
    "f = urllib2.urlopen('http://api.wunderground.com/api/0def10027afaebb7/geolookup/conditions/forecast/q/Mexico/Mexico.json')\n",
    "json_string = f.read()\n",
    "parsed_json = json.loads(json_string)\n",
    "location = parsed_json['location']['city']\n",
    "temp_f = parsed_json['current_observation']['temp_f']\n",
    "mens= \"La temperatura actual en %s es: %s F\" % (location, temp_f)\n",
    "droide.makeToast(mens)\n",
    "f.close()\n",
    "\n",
    "droide.dialogCreateAlert(mens)\n",
    "\n",
    "droide.dialogShow()\n",
    "\n",
    "droide.dialogDismiss()"
   ]
  },
  {
   "cell_type": "code",
   "execution_count": null,
   "metadata": {
    "collapsed": true
   },
   "outputs": [],
   "source": [
    "%%file acelerometro.py\n",
    "import android\n",
    "import time\n",
    "\n",
    "droid=android.Android()\n",
    "\n",
    "dt = 100\n",
    "fin = 3000\n",
    "\n",
    "def getAccelerometerData():\n",
    "    '''\n",
    "        Simple function that reads the accelerometer sensor data\n",
    "        and returns it as a dataframe\n",
    "    '''\n",
    "    \n",
    "    tiempo = 0\n",
    "    droid.startSensingTimed(2, dt)\n",
    "    \n",
    "    lectura = []\n",
    "    \n",
    "    while tiempo <= fin:\n",
    "        accel_read.append(droid.sensorsReadAccelerometer().result)\n",
    "        time.sleep(dt/1000.0)\n",
    "        tiempo += dt\n",
    "    \n",
    "    droid.stopSensing();\n",
    "    \n",
    "    return lectura"
   ]
  }
 ],
 "metadata": {
  "kernelspec": {
   "display_name": "Python 2",
   "language": "python",
   "name": "python2"
  },
  "language_info": {
   "codemirror_mode": {
    "name": "ipython",
    "version": 2
   },
   "file_extension": ".py",
   "mimetype": "text/x-python",
   "name": "python",
   "nbconvert_exporter": "python",
   "pygments_lexer": "ipython2",
   "version": "2.7.10"
  }
 },
 "nbformat": 4,
 "nbformat_minor": 0
}
