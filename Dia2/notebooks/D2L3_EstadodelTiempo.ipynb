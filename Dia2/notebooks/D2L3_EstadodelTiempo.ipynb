{
 "cells": [
  {
   "cell_type": "markdown",
   "metadata": {},
   "source": [
    "# Dia 2, Libreta 3 Estado del tiempo\n",
    "A continuacion vamos a hacer un ejercicio de programacion con Python en la libreta y despues en el dispositivo. \n",
    "\n",
    "El objetivo de este ejercicio es solicitar la temperatura a un servicio en linea, [weatherunderground](http://www.wunderground.com) utilizando la API del servicio.\n",
    "\n",
    "## Buscando informacion en weather underground\n",
    "\n",
    "Abran el interprete de Python en su dispositivo y escriban lo siguiente:\n",
    "\n",
    "[vea](http://www.wunderground.com/weather/api/d/docs?d=data/index&MR=1)\n"
   ]
  },
  {
   "cell_type": "code",
   "execution_count": 2,
   "metadata": {
    "collapsed": false
   },
   "outputs": [
    {
     "name": "stdout",
     "output_type": "stream",
     "text": [
      "La temperatura actual en Mexico es: 67.1 F\n"
     ]
    }
   ],
   "source": [
    "import urllib2\n",
    "import json\n",
    "\n",
    "f = urllib2.urlopen('http://api.wunderground.com/api/0def10027afaebb7/geolookup/conditions/forecast/q/Mexico/Mexico.json')\n",
    "json_string = f.read()\n",
    "parsed_json = json.loads(json_string)\n",
    "location = parsed_json['location']['city']\n",
    "temp_f = parsed_json['current_observation']['temp_f']\n",
    "print \"La temperatura actual en %s es: %s F\" % (location, temp_f)\n",
    "f.close()"
   ]
  },
  {
   "cell_type": "markdown",
   "metadata": {},
   "source": [
    "# Ejercicio 1\n",
    "\n",
    "Modificar el codigo anterior para que la temperatura se imprima en grados Centigrados. _Sugerencia_: Vean el diccionario JSON que regresa el servicio: `parsed_json`"
   ]
  },
  {
   "cell_type": "markdown",
   "metadata": {},
   "source": [
    "A continuacion, copien las lineas de codigo a un archivo con extension `.py`. En las libretas es muy facil pues lo unico que tienen que hacer es agregar una instruccion `%%file _nombre_.py`, donde `_nombre_` es el nombre del archivo como quieren guardarlo:"
   ]
  },
  {
   "cell_type": "code",
   "execution_count": 4,
   "metadata": {
    "collapsed": false
   },
   "outputs": [
    {
     "name": "stdout",
     "output_type": "stream",
     "text": [
      "Writing tempMexicoF.py\n"
     ]
    }
   ],
   "source": [
    "%%file tempMexicoF.py\n",
    "import urllib2\n",
    "import json\n",
    "\n",
    "f = urllib2.urlopen('http://api.wunderground.com/api/0def10027afaebb7/geolookup/conditions/forecast/q/Mexico/Mexico.json')\n",
    "json_string = f.read()\n",
    "parsed_json = json.loads(json_string)\n",
    "location = parsed_json['location']['city']\n",
    "temp_f = parsed_json['current_observation']['temp_f']\n",
    "print \"La temperatura actual en %s es: %s F\" % (location, temp_f)\n",
    "f.close()"
   ]
  },
  {
   "cell_type": "markdown",
   "metadata": {},
   "source": [
    "Pueden verificar que el archivo efectivamente se guardo en su ruta local usando la instruccion `!dir`, la cual usa el comando del OS `dir` para listar los archivos en el folder actual"
   ]
  },
  {
   "cell_type": "code",
   "execution_count": 6,
   "metadata": {
    "collapsed": false
   },
   "outputs": [
    {
     "name": "stdout",
     "output_type": "stream",
     "text": [
      " Volume in drive C has no label.\n",
      " Volume Serial Number is 7C9E-FF3C\n",
      "\n",
      " Directory of C:\\Users\\horacio\\Documents\\GitHub\\lania.ipython\\Dia2\\notebooks\n",
      "\n",
      "10/30/2015  12:48 PM    <DIR>          .\n",
      "10/30/2015  12:48 PM    <DIR>          ..\n",
      "10/30/2015  12:41 PM    <DIR>          .ipynb_checkpoints\n",
      "10/30/2015  12:30 PM             3,181 D2L1_Recap.ipynb\n",
      "10/30/2015  12:38 PM             4,339 D2L2_Interactuando_con_dispositivo.ipynb\n",
      "10/30/2015  12:47 PM             2,397 D2L3_EstadodelTiempo.ipynb\n",
      "10/30/2015  11:47 AM         1,637,081 D2Ln_InputOutputPython.ipynb\n",
      "10/30/2015  12:48 PM               393 tempMexicoF.py\n",
      "10/30/2015  11:50 AM    <DIR>          Tutoriales\n",
      "               5 File(s)      1,647,391 bytes\n",
      "               4 Dir(s)  319,749,308,416 bytes free\n"
     ]
    }
   ],
   "source": [
    "!dir"
   ]
  },
  {
   "cell_type": "markdown",
   "metadata": {},
   "source": [
    "Ahora copien el script al dispositivo."
   ]
  },
  {
   "cell_type": "code",
   "execution_count": 7,
   "metadata": {
    "collapsed": false
   },
   "outputs": [
    {
     "name": "stderr",
     "output_type": "stream",
     "text": [
      "76 KB/s (393 bytes in 0.005s)\n"
     ]
    }
   ],
   "source": [
    "!adb push tempMexicoF.py /sdcard/sl4a/scripts"
   ]
  },
  {
   "cell_type": "markdown",
   "metadata": {},
   "source": [
    "Revisen su dispositivo, en la lista de scripts deben encontrar el archivo que acaban de copiar. Ejecutenlo y observen lo que ocurre.\n",
    "\n",
    "# Ejercicio 2\n",
    "\n",
    "Modificar el script anterior para que la temperatura se despliegue en la pantalla del dispositivo usando primero el metodo `makeToast` y despues una GUI. **NOTA:** usen la informacion de referencia de la APIA: [API Reference](https://github.com/damonkohler/sl4a/blob/wiki/ApiReference.md)"
   ]
  }
 ],
 "metadata": {
  "kernelspec": {
   "display_name": "Python 2",
   "language": "python",
   "name": "python2"
  },
  "language_info": {
   "codemirror_mode": {
    "name": "ipython",
    "version": 2
   },
   "file_extension": ".py",
   "mimetype": "text/x-python",
   "name": "python",
   "nbconvert_exporter": "python",
   "pygments_lexer": "ipython2",
   "version": "2.7.10"
  }
 },
 "nbformat": 4,
 "nbformat_minor": 0
}
