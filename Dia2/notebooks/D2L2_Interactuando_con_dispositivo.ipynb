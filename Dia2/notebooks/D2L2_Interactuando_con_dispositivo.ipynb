{
 "cells": [
  {
   "cell_type": "markdown",
   "metadata": {},
   "source": [
    "# Dia 2, Libreta 2 Interactuando con el dispositivo\n",
    "\n",
    "A continuacion haremos algunas pruebas elementales de itneraccion con el dispositivo.\n",
    "\n",
    "## Copiar y pegar. Prueba del clipboard\n",
    "Los dispositivos moviles contienen un \"clipboard\", el cual, igual que el de una computadora moderna, guarda la informacion y permite operaciones de copiado/pegado.\n",
    "\n"
   ]
  },
  {
   "cell_type": "code",
   "execution_count": 3,
   "metadata": {
    "collapsed": true
   },
   "outputs": [],
   "source": [
    "import android\n",
    "droide=android.Android()"
   ]
  },
  {
   "cell_type": "code",
   "execution_count": 4,
   "metadata": {
    "collapsed": false
   },
   "outputs": [
    {
     "name": "stdout",
     "output_type": "stream",
     "text": [
      "Result(id=0, result=None, error=None)\n"
     ]
    }
   ],
   "source": [
    "print droide.getClipboard()"
   ]
  },
  {
   "cell_type": "code",
   "execution_count": 5,
   "metadata": {
    "collapsed": false
   },
   "outputs": [
    {
     "data": {
      "text/plain": [
       "Result(id=1, result=None, error=None)"
      ]
     },
     "execution_count": 5,
     "metadata": {},
     "output_type": "execute_result"
    }
   ],
   "source": [
    "droide.ttsSpeak(\"Hola droide, \\\n",
    "esta en una prueba de tu clipboard\")"
   ]
  },
  {
   "cell_type": "markdown",
   "metadata": {},
   "source": [
    "Antes de cerrar el dialogo que aparece al ejecutar la siguiente instruccion, copien el texto que escriben en el cuadro de texto:"
   ]
  },
  {
   "cell_type": "code",
   "execution_count": 7,
   "metadata": {
    "collapsed": true
   },
   "outputs": [],
   "source": [
    "clip = droide.dialogGetInput(\"Escribe algo\")"
   ]
  },
  {
   "cell_type": "markdown",
   "metadata": {},
   "source": [
    "La siguiente instruccion debe de mostrarles el texto que copiaron"
   ]
  },
  {
   "cell_type": "code",
   "execution_count": 15,
   "metadata": {
    "collapsed": false
   },
   "outputs": [
    {
     "name": "stdout",
     "output_type": "stream",
     "text": [
      "algo\n"
     ]
    }
   ],
   "source": [
    "print droide.getClipboard().result"
   ]
  },
  {
   "cell_type": "markdown",
   "metadata": {},
   "source": [
    "Las siguientes instrucciones colocan un nuevo contenido en el clipboard y abre un dialogo en el dispositivo pidiendo que lo copien. Interactuen con el dispositivo y copien el contenido del clipboard en la caja de texto que aparecera."
   ]
  },
  {
   "cell_type": "code",
   "execution_count": 18,
   "metadata": {
    "collapsed": false
   },
   "outputs": [],
   "source": [
    "previo=droide.getClipboard().result;\n",
    "mensaje='Hola clase, pongan atencion';\n",
    "\n",
    "droide.setClipboard(mensaje)\n",
    "pegar = droide.dialogGetInput(\"Pega el contenido del clipboard aqui\")"
   ]
  },
  {
   "cell_type": "code",
   "execution_count": 19,
   "metadata": {
    "collapsed": false
   },
   "outputs": [
    {
     "name": "stdout",
     "output_type": "stream",
     "text": [
      "Hola clase, pongan atencion\n"
     ]
    }
   ],
   "source": [
    "# mostremos el resultado de pegar el contenido del clipboard\n",
    "print pegar.result"
   ]
  },
  {
   "cell_type": "code",
   "execution_count": 21,
   "metadata": {
    "collapsed": false
   },
   "outputs": [],
   "source": [
    "eco = droide.getClipboard().result"
   ]
  },
  {
   "cell_type": "code",
   "execution_count": 24,
   "metadata": {
    "collapsed": false
   },
   "outputs": [
    {
     "name": "stdout",
     "output_type": "stream",
     "text": [
      "Hola clase, pongan atencion\n",
      "algo\n",
      "Hola clase, pongan atencion\n"
     ]
    }
   ],
   "source": [
    "print eco\n",
    "print clip.result\n",
    "print pegar.result"
   ]
  }
 ],
 "metadata": {
  "kernelspec": {
   "display_name": "Python 2",
   "language": "python",
   "name": "python2"
  },
  "language_info": {
   "codemirror_mode": {
    "name": "ipython",
    "version": 2
   },
   "file_extension": ".py",
   "mimetype": "text/x-python",
   "name": "python",
   "nbconvert_exporter": "python",
   "pygments_lexer": "ipython2",
   "version": "2.7.10"
  }
 },
 "nbformat": 4,
 "nbformat_minor": 0
}
