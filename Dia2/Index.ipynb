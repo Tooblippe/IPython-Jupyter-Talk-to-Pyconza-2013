{
 "cells": [
  {
   "cell_type": "code",
   "execution_count": 2,
   "metadata": {
    "collapsed": false
   },
   "outputs": [
    {
     "data": {
      "text/html": [
       "<link href='http://fonts.googleapis.com/css?family=Alegreya+Sans:100,300,400,500,700,800,900,100italic,300italic,400italic,500italic,700italic,800italic,900italic' rel='stylesheet' type='text/css'>\n",
       "<link href='http://fonts.googleapis.com/css?family=Arvo:400,700,400italic' rel='stylesheet' type='text/css'>\n",
       "<link href='http://fonts.googleapis.com/css?family=PT+Mono' rel='stylesheet' type='text/css'>\n",
       "<link href='http://fonts.googleapis.com/css?family=Shadows+Into+Light' rel='stylesheet' type='text/css'>\n",
       "<link href='http://fonts.googleapis.com/css?family=Nixie+One' rel='stylesheet' type='text/css'>\n",
       "<style>\n",
       "\n",
       "@font-face {\n",
       "    font-family: \"Computer Modern\";\n",
       "    src: url('http://mirrors.ctan.org/fonts/cm-unicode/fonts/otf/cmunss.otf');\n",
       "}\n",
       "\n",
       "#notebook_panel { /* main background */\n",
       "    background: rgb(245,245,245);\n",
       "}\n",
       "\n",
       "div.cell { /* set cell width */\n",
       "    width: 750px;\n",
       "}\n",
       "\n",
       "div #notebook { /* centre the content */\n",
       "    background: #fff; /* white background for content */\n",
       "    width: 1000px;\n",
       "    margin: auto;\n",
       "    padding-left: 0em;\n",
       "}\n",
       "\n",
       "#notebook li { /* More space between bullet points */\n",
       "margin-top:0.8em;\n",
       "}\n",
       "\n",
       "/* draw border around running cells */\n",
       "div.cell.border-box-sizing.code_cell.running { \n",
       "    border: 1px solid #111;\n",
       "}\n",
       "\n",
       "/* Put a solid color box around each cell and its output, visually linking them*/\n",
       "div.cell.code_cell {\n",
       "    background-color: rgb(256,256,256); \n",
       "    border-radius: 0px; \n",
       "    padding: 0.5em;\n",
       "    margin-left:1em;\n",
       "    margin-top: 1em;\n",
       "}\n",
       "\n",
       "div.text_cell_render{\n",
       "    font-family: 'Alegreya Sans' sans-serif;\n",
       "    line-height: 140%;\n",
       "    font-size: 125%;\n",
       "    font-weight: 400;\n",
       "    width:600px;\n",
       "    margin-left:auto;\n",
       "    margin-right:auto;\n",
       "}\n",
       "\n",
       "\n",
       "/* Formatting for header cells */\n",
       ".text_cell_render h1 {\n",
       "    font-family: 'Nixie One', serif;\n",
       "    font-style:regular;\n",
       "    font-weight: 400;    \n",
       "    font-size: 45pt;\n",
       "    line-height: 100%;\n",
       "    color: rgb(0,51,102);\n",
       "    margin-bottom: 0.5em;\n",
       "    margin-top: 0.5em;\n",
       "    display: block;\n",
       "}\t\n",
       ".text_cell_render h2 {\n",
       "    font-family: 'Nixie One', serif;\n",
       "    font-weight: 400;\n",
       "    font-size: 30pt;\n",
       "    line-height: 100%;\n",
       "    color: rgb(0,51,102);\n",
       "    margin-bottom: 0.1em;\n",
       "    margin-top: 0.3em;\n",
       "    display: block;\n",
       "}\t\n",
       "\n",
       ".text_cell_render h3 {\n",
       "    font-family: 'Nixie One', serif;\n",
       "    margin-top:16px;\n",
       "\tfont-size: 22pt;\n",
       "    font-weight: 600;\n",
       "    margin-bottom: 3px;\n",
       "    font-style: regular;\n",
       "    color: rgb(102,102,0);\n",
       "}\n",
       "\n",
       ".text_cell_render h4 {    /*Use this for captions*/\n",
       "    font-family: 'Nixie One', serif;\n",
       "    font-size: 14pt;\n",
       "    text-align: center;\n",
       "    margin-top: 0em;\n",
       "    margin-bottom: 2em;\n",
       "    font-style: regular;\n",
       "}\n",
       "\n",
       ".text_cell_render h5 {  /*Use this for small titles*/\n",
       "    font-family: 'Nixie One', sans-serif;\n",
       "    font-weight: 400;\n",
       "    font-size: 16pt;\n",
       "    color: rgb(163,0,0);\n",
       "    font-style: italic;\n",
       "    margin-bottom: .1em;\n",
       "    margin-top: 0.8em;\n",
       "    display: block;\n",
       "}\n",
       "\n",
       ".text_cell_render h6 { /*use this for copyright note*/\n",
       "    font-family: 'PT Mono', sans-serif;\n",
       "    font-weight: 300;\n",
       "    font-size: 9pt;\n",
       "    line-height: 100%;\n",
       "    color: grey;\n",
       "    margin-bottom: 1px;\n",
       "    margin-top: 1px;\n",
       "}\n",
       "\n",
       ".CodeMirror{\n",
       "        font-family: \"PT Mono\";\n",
       "        font-size: 90%;\n",
       "}\n",
       "\n",
       "</style>\n",
       "<script>\n",
       "    MathJax.Hub.Config({\n",
       "                        TeX: {\n",
       "                           extensions: [\"AMSmath.js\"],\n",
       "                           equationNumbers: { autoNumber: \"AMS\", useLabelIds: true}\n",
       "                           },\n",
       "                tex2jax: {\n",
       "                    inlineMath: [ ['$','$'], [\"\\\\(\",\"\\\\)\"] ],\n",
       "                    displayMath: [ ['$$','$$'], [\"\\\\[\",\"\\\\]\"] ]\n",
       "                },\n",
       "                displayAlign: 'center', // Change this to 'center' to center equations.\n",
       "                \"HTML-CSS\": {\n",
       "                    styles: {'.MathJax_Display': {\"margin\": 4}}\n",
       "                }\n",
       "        });\n",
       "</script>"
      ],
      "text/plain": [
       "<IPython.core.display.HTML at 0x7f157dc139d0>"
      ]
     },
     "metadata": {},
     "output_type": "display_data"
    }
   ],
   "source": [
    "%run ../talktools.py"
   ]
  },
  {
   "cell_type": "markdown",
   "metadata": {},
   "source": [
    "# Dia 2\n",
    "Hoy partiremos de un ambiente preparado el dia anterior. Favor de verificar que cuenten con\n",
    "\n",
    "* Un dispositivo movil con SL4A y Py4A instalado y funcionando;\n",
    "* El ambiente de desarrollo de IPython Notebook instalado y funcionando en su computadora local\n",
    "* Una conexion USB establecida con `adb forward tcp:9999 tcp:#####` entre su computadora local y su dispositivo Android\n",
    "\n",
    "## Sesion 1\n",
    "\n",
    "Nuestra primera aplicacion consistira en solicitar a un servicio de meteorologia la temperatura ambiente de alguna localidad. Primero lo haremos a traves de la computadora, en el ambiente de IPython y despues lo haremos a traves del dispositivo, primero dandole las instrucciones desde la computadora, despues ejecutandolo directamente en el dispositivo.\n",
    "\n",
    "## Sesion 2\n",
    "\n",
    "\n"
   ]
  },
  {
   "cell_type": "code",
   "execution_count": 3,
   "metadata": {
    "collapsed": false
   },
   "outputs": [
    {
     "data": {
      "text/html": [
       "notebooks/<br>\n",
       "&nbsp;&nbsp;<a href='notebooks/Lib09_ProcesandoDatos01.ipynb' target='_blank'>Lib09_ProcesandoDatos01.ipynb</a><br>\n",
       "&nbsp;&nbsp;<a href='notebooks/Lib06_Ejercicios02.ipynb' target='_blank'>Lib06_Ejercicios02.ipynb</a><br>\n",
       "&nbsp;&nbsp;<a href='notebooks/Lib11_ArchivosCSV.ipynb' target='_blank'>Lib11_ArchivosCSV.ipynb</a><br>\n",
       "&nbsp;&nbsp;<a href='notebooks/Lib03_Esenciales_DataStructures.ipynb' target='_blank'>Lib03_Esenciales_DataStructures.ipynb</a><br>\n",
       "&nbsp;&nbsp;<a href='notebooks/Lib10_GraficandoDatos.ipynb' target='_blank'>Lib10_GraficandoDatos.ipynb</a><br>\n",
       "&nbsp;&nbsp;<a href='notebooks/Lib07_Ejercicios03.ipynb' target='_blank'>Lib07_Ejercicios03.ipynb</a><br>\n",
       "&nbsp;&nbsp;<a href='notebooks/Lib08_Ejercicios04.ipynb' target='_blank'>Lib08_Ejercicios04.ipynb</a><br>\n",
       "&nbsp;&nbsp;<a href='notebooks/Lib12_pandas.ipynb' target='_blank'>Lib12_pandas.ipynb</a><br>\n",
       "&nbsp;&nbsp;<a href='notebooks/Lib04_Esenciales_TextFiles.ipynb' target='_blank'>Lib04_Esenciales_TextFiles.ipynb</a><br>\n",
       "&nbsp;&nbsp;<a href='notebooks/Lib05_Ejercicios01.ipynb' target='_blank'>Lib05_Ejercicios01.ipynb</a><br>\n",
       "&nbsp;&nbsp;<a href='notebooks/Lib01_Esenciales_Python.ipynb' target='_blank'>Lib01_Esenciales_Python.ipynb</a><br>\n",
       "&nbsp;&nbsp;<a href='notebooks/Lib02_Esenciales_DataStructures.ipynb' target='_blank'>Lib02_Esenciales_DataStructures.ipynb</a><br>"
      ],
      "text/plain": [
       "notebooks/\n",
       "  Lib09_ProcesandoDatos01.ipynb\n",
       "  Lib06_Ejercicios02.ipynb\n",
       "  Lib11_ArchivosCSV.ipynb\n",
       "  Lib03_Esenciales_DataStructures.ipynb\n",
       "  Lib10_GraficandoDatos.ipynb\n",
       "  Lib07_Ejercicios03.ipynb\n",
       "  Lib08_Ejercicios04.ipynb\n",
       "  Lib12_pandas.ipynb\n",
       "  Lib04_Esenciales_TextFiles.ipynb\n",
       "  Lib05_Ejercicios01.ipynb\n",
       "  Lib01_Esenciales_Python.ipynb\n",
       "  Lib02_Esenciales_DataStructures.ipynb"
      ]
     },
     "execution_count": 3,
     "metadata": {},
     "output_type": "execute_result"
    }
   ],
   "source": [
    "FileLinks('notebooks',included_suffixes=['.ipynb'])"
   ]
  },
  {
   "cell_type": "code",
   "execution_count": null,
   "metadata": {
    "collapsed": false
   },
   "outputs": [],
   "source": []
  }
 ],
 "metadata": {
  "kernelspec": {
   "display_name": "Python 2",
   "language": "python",
   "name": "python2"
  },
  "language_info": {
   "codemirror_mode": {
    "name": "ipython",
    "version": 2
   },
   "file_extension": ".py",
   "mimetype": "text/x-python",
   "name": "python",
   "nbconvert_exporter": "python",
   "pygments_lexer": "ipython2",
   "version": "2.7.10"
  }
 },
 "nbformat": 4,
 "nbformat_minor": 0
}
