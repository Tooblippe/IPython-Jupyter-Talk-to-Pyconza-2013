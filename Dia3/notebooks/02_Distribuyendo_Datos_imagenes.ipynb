{
 "metadata": {
  "name": "",
  "signature": "sha256:f59bb5ba9828d33c0f24d77c2ac4c92800e402b58129a554b2d1e7c9aef711f9"
 },
 "nbformat": 3,
 "nbformat_minor": 0,
 "worksheets": [
  {
   "cells": [
    {
     "cell_type": "code",
     "collapsed": false,
     "input": [
      "%run talktools.py"
     ],
     "language": "python",
     "metadata": {},
     "outputs": [
      {
       "html": [
        "\n",
        "<style>\n",
        "    @font-face {\n",
        "        font-family: \"Computer Modern\";\n",
        "        src: url('http://mirrors.ctan.org/fonts/cm-unicode/fonts/otf/cmunss.otf');\n",
        "    }\n",
        "    div.cell{\n",
        "        width:800px;\n",
        "        margin-left:auto !important;\n",
        "        margin-right:auto;\n",
        "\t\tmargin-top:1em;\n",
        "\t\tmargin-bottom:1em;\n",
        "    }\n",
        "    h1 {\n",
        "        font-family: Helvetica, serif;\n",
        "\t\tbackground-color:#b0c4de;\n",
        "\n",
        "\t\t\n",
        "    }\n",
        "\th2 {\n",
        "        font-family: Helvetica, serif;\n",
        "\t\tbackground-color:#b0c4de;\n",
        "\t\t\n",
        "\t\t\n",
        "    }\n",
        "\th3 {\n",
        "        font-family: Helvetica, serif;\n",
        "\t\tbackground-color:#b0c4de;\n",
        "\t\t\n",
        "    }\n",
        "    h4{\n",
        "        margin-top:12px;\n",
        "        margin-bottom: 3px;\n",
        "       }\n",
        "    div.text_cell_render{\n",
        "        font-family: Computer Modern, \"Helvetica Neue\", Arial, Helvetica, Geneva, sans-serif;\n",
        "        line-height: 145%;\n",
        "        font-size: 130%;\n",
        "        width:800px;\n",
        "        margin-left:auto;\n",
        "        margin-right:auto;\n",
        "    }\n",
        "    .CodeMirror{\n",
        "            font-family: \"Source Code Pro\", source-code-pro,Consolas, monospace;\n",
        "    }\n",
        "    \n",
        "    .text_cell_render h5 {\n",
        "        font-weight: 300;\n",
        "        font-size: 22pt;\n",
        "        color: #4057A1;\n",
        "        font-style: italic;\n",
        "        margin-bottom: .5em;\n",
        "        margin-top: 0.5em;\n",
        "        display: block;\n",
        "    }\n",
        "    \n",
        "    .warning{\n",
        "        color: rgb( 240, 20, 20 )\n",
        "        }  \n",
        "\n",
        "\t\tdiv.cell.code_cell {  /* Areat containing both code and output */\n",
        "\t\tbackground-color:#F1F0FF; /* light blue */\n",
        "\t\tborder-radius: 10px; /* rounded borders = friendlier */\n",
        "\t\tpadding: 1em;\n",
        "\t\t}\n",
        "</style>\n",
        "<script>\n",
        "    MathJax.Hub.Config({\n",
        "                        TeX: {\n",
        "                           extensions: [\"AMSmath.js\"]\n",
        "                           },\n",
        "                tex2jax: {\n",
        "                    inlineMath: [ ['$','$'], [\"\\\\(\",\"\\\\)\"] ],\n",
        "                    displayMath: [ ['$$','$$'], [\"\\\\[\",\"\\\\]\"] ]\n",
        "                },\n",
        "                displayAlign: 'center', // Change this to 'center' to center equations.\n",
        "                \"HTML-CSS\": {\n",
        "                    styles: {'.MathJax_Display': {\"margin\": 4}}\n",
        "                }\n",
        "        });\n",
        "</script>"
       ],
       "metadata": {},
       "output_type": "display_data",
       "text": [
        "<IPython.core.display.HTML at 0x7f266c02a250>"
       ]
      }
     ],
     "prompt_number": 1
    },
    {
     "cell_type": "markdown",
     "metadata": {},
     "source": [
      "# Compartiendo Datos \n",
      "* Ahora vamos a compartir nuestros datos, en forma de imagenes digitales, dando credito a nuestro trabajo.\n",
      "* Ilustraremos el proceso usando (Figshare)[figshare.com]\n",
      "* Otros sitios pueden existir dependiendo de su disciplina ..."
     ]
    },
    {
     "cell_type": "markdown",
     "metadata": {},
     "source": [
      "## Localizar la imagen\n",
      "* Encuentren la(s) imagen(es) que acaban de adquirir con su telefono, en el sistema operativo local.\n",
      "* Subiremos una de ellas al servicio Figshare."
     ]
    },
    {
     "cell_type": "code",
     "collapsed": false,
     "input": [
      "FileLinks('images/device')"
     ],
     "language": "python",
     "metadata": {},
     "outputs": [
      {
       "html": [
        "images/device/nature/<br>\n",
        "&nbsp;&nbsp;<a href='images/device/nature/20141023_101015.jpg' target='_blank'>20141023_101015.jpg</a><br>\n",
        "&nbsp;&nbsp;<a href='images/device/nature/arania.jpg' target='_blank'>arania.jpg</a><br>\n",
        "&nbsp;&nbsp;<a href='images/device/nature/20141023_101019.jpg' target='_blank'>20141023_101019.jpg</a><br>\n",
        "&nbsp;&nbsp;<a href='images/device/nature/20141023_101149.jpg' target='_blank'>20141023_101149.jpg</a><br>\n",
        "&nbsp;&nbsp;<a href='images/device/nature/20141023_101026.jpg' target='_blank'>20141023_101026.jpg</a><br>\n",
        "&nbsp;&nbsp;<a href='images/device/nature/20141023_101138.jpg' target='_blank'>20141023_101138.jpg</a><br>\n",
        "&nbsp;&nbsp;<a href='images/device/nature/20141023_101211.jpg' target='_blank'>20141023_101211.jpg</a><br>"
       ],
       "metadata": {},
       "output_type": "pyout",
       "prompt_number": 2,
       "text": [
        "images/device/nature/\n",
        "  20141023_101015.jpg\n",
        "  arania.jpg\n",
        "  20141023_101019.jpg\n",
        "  20141023_101149.jpg\n",
        "  20141023_101026.jpg\n",
        "  20141023_101138.jpg\n",
        "  20141023_101211.jpg"
       ]
      }
     ],
     "prompt_number": 2
    },
    {
     "cell_type": "markdown",
     "metadata": {},
     "source": [
      "## Ingresar al servicio\n",
      "* Ingresen a su [cuenta de Figshare](http://figshare.com/account/my_data)"
     ]
    },
    {
     "cell_type": "markdown",
     "metadata": {},
     "source": [
      "## Suban la imagen\n",
      "* Haciendo click en enlace [Upload](http://figshare.com/account/upload) en la parte superior de la pagina.\n",
      "* Siguiendo las instrucciones y busquen la imagen en su folder local\n",
      "* Suban unicamente una imagen (por el momento)"
     ]
    },
    {
     "cell_type": "markdown",
     "metadata": {},
     "source": [
      "## Publicando la imagen\n",
      "* Ir al enlace [My Data](http://figshare.com/account/my_data) y encontrar, en la lista, la imagen recientemente subida\n",
      "* En la columna de Status, seleccionar **DRAFT**\n",
      "    * Eligan un titulo para la imagen (un titulo serio y descriptivo)\n",
      "        * Esto es importante porque el sistema genera un identificador digital real\n",
      "* Seleccionen una **Categoria**\n",
      "* Escriban una descripcion seria y clara en el espacio\n",
      "* Presionen el boton **Public** para hacer la imagen publica y disponible.\n",
      "* **Save**\n",
      "* Vayan al enlace **Publish** del lado derecho.\n",
      "* Respondan positivamente\n",
      "* Presionen **Preview** para ver el articulo"
     ]
    },
    {
     "cell_type": "markdown",
     "metadata": {},
     "source": [
      "# Solicitando el articulo de Figshare\n",
      "Ahora solicitaremos y obtendremos referencia al articulo que acabamos de publicar, de manera programatica.\n",
      "\n",
      "Para esto usaremos la [API de Figshare](http://api.figshare.com/docs/)."
     ]
    },
    {
     "cell_type": "markdown",
     "metadata": {},
     "source": [
      "## Pasos\n",
      "* Primero necesitamos la informacion de identificacion del articulo.\n",
      "    * Por ejemplo: http://figshare.com/articles/nephila_hanging_lania/1213151\n",
      "    * Tiene como identificador \"1213151\""
     ]
    },
    {
     "cell_type": "markdown",
     "metadata": {},
     "source": [
      "* Usamos este identificador en la siguiente URL para obtner los metadatos del articulo:\n",
      "    *  http://api.figshare.com/v1/articles/1213151\n",
      "* Esto nos dara como respuest un documento con la estructura JSON similar a la siguiente:\n",
      "\n",
      "        {u'count': 1,\n",
      "         u'items': [{u'article_id': 1213151,\n",
      "           u'authors': [{u'first_name': u'Horacio',\n",
      "         u'full_name': u'Horacio Tapia-McClung',\n",
      "         u'id': 637523,\n",
      "         u'last_name': u'Tapia-mcclung'}],\n",
      "       u'categories': [{u'id': 158, u'name': u'Biological Techniques'}],\n",
      "       u'defined_type': u'figure',\n",
      "       u'description': u'<p>Spider on web hanging above entrace to parking lot</p>',\n",
      "       u'description_nohtml': u'Spider on web hanging above entrace to parking lot',\n",
      "       u'doi': u'http://dx.doi.org/10.6084/m9.figshare.1213151',\n",
      "       u'downloads': 0,\n",
      "       u'figshare_url': u'http://figshare.com/articles/nephila_hanging_lania/1213151',\n",
      "       u'files': [{u'download_url': u'http://files.figshare.com/1728248/20141023_101015.jpg',\n",
      "         u'id': 1728248,\n",
      "         u'mime_type': u'image/jpeg',\n",
      "         u'name': u'20141023_101015.jpg',\n",
      "         u'size': u'736 KB',\n",
      "         u'thumb': u'http://previews.figshare.com/1728248/250_1728248.jpg'}],\n",
      "       u'links': [],\n",
      "       u'master_publisher_id': 0,\n",
      "       u'owner': {u'full_name': u'Horacio Tapia-McClung', u'id': 637523},\n",
      "       u'published_date': u'16:07, Oct 23, 2014',\n",
      "       u'publisher_citation': u'',\n",
      "       u'publisher_doi': u'',\n",
      "       u'shares': 0,\n",
      "       u'status': u'Public',\n",
      "       u'tags': [{u'id': 303199, u'name': u' spider'},\n",
      "        {u'id': 303198, u'name': u'nephila'},\n",
      "        {u'id': 321139, u'name': u'lania'},\n",
      "        {u'id': 303200, u'name': u'ara\\xf1a'}],\n",
      "       u'title': u'nephila hanging @ lania',\n",
      "       u'total_size': u'718.63 KB',\n",
      "       u'version': 1,\n",
      "       u'views': 1}]}"
     ]
    },
    {
     "cell_type": "markdown",
     "metadata": {},
     "source": [
      "* Buscamos la etiqueta \"download_url\"\n",
      "    * En el ejemplo mostrado es: \"http://files.figshare.com/1728248/20141023_101015.jpg\""
     ]
    },
    {
     "cell_type": "markdown",
     "metadata": {},
     "source": [
      "# Probando la descarga\n",
      "* En referencia al valor de la etiqueta \"download_url\" podemos descargar la imagen a la computadora dando click o copiando y pegando el `url` en la barra del navegador: http://files.figshare.com/1728248/20141023_101015.jpg"
     ]
    },
    {
     "cell_type": "markdown",
     "metadata": {},
     "source": [
      "# Descargando programaticamente"
     ]
    },
    {
     "cell_type": "markdown",
     "metadata": {},
     "source": [
      "Ahora ausaremos el modulo `urllib` de Python para descargar la imagen. Lo haremos en distintas etapas:"
     ]
    },
    {
     "cell_type": "markdown",
     "metadata": {},
     "source": [
      "## Obtener el URL del articulo"
     ]
    },
    {
     "cell_type": "code",
     "collapsed": false,
     "input": [
      "import urllib\n",
      "import json\n",
      "\n",
      "destino = '/tmp/imagen.jpg'\n",
      "\n",
      "figshare_id = '1213151'\n",
      "\n",
      "figshare_url = 'http://api.figshare.com/v1/articles/%s' % figshare_id"
     ],
     "language": "python",
     "metadata": {},
     "outputs": [],
     "prompt_number": 28
    },
    {
     "cell_type": "markdown",
     "metadata": {},
     "source": [
      "## Solicitar detalles del articulo \n",
      "\n",
      "Haremos esto usando la API y obteniendo una respuesta en estructura JSON:"
     ]
    },
    {
     "cell_type": "code",
     "collapsed": false,
     "input": [
      "respuesta_json = urllib.urlopen(figshare_url)"
     ],
     "language": "python",
     "metadata": {},
     "outputs": [],
     "prompt_number": 29
    },
    {
     "cell_type": "markdown",
     "metadata": {},
     "source": [
      "## Buscando y extrayendo el URL de descarga\n",
      "\n",
      "Guardaremos la estructura JSON en un objeto de la clase `json`:"
     ]
    },
    {
     "cell_type": "code",
     "collapsed": false,
     "input": [
      "informacion_articulo = json.load(respuesta_json)"
     ],
     "language": "python",
     "metadata": {},
     "outputs": [],
     "prompt_number": 30
    },
    {
     "cell_type": "markdown",
     "metadata": {},
     "source": [
      "Veamos el contenido del objeto:"
     ]
    },
    {
     "cell_type": "code",
     "collapsed": false,
     "input": [
      "informacion_articulo"
     ],
     "language": "python",
     "metadata": {},
     "outputs": [
      {
       "metadata": {},
       "output_type": "pyout",
       "prompt_number": 33,
       "text": [
        "{u'count': 1,\n",
        " u'items': [{u'article_id': 1213151,\n",
        "   u'authors': [{u'first_name': u'Horacio',\n",
        "     u'full_name': u'Horacio Tapia-McClung',\n",
        "     u'id': 637523,\n",
        "     u'last_name': u'Tapia-mcclung'}],\n",
        "   u'categories': [{u'id': 158, u'name': u'Biological Techniques'}],\n",
        "   u'defined_type': u'figure',\n",
        "   u'description': u'<p>Spider on web hanging above entrace to parking lot</p>',\n",
        "   u'description_nohtml': u'Spider on web hanging above entrace to parking lot',\n",
        "   u'doi': u'http://dx.doi.org/10.6084/m9.figshare.1213151',\n",
        "   u'downloads': 0,\n",
        "   u'figshare_url': u'http://figshare.com/articles/nephila_hanging_lania/1213151',\n",
        "   u'files': [{u'download_url': u'http://files.figshare.com/1728248/20141023_101015.jpg',\n",
        "     u'id': 1728248,\n",
        "     u'mime_type': u'image/jpeg',\n",
        "     u'name': u'20141023_101015.jpg',\n",
        "     u'size': u'736 KB',\n",
        "     u'thumb': u'http://previews.figshare.com/1728248/250_1728248.jpg'}],\n",
        "   u'links': [],\n",
        "   u'master_publisher_id': 0,\n",
        "   u'owner': {u'full_name': u'Horacio Tapia-McClung', u'id': 637523},\n",
        "   u'published_date': u'16:07, Oct 23, 2014',\n",
        "   u'publisher_citation': u'',\n",
        "   u'publisher_doi': u'',\n",
        "   u'shares': 0,\n",
        "   u'status': u'Public',\n",
        "   u'tags': [{u'id': 303199, u'name': u' spider'},\n",
        "    {u'id': 303198, u'name': u'nephila'},\n",
        "    {u'id': 321139, u'name': u'lania'},\n",
        "    {u'id': 303200, u'name': u'ara\\xf1a'}],\n",
        "   u'title': u'nephila hanging @ lania',\n",
        "   u'total_size': u'718.63 KB',\n",
        "   u'version': 1,\n",
        "   u'views': 1}]}"
       ]
      }
     ],
     "prompt_number": 33
    },
    {
     "cell_type": "markdown",
     "metadata": {},
     "source": [
      "para extraer el elemento \"download_url\" usamos el hecho que el objeto es un diccionario:"
     ]
    },
    {
     "cell_type": "code",
     "collapsed": false,
     "input": [
      "img_url_descarga = informacion_articulo['items'][0]['files'][0]['download_url']\n",
      "# download_url: \"http://files.figshare.com/1700425/2014_10_01_22.24.30.jpg\","
     ],
     "language": "python",
     "metadata": {},
     "outputs": [],
     "prompt_number": 34
    },
    {
     "cell_type": "markdown",
     "metadata": {},
     "source": [
      "## Finalmente podemos descargar la imagen\n",
      "Usando el \"url\" de descarga podemos salvar la imagen al sistema de archivos local:"
     ]
    },
    {
     "cell_type": "code",
     "collapsed": false,
     "input": [
      "urllib.urlretrieve(img_url_descarga, destino)"
     ],
     "language": "python",
     "metadata": {},
     "outputs": [
      {
       "metadata": {},
       "output_type": "pyout",
       "prompt_number": 35,
       "text": [
        "('/tmp/imagen.jpg', <httplib.HTTPMessage instance at 0x7f266396cb90>)"
       ]
      }
     ],
     "prompt_number": 35
    },
    {
     "cell_type": "markdown",
     "metadata": {},
     "source": [
      "## Revisamos que la imagen existe\n",
      "Podemos usar el comando \"ls\""
     ]
    },
    {
     "cell_type": "code",
     "collapsed": false,
     "input": [
      "ls -lt /tmp/imagen.jpg"
     ],
     "language": "python",
     "metadata": {},
     "outputs": [
      {
       "output_type": "stream",
       "stream": "stdout",
       "text": [
        "-rw-rw-r-- 1 htapia htapia 753537 oct 23 11:28 \u001b[0m\u001b[01;35m/tmp/imagen.jpg\u001b[0m\r\n"
       ]
      }
     ],
     "prompt_number": 36
    },
    {
     "cell_type": "markdown",
     "metadata": {},
     "source": [
      "# Ejercicio\n",
      "* Repitan el proceso con su imagen\n",
      "* Escriban en pantalla el contenido de la respuesta obtenida en formato JSON\n",
      "* Verifiquen que el archivo aparece en el sistema\n",
      "\n",
      "* Repitan con las imagenes de sus vecinos cercanos"
     ]
    },
    {
     "cell_type": "markdown",
     "metadata": {},
     "source": [
      "# Ejercicio\n",
      "\n",
      "Las siguientes lineas de codigo corresponden al modulo `descargaimagen.py`, en el cual se ha implementado la funcionalidad que hemos desarrollado en esta libreta. El modulo, sin embargo, esta incompleto y como tal no funcionara correctamente:\n",
      "\n",
      "        %%file descargaimagen.py\n",
      "\n",
      "        import urllib\n",
      "        import json\n",
      "\n",
      "        class DescargaImagen(object):\n",
      "\n",
      "            figshare_id = None\n",
      "            nombre_imagen = None\n",
      "\n",
      "            def __init__(self):\n",
      "              pass\n",
      "\n",
      "            def set_figshare_id(self,figshare_id):\n",
      "              self.figshare_id = \n",
      "\n",
      "            def set_nombre_imagen(self,nombre_imagen):\n",
      "              self.nombre_imagen = \n",
      "\n",
      "            def download(self):\n",
      "              figshare_url = \"http://api.figshare.com/v1/articles/%s\" % self.figshare_id\n",
      "              f = urllib.urlopen(figshare_url)\n",
      "              info = json.load(f)\n",
      "              image_url = info[''][0][''][0]['']\n",
      "              urllib.urlretrieve(image_url, self.nombre_imagen)\n",
      "\n",
      "\n",
      "Copien las lineas de codigo en una celda, agreguen las partes que faltan."
     ]
    },
    {
     "cell_type": "code",
     "collapsed": false,
     "input": [
      "# Escriban y ejecuten su codigo aqui\n",
      "# El resultado debe ser un archivo el folder actual llamado `descargaimagen.py`\n"
     ],
     "language": "python",
     "metadata": {},
     "outputs": [],
     "prompt_number": 40
    },
    {
     "cell_type": "markdown",
     "metadata": {},
     "source": [
      "Prueben la funcionalidad del modulo descargando la imagen, para ello completen y ejecuten las siguientes celdas:"
     ]
    },
    {
     "cell_type": "code",
     "collapsed": false,
     "input": [
      "# Si el archivo `descargaimagen.py` se encuentra en el mismo folder \n",
      "# que el actual documento IPython Notebook importen el modulo usando\n",
      "import descargaimagen"
     ],
     "language": "python",
     "metadata": {},
     "outputs": [],
     "prompt_number": 38
    },
    {
     "cell_type": "code",
     "collapsed": false,
     "input": [
      "# crea una instancia de la clase DescargaImagen contenida en el modulo\n",
      "descarga = descargaimagen.DescargaImagen()"
     ],
     "language": "python",
     "metadata": {},
     "outputs": []
    },
    {
     "cell_type": "code",
     "collapsed": false,
     "input": [
      "# nombre para la imagen a descargar\n",
      "nom_imagen = # <-------poner nombre de imagen"
     ],
     "language": "python",
     "metadata": {},
     "outputs": []
    },
    {
     "cell_type": "code",
     "collapsed": false,
     "input": [
      "# fija id de figura \n",
      "descarga.set_figshare_id('') # <-------poner id de imagen"
     ],
     "language": "python",
     "metadata": {},
     "outputs": []
    },
    {
     "cell_type": "code",
     "collapsed": false,
     "input": [
      "# fija nombre de figura\n",
      "descarga.set_nombre_imagen() # <------- completar correctamente"
     ],
     "language": "python",
     "metadata": {},
     "outputs": []
    },
    {
     "cell_type": "code",
     "collapsed": false,
     "input": [
      "# descarga figura\n",
      "descarga.download()"
     ],
     "language": "python",
     "metadata": {},
     "outputs": []
    }
   ],
   "metadata": {}
  }
 ]
}