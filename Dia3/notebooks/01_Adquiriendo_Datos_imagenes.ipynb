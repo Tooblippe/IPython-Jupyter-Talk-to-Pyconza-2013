{
 "metadata": {
  "name": "",
  "signature": "sha256:694cde11dea75d736e7ddc251fc29c600c1425604d75f725960731ebd1158755"
 },
 "nbformat": 3,
 "nbformat_minor": 0,
 "worksheets": [
  {
   "cells": [
    {
     "cell_type": "code",
     "collapsed": false,
     "input": [
      "%run talktools.py"
     ],
     "language": "python",
     "metadata": {},
     "outputs": [
      {
       "html": [
        "\n",
        "<style>\n",
        "    @font-face {\n",
        "        font-family: \"Computer Modern\";\n",
        "        src: url('http://mirrors.ctan.org/fonts/cm-unicode/fonts/otf/cmunss.otf');\n",
        "    }\n",
        "    div.cell{\n",
        "        width:800px;\n",
        "        margin-left:auto !important;\n",
        "        margin-right:auto;\n",
        "\t\tmargin-top:1em;\n",
        "\t\tmargin-bottom:1em;\n",
        "    }\n",
        "    h1 {\n",
        "        font-family: Helvetica, serif;\n",
        "\t\tbackground-color:#b0c4de;\n",
        "\n",
        "\t\t\n",
        "    }\n",
        "\th2 {\n",
        "        font-family: Helvetica, serif;\n",
        "\t\tbackground-color:#b0c4de;\n",
        "\t\t\n",
        "\t\t\n",
        "    }\n",
        "\th3 {\n",
        "        font-family: Helvetica, serif;\n",
        "\t\tbackground-color:#b0c4de;\n",
        "\t\t\n",
        "    }\n",
        "    h4{\n",
        "        margin-top:12px;\n",
        "        margin-bottom: 3px;\n",
        "       }\n",
        "    div.text_cell_render{\n",
        "        font-family: Computer Modern, \"Helvetica Neue\", Arial, Helvetica, Geneva, sans-serif;\n",
        "        line-height: 145%;\n",
        "        font-size: 130%;\n",
        "        width:800px;\n",
        "        margin-left:auto;\n",
        "        margin-right:auto;\n",
        "    }\n",
        "    .CodeMirror{\n",
        "            font-family: \"Source Code Pro\", source-code-pro,Consolas, monospace;\n",
        "    }\n",
        "    \n",
        "    .text_cell_render h5 {\n",
        "        font-weight: 300;\n",
        "        font-size: 22pt;\n",
        "        color: #4057A1;\n",
        "        font-style: italic;\n",
        "        margin-bottom: .5em;\n",
        "        margin-top: 0.5em;\n",
        "        display: block;\n",
        "    }\n",
        "    \n",
        "    .warning{\n",
        "        color: rgb( 240, 20, 20 )\n",
        "        }  \n",
        "\n",
        "\t\tdiv.cell.code_cell {  /* Areat containing both code and output */\n",
        "\t\tbackground-color:#F1F0FF; /* light blue */\n",
        "\t\tborder-radius: 10px; /* rounded borders = friendlier */\n",
        "\t\tpadding: 1em;\n",
        "\t\t}\n",
        "</style>\n",
        "<script>\n",
        "    MathJax.Hub.Config({\n",
        "                        TeX: {\n",
        "                           extensions: [\"AMSmath.js\"]\n",
        "                           },\n",
        "                tex2jax: {\n",
        "                    inlineMath: [ ['$','$'], [\"\\\\(\",\"\\\\)\"] ],\n",
        "                    displayMath: [ ['$$','$$'], [\"\\\\[\",\"\\\\]\"] ]\n",
        "                },\n",
        "                displayAlign: 'center', // Change this to 'center' to center equations.\n",
        "                \"HTML-CSS\": {\n",
        "                    styles: {'.MathJax_Display': {\"margin\": 4}}\n",
        "                }\n",
        "        });\n",
        "</script>"
       ],
       "metadata": {},
       "output_type": "display_data",
       "text": [
        "<IPython.core.display.HTML at 0x7fd05006de10>"
       ]
      }
     ],
     "prompt_number": 2
    },
    {
     "cell_type": "markdown",
     "metadata": {},
     "source": [
      "En esta sesion usaremos nuestros dispositivos como sensores para la adquisicion de datos. Primero lo haremos de manera \"manual\" y mas adelante lo haremos programaticamente"
     ]
    },
    {
     "cell_type": "markdown",
     "metadata": {},
     "source": [
      "Nuestra primera experiencia sera tomar datos en forma de imagenes digitales usando la camara integrada a los dispositivos moviles."
     ]
    },
    {
     "cell_type": "markdown",
     "metadata": {},
     "source": [
      "Haremos honor al metodo desarrollado por [Antoine van Leeuwenhoek](http://es.wikipedia.org/wiki/Anton_van_Leeuwenhoek) en los 1600s. "
     ]
    },
    {
     "cell_type": "code",
     "collapsed": false,
     "input": [
      "# from IPython.display import HTML\n",
      "# HTML(url='http://es.wikipedia.org/wiki/Anton_van_Leeuwenhoek')"
     ],
     "language": "python",
     "metadata": {},
     "outputs": [],
     "prompt_number": 4
    },
    {
     "cell_type": "markdown",
     "metadata": {},
     "source": [
      "Se dice que van Leeuwenhoek realizo algunas de sus primeras observaciones microscopicas usando una gota de agua como lente esferico."
     ]
    },
    {
     "cell_type": "code",
     "collapsed": false,
     "input": [
      "Image(url='http://1.bp.blogspot.com/-K16-1qulgJY/UtU-BXagDxI/AAAAAAAAAKY/1w2qspa5fgs/s1600/Olaf+telescope.jpg')"
     ],
     "language": "python",
     "metadata": {},
     "outputs": [
      {
       "html": [
        "<img src=\"http://1.bp.blogspot.com/-K16-1qulgJY/UtU-BXagDxI/AAAAAAAAAKY/1w2qspa5fgs/s1600/Olaf+telescope.jpg\"/>"
       ],
       "metadata": {},
       "output_type": "pyout",
       "prompt_number": 3,
       "text": [
        "<IPython.core.display.Image at 0x7fd05006dd10>"
       ]
      }
     ],
     "prompt_number": 3
    },
    {
     "cell_type": "markdown",
     "metadata": {},
     "source": [
      "Una gota de agua tiene un diametro de alrededor de 2 a 4 milimetros, lo cual resulta en un poder de amplificacion alto: la amplificacion es inversamente proporcional al radio de la gota, lo cual implica que a menor diametro (gota chica) mayor es la amplificacion."
     ]
    },
    {
     "cell_type": "markdown",
     "metadata": {},
     "source": [
      "El primer ejercicio que realizaremos sera colocar una gota de agua sobre una superficie de cristal, con lo cual crearemos una lente semi-esferica."
     ]
    },
    {
     "cell_type": "markdown",
     "metadata": {},
     "source": [
      "## Paso 1\n",
      "\n",
      "Usando un dispositivo movil:\n",
      "\n",
      "* telefono celular\n",
      "* tableta\n",
      "\n",
      "Agua:\n",
      "\n",
      "* Vaso con agua\n",
      "* Una servilleta \n",
      "* Un cotonete \n",
      "\n",
      "Camara:\n",
      "\n",
      "* Identificar si su dispositivo tiene camara frontal\n",
      "* Asegurarse que la region alrededor del lente de la camara esta cubierta de vidrio\n",
      "* El area de la camara no debe ser vulnerable a infiltraciones de agua!"
     ]
    },
    {
     "cell_type": "markdown",
     "metadata": {},
     "source": [
      "# Adquisicion de images\n",
      "\n",
      "* Durante nuestro receso, salgan al jardin y capturen algunas imagenes de objetos, flores, plantas, insectos, etc.\n",
      "\n",
      "## Colocando nuestro lente\n",
      "\n",
      "* Colocar el dispositivo sobre una superficie plana\n",
      "* Tomar una gota de agua del vaso usando el dedo o el cotonete.\n",
      "* Colocar la gota sobre el lente de la camara:\n",
      "    * cuidando que este lo mas centrada posible\n",
      "    * tratando de que sea lo mas pequena pero que cubra el sensor\n",
      "\n",
      "## Objeto\n",
      "\n",
      "* Acerquen un objeto pequeno a la gota, teniendo cuidado de no tocarla.\n",
      "* Monitoreen la imagen en la pantalla del dispositivo\n",
      "* Cuando el objeto este enfocado, presionen el boton de captura\n",
      "* Repitan hasta que dominen la tecnica\n",
      "* Algunos dispositivos permiten utilizar un temporizador, pueden usarlo si prefieren.\n",
      "* Pueden tomar imagenes fijas o video\n",
      "\n",
      "## Objetos microscopicos\n",
      "\n",
      "* Repitan el mismo ejercicio tomando una imagen de uno de sus cabellos.\n",
      "* Si es posible se les proporcionaran objetos microscopicos en una placa de vidrio"
     ]
    },
    {
     "cell_type": "markdown",
     "metadata": {},
     "source": [
      "# Ejemplos de imagenes\n",
      "\n",
      "Las siguientes imagenes son ejemplos de imagenes adquiridas con el dispositivo movil:"
     ]
    },
    {
     "cell_type": "code",
     "collapsed": false,
     "input": [
      "FileLinks('images/device')"
     ],
     "language": "python",
     "metadata": {},
     "outputs": [
      {
       "html": [
        "images/device/nature/<br>\n",
        "&nbsp;&nbsp;<a href='images/device/nature/20141023_101015.jpg' target='_blank'>20141023_101015.jpg</a><br>\n",
        "&nbsp;&nbsp;<a href='images/device/nature/arania.jpg' target='_blank'>arania.jpg</a><br>\n",
        "&nbsp;&nbsp;<a href='images/device/nature/20141023_101019.jpg' target='_blank'>20141023_101019.jpg</a><br>\n",
        "&nbsp;&nbsp;<a href='images/device/nature/20141023_101149.jpg' target='_blank'>20141023_101149.jpg</a><br>\n",
        "&nbsp;&nbsp;<a href='images/device/nature/20141023_101026.jpg' target='_blank'>20141023_101026.jpg</a><br>\n",
        "&nbsp;&nbsp;<a href='images/device/nature/20141023_101138.jpg' target='_blank'>20141023_101138.jpg</a><br>\n",
        "&nbsp;&nbsp;<a href='images/device/nature/20141023_101211.jpg' target='_blank'>20141023_101211.jpg</a><br>"
       ],
       "metadata": {},
       "output_type": "pyout",
       "prompt_number": 13,
       "text": [
        "images/device/nature/\n",
        "  20141023_101015.jpg\n",
        "  arania.jpg\n",
        "  20141023_101019.jpg\n",
        "  20141023_101149.jpg\n",
        "  20141023_101026.jpg\n",
        "  20141023_101138.jpg\n",
        "  20141023_101211.jpg"
       ]
      }
     ],
     "prompt_number": 13
    },
    {
     "cell_type": "markdown",
     "metadata": {},
     "source": [
      "## Siguiente seccion\n",
      "En el proximo modulo veremos como distribuir la informacion que hemos adquirido con el sensor."
     ]
    }
   ],
   "metadata": {}
  }
 ]
}