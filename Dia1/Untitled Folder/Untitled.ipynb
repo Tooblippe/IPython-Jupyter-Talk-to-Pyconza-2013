{
 "cells": [
  {
   "cell_type": "code",
   "execution_count": 1,
   "metadata": {
    "collapsed": false
   },
   "outputs": [
    {
     "name": "stdout",
     "output_type": "stream",
     "text": [
      "List of devices attached\n",
      "09c3400a\tdevice\n",
      "\n",
      "9999\n",
      "hola\n"
     ]
    }
   ],
   "source": [
    "!adb devices\n",
    "!echo %AP_PORT%\n",
    "print 'hola'\n",
    "\n",
    "!adb forward tcp:9999 tcp:42654"
   ]
  },
  {
   "cell_type": "code",
   "execution_count": 2,
   "metadata": {
    "collapsed": false
   },
   "outputs": [
    {
     "data": {
      "text/plain": [
       "Result(id=0, result=None, error=None)"
      ]
     },
     "execution_count": 2,
     "metadata": {},
     "output_type": "execute_result"
    }
   ],
   "source": [
    "import android\n",
    "\n",
    "d=android.Android()\n",
    "\n",
    "d.ttsSpeak(\"hola\")"
   ]
  }
 ],
 "metadata": {
  "kernelspec": {
   "display_name": "Python 2",
   "language": "python",
   "name": "python2"
  },
  "language_info": {
   "codemirror_mode": {
    "name": "ipython",
    "version": 2
   },
   "file_extension": ".py",
   "mimetype": "text/x-python",
   "name": "python",
   "nbconvert_exporter": "python",
   "pygments_lexer": "ipython2",
   "version": "2.7.10"
  }
 },
 "nbformat": 4,
 "nbformat_minor": 0
}
