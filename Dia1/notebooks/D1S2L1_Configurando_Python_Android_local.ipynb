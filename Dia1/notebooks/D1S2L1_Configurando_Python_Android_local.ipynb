{
 "cells": [
  {
   "cell_type": "code",
   "execution_count": 1,
   "metadata": {
    "collapsed": true,
    "slideshow": {
     "slide_type": "skip"
    }
   },
   "outputs": [
    {
     "data": {
      "text/html": [
       "\n",
       "<style>\n",
       "    @font-face {\n",
       "        font-family: \"Computer Modern\";\n",
       "        src: url('http://mirrors.ctan.org/fonts/cm-unicode/fonts/otf/cmunss.otf');\n",
       "    }\n",
       "    div.cell{\n",
       "        width:800px;\n",
       "        margin-left:auto !important;\n",
       "        margin-right:auto;\n",
       "\t\tmargin-top:1em;\n",
       "\t\tmargin-bottom:1em;\n",
       "    }\n",
       "    h1 {\n",
       "        font-family: Helvetica, serif;\n",
       "\t\tbackground-color:#b0c4de;\n",
       "\n",
       "\t\t\n",
       "    }\n",
       "\th2 {\n",
       "        font-family: Helvetica, serif;\n",
       "\t\tbackground-color:#b0c4de;\n",
       "\t\t\n",
       "\t\t\n",
       "    }\n",
       "\th3 {\n",
       "        font-family: Helvetica, serif;\n",
       "\t\tbackground-color:#b0c4de;\n",
       "\t\t\n",
       "    }\n",
       "    h4{\n",
       "        margin-top:12px;\n",
       "        margin-bottom: 3px;\n",
       "       }\n",
       "    div.text_cell_render{\n",
       "        font-family: Computer Modern, \"Helvetica Neue\", Arial, Helvetica, Geneva, sans-serif;\n",
       "        line-height: 145%;\n",
       "        font-size: 130%;\n",
       "        width:800px;\n",
       "        margin-left:auto;\n",
       "        margin-right:auto;\n",
       "    }\n",
       "    .CodeMirror{\n",
       "            font-family: \"Source Code Pro\", source-code-pro,Consolas, monospace;\n",
       "    }\n",
       "    \n",
       "    .text_cell_render h5 {\n",
       "        font-weight: 300;\n",
       "        font-size: 22pt;\n",
       "        color: #4057A1;\n",
       "        font-style: italic;\n",
       "        margin-bottom: .5em;\n",
       "        margin-top: 0.5em;\n",
       "        display: block;\n",
       "    }\n",
       "    \n",
       "    .warning{\n",
       "        color: rgb( 240, 20, 20 )\n",
       "        }  \n",
       "\n",
       "\t\tdiv.cell.code_cell {  /* Areat containing both code and output */\n",
       "\t\tbackground-color:#F1F0FF; /* light blue */\n",
       "\t\tborder-radius: 10px; /* rounded borders = friendlier */\n",
       "\t\tpadding: 1em;\n",
       "\t\t}\n",
       "</style>\n",
       "<script>\n",
       "    MathJax.Hub.Config({\n",
       "                        TeX: {\n",
       "                           extensions: [\"AMSmath.js\"]\n",
       "                           },\n",
       "                tex2jax: {\n",
       "                    inlineMath: [ ['$','$'], [\"\\\\(\",\"\\\\)\"] ],\n",
       "                    displayMath: [ ['$$','$$'], [\"\\\\[\",\"\\\\]\"] ]\n",
       "                },\n",
       "                displayAlign: 'center', // Change this to 'center' to center equations.\n",
       "                \"HTML-CSS\": {\n",
       "                    styles: {'.MathJax_Display': {\"margin\": 4}}\n",
       "                }\n",
       "        });\n",
       "</script>"
      ],
      "text/plain": [
       "<IPython.core.display.HTML at 0x7ff8e1659390>"
      ]
     },
     "metadata": {},
     "output_type": "display_data"
    }
   ],
   "source": [
    "%run ../talktools.py"
   ]
  },
  {
   "cell_type": "markdown",
   "metadata": {
    "slideshow": {
     "slide_type": "slide"
    }
   },
   "source": [
    "# Dia 1, Sesion 2, Libreta 1: Configurando Python localmente \n",
    "\n",
    "En esta libreta describiremos como configurar Python en su computadora local para poder controlar el dispositivo movil a traves del SL4A. \n",
    "\n",
    "### Prerequisitos\n",
    "1. Dispositivo movil con SL4A instalado y con el interprete de Python\n",
    "2. Modulo `android.py` en el mismo folder donde se ejecuta la libreta.\n",
    "2. Computadora local con el ecosistema de IPython Notebooks\n",
    "3. Cable USB para conectar el dispositivo a la computadora"
   ]
  },
  {
   "cell_type": "markdown",
   "metadata": {
    "slideshow": {
     "slide_type": "slide"
    }
   },
   "source": [
    "## Configuracion\n",
    "\n",
    "Para controlar el dispositivo _Android_ desde el sistema local o _host_, es necesario, primero, autorizar el dispositivo para modo desarrollador en USB.\n",
    "\n",
    "Asegurarse que el controlador de USB para su dispositivo esta configurado correctamente. En Windows una forma rapida de lograr esto es instalando [Kies](http://www.samsung.com/mx/support/usefulsoftware/KIES/), o asegurandose que el [controlador de USB de Google](http://developer.android.com/sdk/win-usb.html) este instalado.\n",
    "\n",
    "El comando **adb** debe estar disponible en el ambiente de su sistema local. Para esto dirigirse al sitio de [desarrollo de android](http://developer.android.com/sdk/index.html#Other) y descargar el instalador del SDK de Android correspondiente a su plataforma. El comando **adb** se instala con el paquete Android SDK Platform-tools y se encuentra en el directorio correspondiente.\n",
    "\n",
    "Es conveniente crear una variable de sistema (windows) para acceder rapidamente al comando. [Las instrucciones estan aqui.](http://www.redmondpie.com/how-to-set-up-android-adb-and-fastboot-on-windows-tutorial/)\n",
    "\n",
    "El comando\n",
    "\n",
    "    !adb devices\n",
    "\n",
    "debera detectar su dispositivo si todo esta correctamente instalado."
   ]
  },
  {
   "cell_type": "code",
   "execution_count": 1,
   "metadata": {
    "collapsed": false
   },
   "outputs": [
    {
     "name": "stdout",
     "output_type": "stream",
     "text": [
      "List of devices attached\n",
      "09c3400a\tunauthorized\n",
      "\n"
     ]
    }
   ],
   "source": [
    "!adb devices"
   ]
  },
  {
   "cell_type": "markdown",
   "metadata": {},
   "source": [
    "Si el comando identifica algun dispositivo quiere decir que esta detectado y esperando conexion remota.\n",
    "\n",
    "El puerto 9999 debe estar configurado en la variable de ambiente `AP_PORT`, esto puede lograrse escribiendo desde una linea de comando\n",
    "\n",
    "    set AP_PORT=9999\n",
    "\n",
    "y estara disponible unicamente para una sesion de IPython Notebooks iniciada desde la misma linea de comando que se definio la variable. Por este razon es conveniente configurarla como una variable del sistema, siguiendo pasos similares a la configuracion del PATH para ejecutar el comando **adb**.\n",
    "\n",
    "Inicien un servicio PRIVADO de SL4A en el dispositivo y repitan el comando `adb devices` para cerciorarse que el dispositivo esta siendo identificado. Despues, determinen el puerto del dispositivo en el que se esta escuchando el servicio de SL4A y escriban este numero al final del siguiente comando:"
   ]
  },
  {
   "cell_type": "code",
   "execution_count": 2,
   "metadata": {
    "collapsed": false
   },
   "outputs": [
    {
     "name": "stderr",
     "output_type": "stream",
     "text": [
      "error: device unauthorized. Please check the confirmation dialog on your device.\n",
      "error: device unauthorized. Please check the confirmation dialog on your device.\n"
     ]
    }
   ],
   "source": [
    "!adb forward tcp:9999 tcp:"
   ]
  },
  {
   "cell_type": "markdown",
   "metadata": {
    "collapsed": true
   },
   "source": [
    "El dispositivo debe estar ahora conectado con su sesion de IPython y pueden controlarlo usando la clase `android.py`.\n",
    "\n",
    "Conviene colocar este modulo en el sitio apropiado donde Python localiza los modulos al iniciar el interprete:"
   ]
  },
  {
   "cell_type": "code",
   "execution_count": 3,
   "metadata": {
    "collapsed": false
   },
   "outputs": [
    {
     "data": {
      "text/plain": [
       "['',\n",
       " 'C:\\\\Users\\\\horacio\\\\Anaconda\\\\python27.zip',\n",
       " 'C:\\\\Users\\\\horacio\\\\Anaconda\\\\DLLs',\n",
       " 'C:\\\\Users\\\\horacio\\\\Anaconda\\\\lib',\n",
       " 'C:\\\\Users\\\\horacio\\\\Anaconda\\\\lib\\\\plat-win',\n",
       " 'C:\\\\Users\\\\horacio\\\\Anaconda\\\\lib\\\\lib-tk',\n",
       " 'C:\\\\Users\\\\horacio\\\\Anaconda',\n",
       " 'c:\\\\users\\\\horacio\\\\anaconda\\\\lib\\\\site-packages\\\\sphinx-1.3.1-py2.7.egg',\n",
       " 'c:\\\\users\\\\horacio\\\\anaconda\\\\lib\\\\site-packages\\\\setuptools-18.1-py2.7.egg',\n",
       " 'C:\\\\Users\\\\horacio\\\\Anaconda\\\\lib\\\\site-packages',\n",
       " 'C:\\\\Users\\\\horacio\\\\Anaconda\\\\lib\\\\site-packages\\\\cryptography-0.9.1-py2.7-win-amd64.egg',\n",
       " 'C:\\\\Users\\\\horacio\\\\Anaconda\\\\lib\\\\site-packages\\\\win32',\n",
       " 'C:\\\\Users\\\\horacio\\\\Anaconda\\\\lib\\\\site-packages\\\\win32\\\\lib',\n",
       " 'C:\\\\Users\\\\horacio\\\\Anaconda\\\\lib\\\\site-packages\\\\Pythonwin',\n",
       " 'C:\\\\Users\\\\horacio\\\\Anaconda\\\\lib\\\\site-packages\\\\IPython\\\\extensions',\n",
       " 'C:\\\\Users\\\\horacio\\\\.ipython']"
      ]
     },
     "execution_count": 3,
     "metadata": {},
     "output_type": "execute_result"
    }
   ],
   "source": [
    "import sys\n",
    "sys.path"
   ]
  },
  {
   "cell_type": "markdown",
   "metadata": {},
   "source": [
    "Observen como al final de la lista aparece un directorio local `.ipython` bajo su usuario. Puede copiar el modulo `android.py` ahi, e inmediatamente estara disponible en el interprete (y para siempre de ahora en adelante), haciendo posible su invocacion"
   ]
  },
  {
   "cell_type": "code",
   "execution_count": 7,
   "metadata": {
    "collapsed": false
   },
   "outputs": [],
   "source": [
    "import android"
   ]
  },
  {
   "cell_type": "code",
   "execution_count": 8,
   "metadata": {
    "collapsed": false
   },
   "outputs": [
    {
     "data": {
      "text/plain": [
       "Result(id=0, result=None, error=None)"
      ]
     },
     "execution_count": 8,
     "metadata": {},
     "output_type": "execute_result"
    }
   ],
   "source": [
    "droide = android.Android()\n",
    "droide.ttsSpeak(\"Hola clase\")"
   ]
  }
 ],
 "metadata": {
  "kernelspec": {
   "display_name": "Python 2",
   "language": "python",
   "name": "python2"
  },
  "language_info": {
   "codemirror_mode": {
    "name": "ipython",
    "version": 2
   },
   "file_extension": ".py",
   "mimetype": "text/x-python",
   "name": "python",
   "nbconvert_exporter": "python",
   "pygments_lexer": "ipython2",
   "version": "2.7.10"
  }
 },
 "nbformat": 4,
 "nbformat_minor": 0
}
