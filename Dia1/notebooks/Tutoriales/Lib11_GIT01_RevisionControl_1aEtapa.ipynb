{
 "metadata": {
  "name": "",
  "signature": "sha256:570e959444b1e31de9931ee31cf6cec2af49ddd241d57ef3be11e589779eef48"
 },
 "nbformat": 3,
 "nbformat_minor": 0,
 "worksheets": [
  {
   "cells": [
    {
     "cell_type": "markdown",
     "metadata": {},
     "source": [
      "# Notas para usar _git_ desde las libretas\n",
      "\n",
      "##1a Etapa: Configuracion, usuario local\n",
      "\n",
      "*Revision control software* o Software de Control de Rrevisiones (**SCR**) es \u00fatil en el control de cualquier contenido digital. \n",
      "Puede usarse para \n",
      "\n",
      "1. seguir los cambios en el c\u00f3digo fuente\n",
      "    * permitiendo volver a versiones anteriores\n",
      "    * trabajar en diferentes \"ramas\" (_branches_) de un software\n",
      "    * marcar revisiones y dar seguimiento a que version esta siendo usada con que fi.\n",
      "    \n",
      "2. Hace posible la colaboraci\u00f3n en el mismo c\u00f3digo de manera simult\u00e1nea:\n",
      "    * permite a varios autores hacer cambios\n",
      "    * comunciar y visualizar los cambios en el c\u00f3digo"
     ]
    },
    {
     "cell_type": "markdown",
     "metadata": {},
     "source": [
      "En un SCR, el contenido se guarda en un *repositorio*"
     ]
    },
    {
     "cell_type": "markdown",
     "metadata": {},
     "source": [
      "#Primeros pasos: configuracion de _git_\n",
      "La configuacion minima que se necesita para usar _git_ es ingresar la informacion de autor (credenciales):"
     ]
    },
    {
     "cell_type": "code",
     "collapsed": false,
     "input": [
      "%%bash \n",
      "git config --global user.name \u00b4Horacio Tapia\u00b4\n",
      "git config --global user.email htapia@lania.edu.mx"
     ],
     "language": "python",
     "metadata": {},
     "outputs": [],
     "prompt_number": 1
    },
    {
     "cell_type": "markdown",
     "metadata": {},
     "source": [
      "Tambien es util indicar como se van a editar los archivos de texto:"
     ]
    },
    {
     "cell_type": "code",
     "collapsed": false,
     "input": [
      "%%bash\n",
      "# Aqui pongan su editor de preferencia. Si no se configura, git usara\n",
      "# el editor del sistema\n",
      "git config --global core.editor /usr/bin/nano\n",
      "\n",
      "# En Windows Notepad debe funcionar\n",
      "\n",
      "# tambien configuremos los colores\n",
      "git config --global color.ui \"auto\""
     ],
     "language": "python",
     "metadata": {},
     "outputs": [],
     "prompt_number": 2
    },
    {
     "cell_type": "markdown",
     "metadata": {},
     "source": [
      "Suponiendo que usemos _git_ constantemente, conviene usar la memoria de caches para las credenciales, de manera que no tengamos que escribir los password frecuentemente:"
     ]
    },
    {
     "cell_type": "code",
     "collapsed": false,
     "input": [
      "%%bash\n",
      "git config --global credential.helper cache\n",
      "# Pondremos el tiempo para 1 hora (en segundos)\n",
      "git config --global credential.helper 'cache --timeout=3600'\n",
      "\n",
      "git config --global push.default simple"
     ],
     "language": "python",
     "metadata": {},
     "outputs": [],
     "prompt_number": 24
    },
    {
     "cell_type": "markdown",
     "metadata": {},
     "source": [
      "La ultima linea en la celda anterior es exclusiva para versiones de Git >2.0 de acuerdo a la siguiente advertencia:\n",
      "\n",
      "> warning: push.default is unset; its implicit value has changed in\n",
      "Git 2.0 from 'matching' to 'simple'. To squelch this message\n",
      "and maintain the traditional behavior, use:\n",
      "\n",
      "  > git config --global push.default matching\n",
      "\n",
      "> To squelch this message and adopt the new behavior now, use:\n",
      "\n",
      "  > git config --global push.default simple\n",
      "\n",
      "> When push.default is set to 'matching', git will push local branches\n",
      "to the remote branches that already exist with the same name.\n",
      "\n",
      "> Since Git 2.0, Git defaults to the more conservative 'simple'\n",
      "behavior, which only pushes the current branch to the corresponding\n",
      "remote branch that 'git pull' uses to update the current branch.\n",
      "\n",
      "> See 'git help config' and search for 'push.default' for further information.\n",
      "> (the 'simple' mode was introduced in Git 1.7.11. Use the similar mode\n",
      "'current' instead of 'simple' if you sometimes use older versions of Git)"
     ]
    },
    {
     "cell_type": "markdown",
     "metadata": {},
     "source": [
      "Github contiene multiples paginas con informacion adicional para configurar y usar en [Windows](https://help.github.com/articles/set-up-git#platform-windows) o en [Mac OSX](https://help.github.com/articles/set-up-git#platform-mac)."
     ]
    },
    {
     "cell_type": "markdown",
     "metadata": {},
     "source": [
      "##1a Etapa: Flujo local, usuario unico\n",
      "Escribiendo `!git` muestra una lista completa de los comandos y opciones:"
     ]
    },
    {
     "cell_type": "code",
     "collapsed": false,
     "input": [
      "!git"
     ],
     "language": "python",
     "metadata": {},
     "outputs": [
      {
       "output_type": "stream",
       "stream": "stdout",
       "text": [
        "usage: git [--version] [--help] [-C <path>] [-c name=value]\r\n",
        "           [--exec-path[=<path>]] [--html-path] [--man-path] [--info-path]\r\n",
        "           [-p|--paginate|--no-pager] [--no-replace-objects] [--bare]\r\n",
        "           [--git-dir=<path>] [--work-tree=<path>] [--namespace=<name>]\r\n",
        "           <command> [<args>]\r\n",
        "\r\n",
        "The most commonly used git commands are:\r\n",
        "   add        Add file contents to the index\r\n",
        "   bisect     Find by binary search the change that introduced a bug\r\n",
        "   branch     List, create, or delete branches\r\n",
        "   checkout   Checkout a branch or paths to the working tree\r\n",
        "   clone      Clone a repository into a new directory\r\n",
        "   commit     Record changes to the repository\r\n",
        "   diff       Show changes between commits, commit and working tree, etc\r\n",
        "   fetch      Download objects and refs from another repository\r\n",
        "   grep       Print lines matching a pattern\r\n",
        "   init       Create an empty Git repository or reinitialize an existing one\r\n",
        "   log        Show commit logs\r\n",
        "   merge      Join two or more development histories together\r\n",
        "   mv         Move or rename a file, a directory, or a symlink\r\n",
        "   pull       Fetch from and integrate with another repository or a local branch\r\n",
        "   push       Update remote refs along with associated objects\r\n",
        "   rebase     Forward-port local commits to the updated upstream head\r\n",
        "   reset      Reset current HEAD to the specified state\r\n",
        "   rm         Remove files from the working tree and from the index\r\n",
        "   show       Show various types of objects\r\n",
        "   status     Show the working tree status\r\n",
        "   tag        Create, list, delete or verify a tag object signed with GPG\r\n",
        "\r\n",
        "'git help -a' and 'git help -g' lists available subcommands and some\r\n",
        "concept guides. See 'git help <command>' or 'git help <concept>'\r\n",
        "to read about a specific subcommand or concept.\r\n"
       ]
      }
     ],
     "prompt_number": 4
    },
    {
     "cell_type": "markdown",
     "metadata": {},
     "source": [
      "###`git init`: creando un repositorio vacio (nuevo)\n",
      "Vamos a crear un repositorio nuevo sin contenido, usando el comando `git init nombre-repositorio`"
     ]
    },
    {
     "cell_type": "code",
     "collapsed": false,
     "input": [
      "%%bash\n",
      "rm -rf gitdemo\n",
      "git init gitdemo"
     ],
     "language": "python",
     "metadata": {},
     "outputs": [
      {
       "output_type": "stream",
       "stream": "stdout",
       "text": [
        "Initialized empty Git repository in /home/htapia/LocalRepos/lania.research/htapiagroup/imageproc/src/gitdemo/.git/\n"
       ]
      }
     ],
     "prompt_number": 5
    },
    {
     "cell_type": "markdown",
     "metadata": {},
     "source": [
      "**Nota** Se supone que estos comandos se ejecuten desde la linea de comando, en donde se ha cambiado a la raiz del directorio del repositorio. Como se esta ejecutando desde la libreta, antecederemos todos los comandos en las celdas de esta libreta por \n",
      "\n",
      "    %%bash\n",
      "    cd gitdemo\n",
      "\n",
      "con lo que le decimos a IPython que realice este cambio. En la terminal, estas dos lineas deben escribirse una sola vez al inicio."
     ]
    },
    {
     "cell_type": "code",
     "collapsed": false,
     "input": [
      "%%bash \n",
      "cd gitdemo\n",
      "ls -al"
     ],
     "language": "python",
     "metadata": {},
     "outputs": [
      {
       "output_type": "stream",
       "stream": "stdout",
       "text": [
        "total 12\n",
        "drwxrwxr-x 3 htapia htapia 4096 sep 15 10:33 .\n",
        "drwxrwxr-x 4 htapia htapia 4096 sep 15 10:33 ..\n",
        "drwxrwxr-x 7 htapia htapia 4096 sep 15 10:33 .git\n"
       ]
      }
     ],
     "prompt_number": 6
    },
    {
     "cell_type": "code",
     "collapsed": false,
     "input": [
      "%%bash \n",
      "cd gitdemo\n",
      "ls -al .git"
     ],
     "language": "python",
     "metadata": {},
     "outputs": [
      {
       "output_type": "stream",
       "stream": "stdout",
       "text": [
        "total 40\n",
        "drwxrwxr-x 7 htapia htapia 4096 sep 15 10:33 .\n",
        "drwxrwxr-x 3 htapia htapia 4096 sep 15 10:33 ..\n",
        "drwxrwxr-x 2 htapia htapia 4096 sep 15 10:33 branches\n",
        "-rwxrw-r-- 1 htapia htapia   92 sep 15 10:33 config\n",
        "-rw-rw-r-- 1 htapia htapia   73 sep 15 10:33 description\n",
        "-rw-rw-r-- 1 htapia htapia   23 sep 15 10:33 HEAD\n",
        "drwxrwxr-x 2 htapia htapia 4096 sep 15 10:33 hooks\n",
        "drwxrwxr-x 2 htapia htapia 4096 sep 15 10:33 info\n",
        "drwxrwxr-x 4 htapia htapia 4096 sep 15 10:33 objects\n",
        "drwxrwxr-x 4 htapia htapia 4096 sep 15 10:33 refs\n"
       ]
      }
     ],
     "prompt_number": 7
    },
    {
     "cell_type": "markdown",
     "metadata": {},
     "source": [
      "####Nuestro primer archivo\n",
      "Ahora editemos nuestro primero archivo del repositorio:"
     ]
    },
    {
     "cell_type": "code",
     "collapsed": false,
     "input": [
      "%%bash\n",
      "cd gitdemo\n",
      "\n",
      "echo \"Mi primer texto\" > archivo1.txt"
     ],
     "language": "python",
     "metadata": {},
     "outputs": [],
     "prompt_number": 8
    },
    {
     "cell_type": "markdown",
     "metadata": {},
     "source": [
      "###`git add`: o decirle a git que hay un nuevo archivo"
     ]
    },
    {
     "cell_type": "code",
     "collapsed": false,
     "input": [
      "%%bash\n",
      "cd gitdemo/\n",
      "\n",
      "git add archivo1.txt"
     ],
     "language": "python",
     "metadata": {},
     "outputs": [],
     "prompt_number": 9
    },
    {
     "cell_type": "markdown",
     "metadata": {},
     "source": [
      "Que fue lo que paso? Podemos preguntarle a `git` usando `status`:"
     ]
    },
    {
     "cell_type": "code",
     "collapsed": false,
     "input": [
      "%%bash\n",
      "cd gitdemo/\n",
      "\n",
      "git status"
     ],
     "language": "python",
     "metadata": {},
     "outputs": [
      {
       "output_type": "stream",
       "stream": "stdout",
       "text": [
        "On branch master\n",
        "\n",
        "Initial commit\n",
        "\n",
        "Changes to be committed:\n",
        "  (use \"git rm --cached <file>...\" to unstage)\n",
        "\n",
        "\tnew file:   archivo1.txt\n",
        "\n"
       ]
      }
     ],
     "prompt_number": 10
    },
    {
     "cell_type": "markdown",
     "metadata": {},
     "source": [
      "###`git commit`: guardando permanentemente los records de los cabmios a la base de datos de _git_\n",
      "Por ahora sera suficiente usar `git commit` usando la opcion `-a` o con nombres de archivos especificos."
     ]
    },
    {
     "cell_type": "code",
     "collapsed": false,
     "input": [
      "%%bash\n",
      "cd gitdemo/\n",
      "\n",
      "git commit -a -m\"Este archivo refleja el primer compromiso\""
     ],
     "language": "python",
     "metadata": {},
     "outputs": [
      {
       "output_type": "stream",
       "stream": "stdout",
       "text": [
        "[master (root-commit) 0200580] Este archivo refleja el primer compromiso\n",
        " 1 file changed, 1 insertion(+)\n",
        " create mode 100644 archivo1.txt\n"
       ]
      }
     ],
     "prompt_number": 11
    },
    {
     "cell_type": "markdown",
     "metadata": {},
     "source": [
      "En el `commit` que acabamos de realizar usamos la opcion `-m` para especificar un mensaje desde la linea de comando. Si no usamos esta opcion, _git_ abre el editor especificado en la configuracion y **requiere** que se ingrese un mensaje. Por default _git_ no acepta guardar record que no tienen un mensaje. Esto corresponde a una buena practica de un repositorio."
     ]
    },
    {
     "cell_type": "markdown",
     "metadata": {},
     "source": [
      "###`git log`: revisando lo que hemos hecho"
     ]
    },
    {
     "cell_type": "code",
     "collapsed": false,
     "input": [
      "%%bash\n",
      "cd gitdemo/\n",
      "\n",
      "git log"
     ],
     "language": "python",
     "metadata": {},
     "outputs": [
      {
       "output_type": "stream",
       "stream": "stdout",
       "text": [
        "commit 02005802cfe8e8070f8acac01bf2258c23a1470b\n",
        "Author: \u00b4Horacio <htapia@lania.edu.mx>\n",
        "Date:   Mon Sep 15 10:33:40 2014 -0500\n",
        "\n",
        "    Este archivo refleja el primer compromiso\n"
       ]
      }
     ],
     "prompt_number": 12
    },
    {
     "cell_type": "markdown",
     "metadata": {},
     "source": [
      "###`git diff`: que ha cambiado en el repositorio\n",
      "Primero haremos una simulacion de trabajo....En la practica editamos textos o archivos. En este ejemplo lo haremos usando comandos del SO via el _shell_"
     ]
    },
    {
     "cell_type": "code",
     "collapsed": false,
     "input": [
      "%%bash\n",
      "cd gitdemo/\n",
      "\n",
      "echo \"Esta linea es mi segundo texto...\" >> archivo1.txt"
     ],
     "language": "python",
     "metadata": {},
     "outputs": [],
     "prompt_number": 13
    },
    {
     "cell_type": "markdown",
     "metadata": {},
     "source": [
      "Preguntemos a _git_ que ha cambiado:"
     ]
    },
    {
     "cell_type": "code",
     "collapsed": false,
     "input": [
      "%%bash\n",
      "cd gitdemo/\n",
      "\n",
      "git diff"
     ],
     "language": "python",
     "metadata": {},
     "outputs": [
      {
       "output_type": "stream",
       "stream": "stdout",
       "text": [
        "diff --git a/archivo1.txt b/archivo1.txt\n",
        "index 3e3c9c6..6ac799a 100644\n",
        "--- a/archivo1.txt\n",
        "+++ b/archivo1.txt\n",
        "@@ -1 +1,2 @@\n",
        " Mi primer texto\n",
        "+Esta linea es mi segundo texto...\n"
       ]
      }
     ],
     "prompt_number": 14
    },
    {
     "cell_type": "markdown",
     "metadata": {},
     "source": [
      "## El ciclo de `git`: trabajo, \"commit\", trabajo, \"commit\", ..."
     ]
    },
    {
     "cell_type": "code",
     "collapsed": false,
     "input": [
      "%%bash\n",
      "cd gitdemo/\n",
      "\n",
      "git commit -a -m\"Por fin algo de progreso\""
     ],
     "language": "python",
     "metadata": {},
     "outputs": [
      {
       "output_type": "stream",
       "stream": "stdout",
       "text": [
        "[master fa79ff4] Por fin algo de progreso\n",
        " 1 file changed, 1 insertion(+)\n"
       ]
      }
     ],
     "prompt_number": 15
    },
    {
     "cell_type": "markdown",
     "metadata": {},
     "source": [
      "###`git log` de nuevo\n",
      "Veamos que nos muestra el _log_"
     ]
    },
    {
     "cell_type": "code",
     "collapsed": false,
     "input": [
      "%%bash\n",
      "cd gitdemo/\n",
      "\n",
      "git log"
     ],
     "language": "python",
     "metadata": {},
     "outputs": [
      {
       "output_type": "stream",
       "stream": "stdout",
       "text": [
        "commit fa79ff4e04b6f30a5e8404f44c7c7c10cc858405\n",
        "Author: \u00b4Horacio <htapia@lania.edu.mx>\n",
        "Date:   Mon Sep 15 10:33:41 2014 -0500\n",
        "\n",
        "    Por fin algo de progreso\n",
        "\n",
        "commit 02005802cfe8e8070f8acac01bf2258c23a1470b\n",
        "Author: \u00b4Horacio <htapia@lania.edu.mx>\n",
        "Date:   Mon Sep 15 10:33:40 2014 -0500\n",
        "\n",
        "    Este archivo refleja el primer compromiso\n"
       ]
      }
     ],
     "prompt_number": 16
    },
    {
     "cell_type": "markdown",
     "metadata": {},
     "source": [
      "A veces un resumen es de utilidad:"
     ]
    },
    {
     "cell_type": "code",
     "collapsed": false,
     "input": [
      "%%bash\n",
      "cd gitdemo/\n",
      "\n",
      "git log --oneline --topo-order --graph"
     ],
     "language": "python",
     "metadata": {},
     "outputs": [
      {
       "output_type": "stream",
       "stream": "stdout",
       "text": [
        "* fa79ff4 Por fin algo de progreso\n",
        "* 0200580 Este archivo refleja el primer compromiso\n"
       ]
      }
     ],
     "prompt_number": 17
    },
    {
     "cell_type": "markdown",
     "metadata": {},
     "source": [
      "Git tiene soporte para usar _aliases_ dando la opcion de crear combinaciones de comandos. Por ejemplo podemos crear una _alias_ para el resumen anterior:      "
     ]
    },
    {
     "cell_type": "code",
     "collapsed": false,
     "input": [
      "%%bash\n",
      "cd gitdemo\n",
      "\n",
      "git config --global alias.slog \"log --oneline --topo-order --graph\"\n",
      "\n",
      "git slog  "
     ],
     "language": "python",
     "metadata": {},
     "outputs": [
      {
       "output_type": "stream",
       "stream": "stdout",
       "text": [
        "* fa79ff4 Por fin algo de progreso\n",
        "* 0200580 Este archivo refleja el primer compromiso\n"
       ]
      }
     ],
     "prompt_number": 20
    },
    {
     "cell_type": "markdown",
     "metadata": {},
     "source": [
      "###`git mv` y `git rm`: moviendo y borrando archivos\n",
      "Recuerden que usamos `git add` para agregar archivos a la lista de seguimiento de git. Tambien necesitamos una forma de decirle a `git` si queremos que los nombres cambien o si los queremos eliminar de la lista de seguimiento. Para esto usamos `mv` y `rm`, similar a los comandos del SO UNIX:"
     ]
    },
    {
     "cell_type": "code",
     "collapsed": false,
     "input": [
      "%%bash\n",
      "cd gitdemo/\n",
      "\n",
      "git mv archivo1.txt archivo-nuevo.txt\n",
      "git status"
     ],
     "language": "python",
     "metadata": {},
     "outputs": [
      {
       "output_type": "stream",
       "stream": "stdout",
       "text": [
        "On branch master\n",
        "Changes to be committed:\n",
        "  (use \"git reset HEAD <file>...\" to unstage)\n",
        "\n",
        "\trenamed:    archivo1.txt -> archivo-nuevo.txt\n",
        "\n"
       ]
      }
     ],
     "prompt_number": 19
    },
    {
     "cell_type": "markdown",
     "metadata": {},
     "source": [
      "Estos cambios tambien deben de _comprometerse_ via `commit` para que sean permanentes:"
     ]
    },
    {
     "cell_type": "code",
     "collapsed": false,
     "input": [
      "%%bash\n",
      "cd gitdemo/\n",
      "\n",
      "git commit -a -m\"Me gusta mas este nombre\"\n",
      "echo \"Aqui esta el resumen:\"\n",
      "git slog"
     ],
     "language": "python",
     "metadata": {},
     "outputs": [
      {
       "output_type": "stream",
       "stream": "stdout",
       "text": [
        "[master 8a184cf] Me gusta mas este nombre\n",
        " 1 file changed, 0 insertions(+), 0 deletions(-)\n",
        " rename archivo1.txt => archivo-nuevo.txt (100%)\n",
        "Aqui esta el resumen:\n",
        "* 8a184cf Me gusta mas este nombre\n",
        "* fa79ff4 Por fin algo de progreso\n",
        "* 0200580 Este archivo refleja el primer compromiso\n"
       ]
      }
     ],
     "prompt_number": 22
    },
    {
     "cell_type": "markdown",
     "metadata": {},
     "source": [
      "`git rm` tiene una funcionalidad similar."
     ]
    },
    {
     "cell_type": "markdown",
     "metadata": {},
     "source": [
      "###Ejercicio\n",
      "Agregar un nuevo archivo `archivo2.txt` al repositorio. No olvidar usar `commit` despues de `add`. Despues realizar algunos cambios en el archiov y volverlo a incluir en el repositorio (usando `commit`). Finalmente borrarlo del repositorio (no olvidar hacer `commit`!)."
     ]
    }
   ],
   "metadata": {}
  }
 ]
}