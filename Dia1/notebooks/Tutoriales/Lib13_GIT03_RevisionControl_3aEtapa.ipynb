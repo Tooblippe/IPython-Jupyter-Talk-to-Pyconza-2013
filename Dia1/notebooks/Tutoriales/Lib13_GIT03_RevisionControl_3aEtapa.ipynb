{
 "metadata": {
  "name": "",
  "signature": "sha256:8e45ba77b6cd8e1cdc6574a440087f21f386455273effe5fd87041d5da5a6602"
 },
 "nbformat": 3,
 "nbformat_minor": 0,
 "worksheets": [
  {
   "cells": [
    {
     "cell_type": "markdown",
     "metadata": {},
     "source": [
      "# Notas para usar _git_ desde las libretas\n",
      "\n",
      "##3a Etapa: Usuario local, repositorios remotos\n",
      "\n",
      "\n",
      "*Revision control software* o Software de Control de Rrevisiones (**SCR**) es \u00fatil en el control de cualquier contenido digital.\n",
      "\n",
      "Esta libreta presupone que se han ejecutado y entendido los comandos de las libretas \n",
      "\n",
      "* [Lib01_GIT_RevisionControl_1aEtapa](Lib01_GIT_RevisionControl_1aEtapa.ipynb),\n",
      "* [Lib02_GIT_RevisionControl_2aEtapa](Lib02_GIT_RevisionControl_2aEtapa.ipynb)"
     ]
    },
    {
     "cell_type": "markdown",
     "metadata": {},
     "source": [
      "##Repositorios remotos\n",
      "En esta etapa introduciremos el concepto de repositorios remotos: un puntero a otra copia del repositorio que vive en una localidad distinta. Esta puede ser la ruta a un folder en el sistema de archivos o puede ser un servidor en la red.\n",
      "\n",
      "Para este ejemplo usaremos repositorios remotos organizados en el servicio de la nube [GitHub.com](http://github.com)."
     ]
    },
    {
     "cell_type": "code",
     "collapsed": false,
     "input": [
      "%%bash\n",
      "cd gitdemo/\n",
      "\n",
      "ls\n",
      "echo \"Veamos si tenemos algun repositorio remoto aqui:\"\n",
      "git remote -v"
     ],
     "language": "python",
     "metadata": {},
     "outputs": [
      {
       "output_type": "stream",
       "stream": "stdout",
       "text": [
        "archivo-nuevo.txt\n",
        "experimento.txt\n",
        "Veamos si tenemos algun repositorio remoto aqui:\n"
       ]
      }
     ],
     "prompt_number": 2
    },
    {
     "cell_type": "markdown",
     "metadata": {},
     "source": [
      "Dado que no hay salida producida por el comando `git remote -v`, no existen repositorio remotos configurados. Ahora haremos uno. Para esto necesitan credenciales de acceso al servicio. Si no las tienen aun, [solicitenlas en este enlace](https://github.com/join) (el servicio es gratis). "
     ]
    },
    {
     "cell_type": "markdown",
     "metadata": {},
     "source": [
      "Una vez que han ingresado al servicio, dirijanse a la [pagina para crear un repositorio nuevo](https://github.com/new) y hagan uno que se llame `prueba`. **No** marquen la opcion `Initialize this repository with a README`, ya que tenemos un repositorio existente en el archivo local. Esa opcion es practica si se esta creando el repositorio desde Github y no se tiene ya uno en su computadora local.\n",
      "\n",
      "Sigan las instrucciones de las paginas siguientes (**Atencion**: el siguiente comando requiere de las credenciales de ingreso al servicio. Si se ejecutan desde la libreta y el tiempo de cache ha pasado, no podran acceder desde aqui)."
     ]
    },
    {
     "cell_type": "code",
     "collapsed": false,
     "input": [
      "%%bash\n",
      "cd gitdemo/\n",
      "\n",
      "git remote add origin https://github.com/htapia/prueba.git\n",
      "git push -u origin master"
     ],
     "language": "python",
     "metadata": {},
     "outputs": [
      {
       "output_type": "stream",
       "stream": "stdout",
       "text": [
        "Branch master set up to track remote branch master from origin.\n"
       ]
      },
      {
       "output_type": "stream",
       "stream": "stderr",
       "text": [
        "fatal: remote origin already exists.\n",
        "Everything up-to-date\n"
       ]
      }
     ],
     "prompt_number": 4
    },
    {
     "cell_type": "markdown",
     "metadata": {},
     "source": [
      "Veamos de nuevo la situacion de repositorios remotos:"
     ]
    },
    {
     "cell_type": "code",
     "collapsed": false,
     "input": [
      "%%bash\n",
      "cd gitdemo/\n",
      "\n",
      "git remote -v"
     ],
     "language": "python",
     "metadata": {},
     "outputs": [
      {
       "output_type": "stream",
       "stream": "stdout",
       "text": [
        "origin\thttps://github.com/htapia/prueba.git (fetch)\n",
        "origin\thttps://github.com/htapia/prueba.git (push)\n"
       ]
      }
     ],
     "prompt_number": 5
    },
    {
     "cell_type": "markdown",
     "metadata": {},
     "source": [
      "El [repositorio recien creado es publico en github](repositorio recien creado es publico en github).\n",
      "\n",
      "Veamos como puede ser util esto para resguardar y sincronizar trabajo entre dos computadoras diferentes. Simularemos una segunda computadora trabajando en un directorio distinto..."
     ]
    },
    {
     "cell_type": "code",
     "collapsed": false,
     "input": [
      "%%bash\n",
      "git clone https://github.com/htapia/prueba.git prueba2\n",
      "cd prueba2\n",
      "pwd\n",
      "git remote -v"
     ],
     "language": "python",
     "metadata": {},
     "outputs": [
      {
       "output_type": "stream",
       "stream": "stdout",
       "text": [
        "/home/htapia/LocalRepos/lania.research/htapiagroup/imageproc/src/prueba2\n",
        "origin\thttps://github.com/htapia/prueba.git (fetch)\n",
        "origin\thttps://github.com/htapia/prueba.git (push)\n"
       ]
      },
      {
       "output_type": "stream",
       "stream": "stderr",
       "text": [
        "Cloning into 'prueba2'...\n"
       ]
      }
     ],
     "prompt_number": 6
    },
    {
     "cell_type": "markdown",
     "metadata": {},
     "source": [
      "Ahora haremos unos cambios en la \"computadora\" y los sincronizaremos en la segunda."
     ]
    },
    {
     "cell_type": "code",
     "collapsed": false,
     "input": [
      "ls prueba2/"
     ],
     "language": "python",
     "metadata": {},
     "outputs": [
      {
       "output_type": "stream",
       "stream": "stdout",
       "text": [
        "archivo-nuevo.txt  experimento.txt\r\n"
       ]
      }
     ],
     "prompt_number": 7
    },
    {
     "cell_type": "code",
     "collapsed": false,
     "input": [
      "%%bash\n",
      "cd prueba2/\n",
      "\n",
      "echo \"Otros resultados del experimento en otra maquina\" >> experimento.txt\n",
      "git commit -a -m\"Un poco mas trabajo, realizado en la computadora #2\""
     ],
     "language": "python",
     "metadata": {},
     "outputs": [
      {
       "output_type": "stream",
       "stream": "stdout",
       "text": [
        "[master 8c425f5] Un poco mas trabajo, realizado en la computadora #2\n",
        " 1 file changed, 1 insertion(+)\n"
       ]
      }
     ],
     "prompt_number": 11
    },
    {
     "cell_type": "markdown",
     "metadata": {},
     "source": [
      "Ahora pondremos este avance en el trabajo en los servidores de github, de este modo lo hacemos accesible desde el internet."
     ]
    },
    {
     "cell_type": "code",
     "collapsed": false,
     "input": [
      "%%bash\n",
      "cd prueba2/\n",
      "\n",
      "git push"
     ],
     "language": "python",
     "metadata": {},
     "outputs": [
      {
       "output_type": "stream",
       "stream": "stderr",
       "text": [
        "To https://github.com/htapia/prueba.git\n",
        "   8c1e969..8c425f5  master -> master\n"
       ]
      }
     ],
     "prompt_number": 12
    },
    {
     "cell_type": "markdown",
     "metadata": {},
     "source": [
      "Ahora \"traeremos\" (_fetch_) el trabajo realizado a la maquina 1:"
     ]
    },
    {
     "cell_type": "code",
     "collapsed": false,
     "input": [
      "%%bash\n",
      "cd gitdemo/\n",
      "\n",
      "git pull"
     ],
     "language": "python",
     "metadata": {},
     "outputs": [
      {
       "output_type": "stream",
       "stream": "stdout",
       "text": [
        "Updating 0436e0e..8c425f5\n",
        "Fast-forward\n",
        " experimento.txt | 2 ++\n",
        " 1 file changed, 2 insertions(+)\n"
       ]
      },
      {
       "output_type": "stream",
       "stream": "stderr",
       "text": [
        "From https://github.com/htapia/prueba\n",
        "   0436e0e..8c425f5  master     -> origin/master\n"
       ]
      }
     ],
     "prompt_number": 13
    }
   ],
   "metadata": {}
  }
 ]
}