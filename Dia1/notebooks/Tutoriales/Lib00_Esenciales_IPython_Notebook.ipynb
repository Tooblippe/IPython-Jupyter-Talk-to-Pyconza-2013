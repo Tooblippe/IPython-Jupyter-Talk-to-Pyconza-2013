{
 "metadata": {
  "name": "",
  "signature": "sha256:5644b82ef803aae9cae630da1da689899886aa678756f09404cc4e3ffa1fa9a0"
 },
 "nbformat": 3,
 "nbformat_minor": 0,
 "worksheets": [
  {
   "cells": [
    {
     "cell_type": "code",
     "collapsed": false,
     "input": [
      "%run ../talktools.py"
     ],
     "language": "python",
     "metadata": {
      "slideshow": {
       "slide_type": "skip"
      }
     },
     "outputs": [
      {
       "html": [
        "<link href='http://fonts.googleapis.com/css?family=Alegreya+Sans:100,300,400,500,700,800,900,100italic,300italic,400italic,500italic,700italic,800italic,900italic' rel='stylesheet' type='text/css'>\n",
        "<link href='http://fonts.googleapis.com/css?family=Arvo:400,700,400italic' rel='stylesheet' type='text/css'>\n",
        "<link href='http://fonts.googleapis.com/css?family=PT+Mono' rel='stylesheet' type='text/css'>\n",
        "<link href='http://fonts.googleapis.com/css?family=Shadows+Into+Light' rel='stylesheet' type='text/css'>\n",
        "<link href='http://fonts.googleapis.com/css?family=Nixie+One' rel='stylesheet' type='text/css'>\n",
        "<style>\n",
        "\n",
        "@font-face {\n",
        "    font-family: \"Computer Modern\";\n",
        "    src: url('http://mirrors.ctan.org/fonts/cm-unicode/fonts/otf/cmunss.otf');\n",
        "}\n",
        "\n",
        "#notebook_panel { /* main background */\n",
        "    background: rgb(245,245,245);\n",
        "}\n",
        "\n",
        "div.cell { /* set cell width */\n",
        "    width: 750px;\n",
        "}\n",
        "\n",
        "div #notebook { /* centre the content */\n",
        "    background: #fff; /* white background for content */\n",
        "    width: 1000px;\n",
        "    margin: auto;\n",
        "    padding-left: 0em;\n",
        "}\n",
        "\n",
        "#notebook li { /* More space between bullet points */\n",
        "margin-top:0.8em;\n",
        "}\n",
        "\n",
        "/* draw border around running cells */\n",
        "div.cell.border-box-sizing.code_cell.running { \n",
        "    border: 1px solid #111;\n",
        "}\n",
        "\n",
        "/* Put a solid color box around each cell and its output, visually linking them*/\n",
        "div.cell.code_cell {\n",
        "    background-color: rgb(256,256,256); \n",
        "    border-radius: 0px; \n",
        "    padding: 0.5em;\n",
        "    margin-left:1em;\n",
        "    margin-top: 1em;\n",
        "}\n",
        "\n",
        "div.text_cell_render{\n",
        "    font-family: 'Alegreya Sans' sans-serif;\n",
        "    line-height: 140%;\n",
        "    font-size: 125%;\n",
        "    font-weight: 400;\n",
        "    width:600px;\n",
        "    margin-left:auto;\n",
        "    margin-right:auto;\n",
        "}\n",
        "\n",
        "\n",
        "/* Formatting for header cells */\n",
        ".text_cell_render h1 {\n",
        "    font-family: 'Nixie One', serif;\n",
        "    font-style:regular;\n",
        "    font-weight: 400;    \n",
        "    font-size: 45pt;\n",
        "    line-height: 100%;\n",
        "    color: rgb(0,51,102);\n",
        "    margin-bottom: 0.5em;\n",
        "    margin-top: 0.5em;\n",
        "    display: block;\n",
        "}\t\n",
        ".text_cell_render h2 {\n",
        "    font-family: 'Nixie One', serif;\n",
        "    font-weight: 400;\n",
        "    font-size: 30pt;\n",
        "    line-height: 100%;\n",
        "    color: rgb(0,51,102);\n",
        "    margin-bottom: 0.1em;\n",
        "    margin-top: 0.3em;\n",
        "    display: block;\n",
        "}\t\n",
        "\n",
        ".text_cell_render h3 {\n",
        "    font-family: 'Nixie One', serif;\n",
        "    margin-top:16px;\n",
        "\tfont-size: 22pt;\n",
        "    font-weight: 600;\n",
        "    margin-bottom: 3px;\n",
        "    font-style: regular;\n",
        "    color: rgb(102,102,0);\n",
        "}\n",
        "\n",
        ".text_cell_render h4 {    /*Use this for captions*/\n",
        "    font-family: 'Nixie One', serif;\n",
        "    font-size: 14pt;\n",
        "    text-align: center;\n",
        "    margin-top: 0em;\n",
        "    margin-bottom: 2em;\n",
        "    font-style: regular;\n",
        "}\n",
        "\n",
        ".text_cell_render h5 {  /*Use this for small titles*/\n",
        "    font-family: 'Nixie One', sans-serif;\n",
        "    font-weight: 400;\n",
        "    font-size: 16pt;\n",
        "    color: rgb(163,0,0);\n",
        "    font-style: italic;\n",
        "    margin-bottom: .1em;\n",
        "    margin-top: 0.8em;\n",
        "    display: block;\n",
        "}\n",
        "\n",
        ".text_cell_render h6 { /*use this for copyright note*/\n",
        "    font-family: 'PT Mono', sans-serif;\n",
        "    font-weight: 300;\n",
        "    font-size: 9pt;\n",
        "    line-height: 100%;\n",
        "    color: grey;\n",
        "    margin-bottom: 1px;\n",
        "    margin-top: 1px;\n",
        "}\n",
        "\n",
        ".CodeMirror{\n",
        "        font-family: \"PT Mono\";\n",
        "        font-size: 90%;\n",
        "}\n",
        "\n",
        "</style>\n",
        "<script>\n",
        "    MathJax.Hub.Config({\n",
        "                        TeX: {\n",
        "                           extensions: [\"AMSmath.js\"],\n",
        "                           equationNumbers: { autoNumber: \"AMS\", useLabelIds: true}\n",
        "                           },\n",
        "                tex2jax: {\n",
        "                    inlineMath: [ ['$','$'], [\"\\\\(\",\"\\\\)\"] ],\n",
        "                    displayMath: [ ['$$','$$'], [\"\\\\[\",\"\\\\]\"] ]\n",
        "                },\n",
        "                displayAlign: 'center', // Change this to 'center' to center equations.\n",
        "                \"HTML-CSS\": {\n",
        "                    styles: {'.MathJax_Display': {\"margin\": 4}}\n",
        "                }\n",
        "        });\n",
        "</script>"
       ],
       "metadata": {},
       "output_type": "display_data",
       "text": [
        "<IPython.core.display.HTML at 0x7fd47af57e50>"
       ]
      }
     ],
     "prompt_number": 1
    },
    {
     "cell_type": "markdown",
     "metadata": {
      "slideshow": {
       "slide_type": "slide"
      }
     },
     "source": [
      "Instalacion y configuracion de IPython\n",
      "=====\n",
      "\n",
      "Esta libreta describe el proceso de instalacion mas sencillo para tener un ambiente de computo basado en [IPython](http://ipython.org/) en su computadora.\n",
      "\n",
      "![http://ipython.org/_static/IPy_header.png](http://ipython.org/_static/IPy_header.png)\n",
      "\n",
      "[IPython](http://ipython.org/) es un conjunto de herramientas originalmente desarrolladas para hacer mas facil el trabajo de cientificos usando Python y datos. Permite combinar Python de manera exploratorio e interactiva con otros programas e incluso con texto y ecuaciones.\n",
      "\n",
      "*IPython no es un lenguaje de programacion distinto, es solo un conjunto de programas para trabajar con Python.*"
     ]
    },
    {
     "cell_type": "markdown",
     "metadata": {
      "slideshow": {
       "slide_type": "slide"
      }
     },
     "source": [
      "# Instalando IPython\n",
      "\n",
      "Hay varias formas de instalar Python y el ambiente de IPython Notebook. "
     ]
    },
    {
     "cell_type": "code",
     "collapsed": false,
     "input": [
      "HTML('<iframe src=http://ipython.org/install.html width=750 height=350></iframe>')"
     ],
     "language": "python",
     "metadata": {
      "slideshow": {
       "slide_type": "fragment"
      }
     },
     "outputs": [
      {
       "html": [
        "<iframe src=http://ipython.org/install.html width=750 height=350></iframe>"
       ],
       "metadata": {},
       "output_type": "pyout",
       "prompt_number": 2,
       "text": [
        "<IPython.core.display.HTML at 0x7fedc06da550>"
       ]
      }
     ],
     "prompt_number": 2
    },
    {
     "cell_type": "markdown",
     "metadata": {},
     "source": [
      "## Windows/MAC-OSX\n",
      "Si estan usando Windows o MAC OS X, recomendamos descargar e instalar [Anaconda](http://continuum.io/downloads.html), que es un instaladaor de Python que contiene un conjunto herramientas utiles para empezar a desarrollar programas (incluyendo IPython Notebook).\n",
      "\n",
      "##Linux\n",
      "Si estan usando GNU/Linux, Anaconda tambien esta disponible, pero se recomienda tratar de instalar los programas usando los repositorios de la distribucion (ver Otras Alternativas)."
     ]
    },
    {
     "cell_type": "markdown",
     "metadata": {
      "slideshow": {
       "slide_type": "subslide"
      }
     },
     "source": [
      "**Anaconda es un archivo relativamente grande para descargar (~ 300Mb) asi que se recomieda descargarlo antes del inicio del curso.**\n",
      "\n",
      "Anaconda viene con una version propia de Python 2.7, IPython Notebook, mas otras librerias como `matplotlib`, y un administrador de paquetes (\"conda\") que puede usarse para instalar de manera muy sencilla otros paquetes o versiones de Python."
     ]
    },
    {
     "cell_type": "code",
     "collapsed": false,
     "input": [
      "HTML('<iframe src=https://store.continuum.io/cshop/anaconda/ width=750 height=350></iframe>')"
     ],
     "language": "python",
     "metadata": {
      "slideshow": {
       "slide_type": "subslide"
      }
     },
     "outputs": [
      {
       "html": [
        "<iframe src=https://store.continuum.io/cshop/anaconda/ width=750 height=350></iframe>"
       ],
       "metadata": {},
       "output_type": "pyout",
       "prompt_number": 3,
       "text": [
        "<IPython.core.display.HTML at 0x7fedc06da390>"
       ]
      }
     ],
     "prompt_number": 3
    },
    {
     "cell_type": "markdown",
     "metadata": {
      "slideshow": {
       "slide_type": "subslide"
      }
     },
     "source": [
      "## Otras Alternativas\n",
      "\n",
      "**Esta seccion es solamente si no quieren o no pueden usar Anaconda**\n",
      "\n",
      "Anaconda (ver arriba) es la forma mas sencilla de tener un sistema funcionando. Existen otras opciones de instalacion que pueden pronar si desean intentar algo diferente:\n",
      "\n",
      "* En Linux, la mayoria de los adminstradores de paquetes incluye IPython Notebook. Por ejemplo, en Ubuntu o Debian:\n",
      "\n",
      "        sudo apt-get install ipython-notebook python-matplotlib\n",
      "\n",
      "* Si tienen instalado 'pip', pueden obtener IPython y matplotlib via 'pip' de la siguiente manera:\n",
      "\n",
      "        pip install ipython[notebook]\n",
      "\n",
      "(En OS X puede ser necesario tener Xcode para compilar las dependencias.)\n",
      "\n",
      "* Si no pueden instalar IPython Notebook o hacerlo funcionar en su computadore, existe un servicio web llamado [Wakari](https://www.wakari.io/) que es gratis. En este caso los programas no se ejecutan en su computadora, sino \"en la nube\" en los servidores de Wakari, y solamente veran los resultados en su navegador."
     ]
    },
    {
     "cell_type": "code",
     "collapsed": false,
     "input": [
      "HTML('<iframe src=https://www.wakari.io/wakari width=750 height=350></iframe>')"
     ],
     "language": "python",
     "metadata": {
      "slideshow": {
       "slide_type": "subslide"
      }
     },
     "outputs": [
      {
       "html": [
        "<iframe src=https://www.wakari.io/wakari width=750 height=350></iframe>"
       ],
       "metadata": {},
       "output_type": "pyout",
       "prompt_number": 4,
       "text": [
        "<IPython.core.display.HTML at 0x7fedc06da450>"
       ]
      }
     ],
     "prompt_number": 4
    },
    {
     "cell_type": "markdown",
     "metadata": {
      "slideshow": {
       "slide_type": "subslide"
      }
     },
     "source": [
      "## Nota acerca de Python 3\n",
      "\n",
      "Anaconda y otros instaladores vienen con Python version 2.\n",
      "\n",
      "El mundo de Python esta migrando lentamente hacia Python 3. IPython esta disponible para ambos 2 & 3 y Anaconda permite elegir entre 2.7 y 3.4.\n",
      "\n",
      "Entre Python 2 y Python 3 hay algunas incompatibilidades en la sintaxis del lenguaje. Los programas que presentaremos usaremos en este curso estan dise\u00f1ados para Python 2 y es muy probable que no funcionen correctamente con Python 3 aun."
     ]
    },
    {
     "cell_type": "markdown",
     "metadata": {
      "slideshow": {
       "slide_type": "slide"
      }
     },
     "source": [
      "## Iniciando las IPython Notebook\n",
      "\n",
      "La interaccion con IPython Notebook es a traves de un navegador de internet. El programa crea un \"servidor web\" local en su computadora al que se conecta.\n",
      "\n",
      "En Windows, puede encontrarse un programa para IPython Notebook bajo Anaconda en el menu de inicio.\n",
      "\n",
      "En Linux o en OS X, IPython Notebook puede inicializarse desde la linea de comando, abriendo una terminal, navegando a un directorio donde se desean guardar los archivos y documentos de las libretas (usando 'cd') y desde esa ruta escribiendo el siguiente comando:\n",
      "\n",
      "    ipython notebook"
     ]
    },
    {
     "cell_type": "markdown",
     "metadata": {
      "slideshow": {
       "slide_type": "subslide"
      }
     },
     "source": [
      "Si observan la terminal, veran algo como esto:\n",
      "\n",
      "    [NotebookApp] Using existing profile dir: u'/home/gus/.ipython/profile_default'\n",
      "    [NotebookApp] Serving notebooks from /home/gus/workshops\n",
      "    [NotebookApp] The IPython Notebook is running at: http://127.0.0.1:8888/\n",
      "    [NotebookApp] Use Control-C to stop this server and shut down all kernels.\n",
      "\n",
      "Automaticamente debe abrirse un navegador de internet mostrando la interface de IPython Notebook. En caso contrario puede copiarse la direccion en la barra del navegador.\n",
      "\n",
      "A pesar de que interactuan con IPython Notebook usando su navegador, Notebook corre y ejecuta en su computadora en ese ventana. Solamente ustedes tienen acceso a ella."
     ]
    },
    {
     "cell_type": "markdown",
     "metadata": {
      "slideshow": {
       "slide_type": "slide"
      }
     },
     "source": [
      "## Ejercicio\n",
      "\n",
      "Verifiquen que el ambiente de IPython incluyendo IPython Notebook esta correctamente instalado en su sistema, y ejecuten esta libreta.\n",
      "\n",
      "Ejecuten las siguientes instrucciones en una celda para verificar que tienen las librerias necesarias:\n",
      "\n",
      "        import numpy as np\n",
      "        print 'NumPy version: ', np.__version__\n",
      "        \n",
      "        import matplotlib as mlib\n",
      "        print 'Matplotlib version: ',mlib.__version__\n",
      "        \n",
      "        import sympy as sp\n",
      "        print 'SymPy version: ',sp.__version__\n",
      "        \n",
      "        import pandas as pd\n",
      "        print 'Pandas version: ',pd.__version__\n",
      "\n",
      "**Nota** Si no instalaron el ambiente previo al inicio del curso, soliciten al instructor un _usb_ con el instalador de *Anaconda*, esto con el fin de evitar una congestion en el ancho de banda de la conexion a internet."
     ]
    },
    {
     "cell_type": "code",
     "collapsed": false,
     "input": [
      "import numpy as np\n",
      "print 'NumPy version: ', np.__version__\n",
      "\n",
      "import matplotlib as mlib\n",
      "print 'Matplotlib version: ',mlib.__version__\n",
      "\n",
      "import sympy as sp\n",
      "print 'SymPy version: ',sp.__version__\n",
      "\n",
      "import pandas as pd\n",
      "print 'Pandas version: ',pd.__version__"
     ],
     "language": "python",
     "metadata": {},
     "outputs": [
      {
       "output_type": "stream",
       "stream": "stdout",
       "text": [
        "NumPy version:  1.8.1\n",
        "Matplotlib version:  1.3.1\n",
        "SymPy version:  0.7.4.1\n",
        "Pandas version:  0.14.1\n"
       ]
      }
     ],
     "prompt_number": 14
    },
    {
     "cell_type": "markdown",
     "metadata": {
      "slideshow": {
       "slide_type": "fragment"
      }
     },
     "source": [
      "No olviden guardar los cambios hechos en su documento antes de continuar con nuestro siguiente tema, una [introduccion rapida a IPython.](Lib01_Esenciales_IPython_Notebook.ipynb)"
     ]
    }
   ],
   "metadata": {}
  }
 ]
}