{
 "metadata": {
  "name": "",
  "signature": "sha256:8ca9de95f2157a103fc202f7c82c4506d0530dcc624c2525a35d2c96a1428b50"
 },
 "nbformat": 3,
 "nbformat_minor": 0,
 "worksheets": [
  {
   "cells": [
    {
     "cell_type": "markdown",
     "metadata": {},
     "source": [
      "# Notas para usar _git_ desde las libretas\n",
      "\n",
      "##2a Etapa: Usuario local, _branching_\n",
      "\n",
      "\n",
      "*Revision control software* o Software de Control de Rrevisiones (**SCR**) es \u00fatil en el control de cualquier contenido digital.\n",
      "\n",
      "Esta libreta presupone que se han ejecutado los comandos de la libreta\n",
      "\n",
      "* [Lib01_GIT_RevisionControl_1aEtapa](Lib01_GIT_RevisionControl_1aEtapa.ipynb)."
     ]
    },
    {
     "cell_type": "markdown",
     "metadata": {},
     "source": [
      "##Usuario local, _branching_\n",
      "Un _branch_, o una rama, del repositorio es simplemente una etiqueta para el `commit` actual en una sucesion de `commit`s:\n",
      "\n",
      "\n",
      "<!-- offline: \n",
      "![](files/fig/masterbranch.png)\n",
      "-->\n",
      "\n",
      "<img src=\"https://raw.github.com/fperez/reprosw/master/fig/masterbranch.png\" >"
     ]
    },
    {
     "cell_type": "markdown",
     "metadata": {},
     "source": [
      "Puede haber multiples _branches_ (o ramas) activas en cualquier momento. El directorio de trabajo corresponde a un estado particular que se llama HEAD (encabezado). En el ejemplo que se muestra en la figura, hay dos _branches_: _master_ y _testing_\n",
      "\n",
      "<!-- offline: \n",
      "![](files/fig/HEAD_testing.png)\n",
      "-->\n",
      "\n",
      "<img src=\"https://raw.github.com/fperez/reprosw/master/fig/HEAD_testing.png\" >"
     ]
    },
    {
     "cell_type": "markdown",
     "metadata": {},
     "source": [
      "Una vez que se realiza un nuevo `commit` en un _branch_, HEAD y la etiqueta del _branch_ cambian con el nuevo `commit`:\n",
      "\n",
      "<!-- offline: \n",
      "![](files/fig/branchcommit.png)\n",
      "-->\n",
      "\n",
      "<img src=\"https://raw.github.com/fperez/reprosw/master/fig/branchcommit.png\" >"
     ]
    },
    {
     "cell_type": "markdown",
     "metadata": {},
     "source": [
      "De este modo, la historia de ambas _branches_ (ramas) puede ser diferente:\n",
      "\n",
      "<!-- offline: \n",
      "![](files/fig/mergescenario.png)\n",
      "-->\n",
      "\n",
      "<img src=\"https://raw.github.com/fperez/reprosw/master/fig/mergescenario.png\" >"
     ]
    },
    {
     "cell_type": "markdown",
     "metadata": {},
     "source": [
      "De acuerdo a esta estructura, `git` puede calcular la informacion que necesita para juntar, _merge_, dos ramas divergentes y continuar en una misma linea de desarrollo:\n",
      "    \n",
      "<!-- offline: \n",
      "![](files/fig/mergeaftermath.png)\n",
      "-->\n",
      "\n",
      "<img src=\"https://raw.github.com/fperez/reprosw/master/fig/mergeaftermath.png\" >"
     ]
    },
    {
     "cell_type": "markdown",
     "metadata": {},
     "source": [
      "Vamos a ilustrar estas ideas con nuestro ejemplo."
     ]
    },
    {
     "cell_type": "code",
     "collapsed": false,
     "input": [
      "%%bash\n",
      "cd gitdemo/\n",
      "\n",
      "git status\n",
      "ls"
     ],
     "language": "python",
     "metadata": {},
     "outputs": [
      {
       "output_type": "stream",
       "stream": "stdout",
       "text": [
        "On branch master\n",
        "nothing to commit, working directory clean\n",
        "archivo-nuevo.txt\n"
       ]
      }
     ],
     "prompt_number": 1
    },
    {
     "cell_type": "markdown",
     "metadata": {},
     "source": [
      "Ahora vamos a intentar dos rutas diferentes de desarrollo: una sera en el `master branch`, donde pondremos un archivo, y la otra sera la `experimento branch`, la cual crearemos y le agregaremos un archivo distinto. Finalmente haremos un _merge_ de la rama `experimento` a la rama `master`."
     ]
    },
    {
     "cell_type": "code",
     "collapsed": false,
     "input": [
      "%%bash\n",
      "cd gitdemo/\n",
      "\n",
      "git branch experimento\n",
      "git checkout experimento"
     ],
     "language": "python",
     "metadata": {},
     "outputs": [
      {
       "output_type": "stream",
       "stream": "stderr",
       "text": [
        "Switched to branch 'experimento'\n"
       ]
      }
     ],
     "prompt_number": 2
    },
    {
     "cell_type": "code",
     "collapsed": false,
     "input": [
      "%%bash\n",
      "cd gitdemo/\n",
      "\n",
      "echo \"Se me ocurrieron unas ideas locas!\" > experimento.txt\n",
      "git add experimento.txt\n",
      "git commit -a -m\"Probando cosas nuevas\"\n",
      "git slog"
     ],
     "language": "python",
     "metadata": {},
     "outputs": [
      {
       "output_type": "stream",
       "stream": "stdout",
       "text": [
        "[experimento 963cdd1] Probando cosas nuevas\n",
        " 1 file changed, 1 insertion(+)\n",
        " create mode 100644 experimento.txt\n",
        "* 963cdd1 Probando cosas nuevas\n",
        "* 8a184cf Me gusta mas este nombre\n",
        "* fa79ff4 Por fin algo de progreso\n",
        "* 0200580 Este archivo refleja el primer compromiso\n"
       ]
      }
     ],
     "prompt_number": 3
    },
    {
     "cell_type": "code",
     "collapsed": false,
     "input": [
      "%%bash\n",
      "cd gitdemo/\n",
      "\n",
      "git checkout master\n",
      "git slog"
     ],
     "language": "python",
     "metadata": {},
     "outputs": [
      {
       "output_type": "stream",
       "stream": "stdout",
       "text": [
        "* 8a184cf Me gusta mas este nombre\n",
        "* fa79ff4 Por fin algo de progreso\n",
        "* 0200580 Este archivo refleja el primer compromiso\n"
       ]
      },
      {
       "output_type": "stream",
       "stream": "stderr",
       "text": [
        "Switched to branch 'master'\n"
       ]
      }
     ],
     "prompt_number": 4
    },
    {
     "cell_type": "code",
     "collapsed": false,
     "input": [
      "%%bash\n",
      "cd gitdemo/\n",
      "\n",
      "echo \"Ahora el trabajo continua en la rama master...\" >> archivo-nuevo.txt\n",
      "git commit -a -m\"La rama mayor sigue creciendo\"\n",
      "git slog"
     ],
     "language": "python",
     "metadata": {},
     "outputs": [
      {
       "output_type": "stream",
       "stream": "stdout",
       "text": [
        "[master 19847cd] La rama mayor sigue creciendo\n",
        " 1 file changed, 1 insertion(+)\n",
        "* 19847cd La rama mayor sigue creciendo\n",
        "* 8a184cf Me gusta mas este nombre\n",
        "* fa79ff4 Por fin algo de progreso\n",
        "* 0200580 Este archivo refleja el primer compromiso\n"
       ]
      }
     ],
     "prompt_number": 5
    },
    {
     "cell_type": "code",
     "collapsed": false,
     "input": [
      "%%bash\n",
      "cd gitdemo/\n",
      "\n",
      "ls"
     ],
     "language": "python",
     "metadata": {},
     "outputs": [
      {
       "output_type": "stream",
       "stream": "stdout",
       "text": [
        "archivo-nuevo.txt\n"
       ]
      }
     ],
     "prompt_number": 6
    },
    {
     "cell_type": "code",
     "collapsed": false,
     "input": [
      "%%bash\n",
      "cd gitdemo/\n",
      "\n",
      "git merge experimento\n",
      "git slog"
     ],
     "language": "python",
     "metadata": {},
     "outputs": [
      {
       "output_type": "stream",
       "stream": "stdout",
       "text": [
        "Merge made by the 'recursive' strategy.\n",
        " experimento.txt | 1 +\n",
        " 1 file changed, 1 insertion(+)\n",
        " create mode 100644 experimento.txt\n",
        "*   0436e0e Merge branch 'experimento'\n",
        "|\\  \n",
        "| * 963cdd1 Probando cosas nuevas\n",
        "* | 19847cd La rama mayor sigue creciendo\n",
        "|/  \n",
        "* 8a184cf Me gusta mas este nombre\n",
        "* fa79ff4 Por fin algo de progreso\n",
        "* 0200580 Este archivo refleja el primer compromiso\n"
       ]
      }
     ],
     "prompt_number": 7
    },
    {
     "cell_type": "code",
     "collapsed": false,
     "input": [
      "%%bash\n",
      "cd gitdemo/\n",
      "\n",
      "ls"
     ],
     "language": "python",
     "metadata": {},
     "outputs": [
      {
       "output_type": "stream",
       "stream": "stdout",
       "text": [
        "archivo-nuevo.txt\n",
        "experimento.txt\n"
       ]
      }
     ],
     "prompt_number": 8
    }
   ],
   "metadata": {}
  }
 ]
}