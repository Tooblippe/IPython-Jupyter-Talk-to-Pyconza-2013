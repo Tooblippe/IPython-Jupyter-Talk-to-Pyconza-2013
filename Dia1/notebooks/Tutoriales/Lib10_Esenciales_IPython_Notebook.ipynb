{
 "metadata": {
  "celltoolbar": "Slideshow",
  "name": "",
  "signature": "sha256:88e4d1a2a96fa1cae5399fa0641ffcfaedb13ab90df0c808380e1c8af118f7c0"
 },
 "nbformat": 3,
 "nbformat_minor": 0,
 "worksheets": [
  {
   "cells": [
    {
     "cell_type": "code",
     "collapsed": true,
     "input": [
      "%run ../talktools.py"
     ],
     "language": "python",
     "metadata": {
      "slideshow": {
       "slide_type": "skip"
      }
     },
     "outputs": [
      {
       "html": [
        "\n",
        "<style>\n",
        "    @font-face {\n",
        "        font-family: \"Computer Modern\";\n",
        "        src: url('http://mirrors.ctan.org/fonts/cm-unicode/fonts/otf/cmunss.otf');\n",
        "    }\n",
        "    div.cell{\n",
        "        width:800px;\n",
        "        margin-left:auto !important;\n",
        "        margin-right:auto;\n",
        "\t\tmargin-top:1em;\n",
        "\t\tmargin-bottom:1em;\n",
        "    }\n",
        "    h1 {\n",
        "        font-family: Helvetica, serif;\n",
        "\t\tbackground-color:#b0c4de;\n",
        "\n",
        "\t\t\n",
        "    }\n",
        "\th2 {\n",
        "        font-family: Helvetica, serif;\n",
        "\t\tbackground-color:#b0c4de;\n",
        "\t\t\n",
        "\t\t\n",
        "    }\n",
        "\th3 {\n",
        "        font-family: Helvetica, serif;\n",
        "\t\tbackground-color:#b0c4de;\n",
        "\t\t\n",
        "    }\n",
        "    h4{\n",
        "        margin-top:12px;\n",
        "        margin-bottom: 3px;\n",
        "       }\n",
        "    div.text_cell_render{\n",
        "        font-family: Computer Modern, \"Helvetica Neue\", Arial, Helvetica, Geneva, sans-serif;\n",
        "        line-height: 145%;\n",
        "        font-size: 130%;\n",
        "        width:800px;\n",
        "        margin-left:auto;\n",
        "        margin-right:auto;\n",
        "    }\n",
        "    .CodeMirror{\n",
        "            font-family: \"Source Code Pro\", source-code-pro,Consolas, monospace;\n",
        "    }\n",
        "    \n",
        "    .text_cell_render h5 {\n",
        "        font-weight: 300;\n",
        "        font-size: 22pt;\n",
        "        color: #4057A1;\n",
        "        font-style: italic;\n",
        "        margin-bottom: .5em;\n",
        "        margin-top: 0.5em;\n",
        "        display: block;\n",
        "    }\n",
        "    \n",
        "    .warning{\n",
        "        color: rgb( 240, 20, 20 )\n",
        "        }  \n",
        "\n",
        "\t\tdiv.cell.code_cell {  /* Areat containing both code and output */\n",
        "\t\tbackground-color:#F1F0FF; /* light blue */\n",
        "\t\tborder-radius: 10px; /* rounded borders = friendlier */\n",
        "\t\tpadding: 1em;\n",
        "\t\t}\n",
        "</style>\n",
        "<script>\n",
        "    MathJax.Hub.Config({\n",
        "                        TeX: {\n",
        "                           extensions: [\"AMSmath.js\"]\n",
        "                           },\n",
        "                tex2jax: {\n",
        "                    inlineMath: [ ['$','$'], [\"\\\\(\",\"\\\\)\"] ],\n",
        "                    displayMath: [ ['$$','$$'], [\"\\\\[\",\"\\\\]\"] ]\n",
        "                },\n",
        "                displayAlign: 'center', // Change this to 'center' to center equations.\n",
        "                \"HTML-CSS\": {\n",
        "                    styles: {'.MathJax_Display': {\"margin\": 4}}\n",
        "                }\n",
        "        });\n",
        "</script>"
       ],
       "metadata": {},
       "output_type": "display_data",
       "text": [
        "<IPython.core.display.HTML at 0x7f0991935950>"
       ]
      }
     ],
     "prompt_number": 7
    },
    {
     "cell_type": "markdown",
     "metadata": {
      "slideshow": {
       "slide_type": "slide"
      }
     },
     "source": [
      "# IPython Notebook\n",
      "\n",
      "![IPython Notebook](http://ipython.org/_static/ipy_0.13.png)"
     ]
    },
    {
     "cell_type": "markdown",
     "metadata": {
      "slideshow": {
       "slide_type": "slide"
      }
     },
     "source": [
      "## Publicando el trabajo\n",
      "IPython contiene una herramienta llamada `nbconvert` que permite convertir el archivo `.ipynb` de una libreta en un documento estatico en diversos formatos.\n",
      "\n",
      "Actualmente `nbconvert` es una herramienta en la linea de comando y se ejecuta como un script de Ipython. Existen extensiones experimentales para exportar directamente desde la libreta web, pero no son suficientemente estables para ser parte de la distribucion actual.\n",
      "\n",
      "La sintaxis para el uso de `nbconvert` es: [MAS INFORMACION](http://ipython.org/ipython-doc/2/notebook/nbconvert.html)\n",
      "\n",
      "    ipython nbconvert --to FORMATO libreta.ipynb\n",
      "\n",
      "Esta libreta sera convertida a los siguiente formatos publicables usando esta herramienta:\n",
      "\n",
      "* HTML\n",
      "\n",
      "* PDF \n",
      "\n",
      "* $\\LaTeX$\n",
      "\n",
      "* Presentacion (usando `Reveal.js`) \n",
      "\n",
      "\n",
      "[VER MAS](http://nbviewer.ipython.org/github/Carreau/posts/blob/master/06-NBconvert-Doc-Draft.ipynb)"
     ]
    },
    {
     "cell_type": "markdown",
     "metadata": {
      "slideshow": {
       "slide_type": "slide"
      }
     },
     "source": [
      "## Exportando desde la libreta\n",
      "Usando las capacidades de ejecutar comandos del SO, podemos exportar al documento desde la libreta. Por ejemplo para crear `.html`:"
     ]
    },
    {
     "cell_type": "code",
     "collapsed": false,
     "input": [
      "%%bash\n",
      "rm output/*\n",
      "ipython nbconvert --to html lania2014_ipython.ipynb\n",
      "mv *.html output/"
     ],
     "language": "python",
     "metadata": {
      "slideshow": {
       "slide_type": "fragment"
      }
     },
     "outputs": [
      {
       "output_type": "stream",
       "stream": "stdout",
       "text": [
        "This application is used to convert notebook files (*.ipynb) to various other\n",
        "formats.\n",
        "\n",
        "WARNING: THE COMMANDLINE INTERFACE MAY CHANGE IN FUTURE RELEASES.\n",
        "\n",
        "Options\n",
        "-------\n",
        "\n",
        "Arguments that take values are actually convenience aliases to full\n",
        "Configurables, whose aliases are listed on the help line. For more information\n",
        "on full configurables, see '--help-all'.\n",
        "\n",
        "--debug\n",
        "    set log level to logging.DEBUG (maximize logging output)\n",
        "--init\n",
        "    Initialize profile with default config files.  This is equivalent\n",
        "    to running `ipython profile create <profile>` prior to startup.\n",
        "--quiet\n",
        "    set log level to logging.CRITICAL (minimize logging output)\n",
        "--stdout\n",
        "    Write notebook output to stdout instead of files.\n",
        "--profile=<Unicode> (BaseIPythonApplication.profile)\n",
        "    Default: u'default'\n",
        "    The IPython profile to use.\n",
        "--reveal-prefix=<Unicode> (RevealHelpPreprocessor.url_prefix)\n",
        "    Default: 'reveal.js'\n",
        "    The URL prefix for reveal.js. This can be a a relative URL for a local copy\n",
        "    of reveal.js, or point to a CDN.\n",
        "    For speaker notes to work, a local reveal.js prefix must be used.\n",
        "--ipython-dir=<Unicode> (BaseIPythonApplication.ipython_dir)\n",
        "    Default: u''\n",
        "    The name of the IPython directory. This directory is used for logging\n",
        "    configuration (through profiles), history storage, etc. The default is\n",
        "    usually $HOME/.ipython. This options can also be specified through the\n",
        "    environment variable IPYTHONDIR.\n",
        "--writer=<DottedObjectName> (NbConvertApp.writer_class)\n",
        "    Default: 'FilesWriter'\n",
        "    Writer class used to write the  results of the conversion\n",
        "--log-level=<Enum> (Application.log_level)\n",
        "    Default: 30\n",
        "    Choices: (0, 10, 20, 30, 40, 50, 'DEBUG', 'INFO', 'WARN', 'ERROR', 'CRITICAL')\n",
        "    Set the log level by value or name.\n",
        "--to=<CaselessStrEnum> (NbConvertApp.export_format)\n",
        "    Default: 'html'\n",
        "    Choices: ['custom', 'html', 'latex', 'markdown', 'python', 'rst', 'slides']\n",
        "    The export format to be used.\n",
        "--template=<Unicode> (TemplateExporter.template_file)\n",
        "    Default: u'default'\n",
        "    Name of the template file to use\n",
        "--output=<Unicode> (NbConvertApp.output_base)\n",
        "    Default: ''\n",
        "    overwrite base name use for output files. can only  be use when converting\n",
        "    one notebook at a time.\n",
        "--post=<DottedOrNone> (NbConvertApp.postprocessor_class)\n",
        "    Default: u''\n",
        "    PostProcessor class used to write the  results of the conversion\n",
        "--config=<Unicode> (BaseIPythonApplication.extra_config_file)\n",
        "    Default: u''\n",
        "    Path to an extra config file to load.\n",
        "    If specified, load this config file in addition to any other IPython config.\n",
        "--profile-dir=<Unicode> (ProfileDir.location)\n",
        "    Default: u''\n",
        "    Set the profile location directly. This overrides the logic used by the\n",
        "    `profile` option.\n",
        "\n",
        "To see all available configurables, use `--help-all`\n",
        "\n",
        "Examples\n",
        "--------\n",
        "\n",
        "    The simplest way to use nbconvert is\n",
        "    \n",
        "    > ipython nbconvert mynotebook.ipynb\n",
        "    \n",
        "    which will convert mynotebook.ipynb to the default format (probably HTML).\n",
        "    \n",
        "    You can specify the export format with `--to`.\n",
        "    Options include ['custom', 'html', 'latex', 'markdown', 'python', 'rst', 'slides']\n",
        "    \n",
        "    > ipython nbconvert --to latex mynotebook.ipynb\n",
        "    \n",
        "    Both HTML and LaTeX support multiple output templates. LaTeX includes\n",
        "    'base', 'article' and 'report'.  HTML includes 'basic' and 'full'. You\n",
        "    can specify the flavor of the format used.\n",
        "    \n",
        "    > ipython nbconvert --to html --template basic mynotebook.ipynb\n",
        "    \n",
        "    You can also pipe the output to stdout, rather than a file\n",
        "    \n",
        "    > ipython nbconvert mynotebook.ipynb --stdout\n",
        "    \n",
        "    A post-processor can be used to compile a PDF\n",
        "    \n",
        "    > ipython nbconvert mynotebook.ipynb --to latex --post PDF\n",
        "    \n",
        "    You can get (and serve) a Reveal.js-powered slideshow\n",
        "    \n",
        "    > ipython nbconvert myslides.ipynb --to slides --post serve\n",
        "    \n",
        "    Multiple notebooks can be given at the command line in a couple of \n",
        "    different ways:\n",
        "    \n",
        "    > ipython nbconvert notebook*.ipynb\n",
        "    > ipython nbconvert notebook1.ipynb notebook2.ipynb\n",
        "    \n",
        "    or you can specify the notebooks list in a config file, containing::\n",
        "    \n",
        "        c.NbConvertApp.notebooks = [\"my_notebook.ipynb\"]\n",
        "    \n",
        "    > ipython nbconvert --config mycfg.py\n",
        "\n"
       ]
      },
      {
       "output_type": "stream",
       "stream": "stderr",
       "text": [
        "rm: cannot remove \u2018output/*\u2019: No such file or directory\n",
        "[NbConvertApp] Using existing profile dir: u'/home/htapia/.ipython/profile_default'\n",
        "[NbConvertApp] WARNING | pattern u'lania2014_ipython.ipynb' matched no files\n",
        "mv: target \u2018output/\u2019 is not a directory\n"
       ]
      }
     ],
     "prompt_number": 8
    },
    {
     "cell_type": "markdown",
     "metadata": {
      "slideshow": {
       "slide_type": "slide"
      }
     },
     "source": [
      "## Algunas libretas interesantes\n",
      "Los enlaces que se presentan aqui son ejemplos del extendido uso de las IPython Notebooks en diferentes areas de interes. Los ejemplos cubren temas que van desde el uso basico de las libretas y las herramientas, hasta ejemplos muy avanzados. \n",
      "\n",
      "Algunos de los ejemplos que veremos en las siguientes sesiones estan basados o inspirados en algunas de estas libretas, de modo que tambien pueden servir como referencia. (**Nota: estas libretas estan en ingles**)"
     ]
    },
    {
     "cell_type": "code",
     "collapsed": false,
     "input": [
      "website('http://nbviewer.ipython.org/')"
     ],
     "language": "python",
     "metadata": {},
     "outputs": [
      {
       "html": [
        "<div sytle=\"margin-bottom:10px\">\n",
        "<a href=\"http://nbviewer.ipython.org/\">http://nbviewer.ipython.org/</a>\n",
        "</div>\n",
        "<iframe src=\"http://nbviewer.ipython.org/\"  width=\"800\" height=\"450\"></iframe>"
       ],
       "metadata": {},
       "output_type": "pyout",
       "prompt_number": 10,
       "text": [
        "<IPython.core.display.HTML at 0x7f09bdc81cd0>"
       ]
      }
     ],
     "prompt_number": 10
    },
    {
     "cell_type": "markdown",
     "metadata": {},
     "source": [
      "## Ejercicio\n",
      "Convertir cualquiera de las libretas con las que hemos trabajado a un documento en formato `.html` y abrirlo en su navegador."
     ]
    },
    {
     "cell_type": "markdown",
     "metadata": {},
     "source": [
      "Con esta libreta terminamos nuestra introduccion a Python a las IPython Notebooks. En las siguientes sesiones usaremos este lenguaje y la tecnologia de las IPython Notebooks para resolver algunos problemas con los cuales aprenderemos mas de esta plataforma de desarrollo."
     ]
    },
    {
     "cell_type": "markdown",
     "metadata": {},
     "source": [
      "Ahora que se han dado una idea de lo que pueden hacer con IPython Notebooks, es el momento de pensar en su proyecto final. "
     ]
    },
    {
     "cell_type": "markdown",
     "metadata": {},
     "source": [
      "El projecto final consiste en resolver un problema, desarrollar una aplicacion, etc. de cualquier tema, usando las herramientas que estamos presentando/desarrollando en este curso. "
     ]
    },
    {
     "cell_type": "markdown",
     "metadata": {},
     "source": [
      "Por ejemplo pueden crear una base de datos o accederla, y analizarlos usando `pandas`. Pueden resolver un problema de ingenieria usando `numpy` y `matplotlib`, etc."
     ]
    },
    {
     "cell_type": "markdown",
     "metadata": {},
     "source": [
      "Aun cuando aun no hemos tocado temas relacionados con dispositivos moviles, pueden darse una idea del tipo de cosas que podrian hacer. En las siguiente sesiones usaremos nuestros dispositivos como herramientas de adquisicion de datos."
     ]
    },
    {
     "cell_type": "markdown",
     "metadata": {},
     "source": [
      "Piensen en sus intereses profesionales/personales y como podrian aprovechar las posibilidades que ofrece esta teconologia para resolver/desarrollar algun problema o tema de interes. Pueden buscar ideas revisando las libretas de la galeria anterior o usando su amigo [Google](google.com.mx)."
     ]
    },
    {
     "cell_type": "markdown",
     "metadata": {},
     "source": [
      "Finalmente, asegurense de que han guardado los cambios de todas sus libretas, esto con el fin de monitorear sus avances. Nuestra siguiente sesion consiste en aprender sobre un sistema de organizacion y control de contenido digital que usaremos durante el resto del curso, y con el cual podremos darle seguimiento a los cambios y avances de sus actividades."
     ]
    },
    {
     "cell_type": "markdown",
     "metadata": {},
     "source": [
      "Pasemos entonces a la sesion de como  [organizar y controlar contenido digital](Lib11_GIT01_RevisionControl_1aEtapa.ipynb) usando git."
     ]
    }
   ],
   "metadata": {}
  }
 ]
}