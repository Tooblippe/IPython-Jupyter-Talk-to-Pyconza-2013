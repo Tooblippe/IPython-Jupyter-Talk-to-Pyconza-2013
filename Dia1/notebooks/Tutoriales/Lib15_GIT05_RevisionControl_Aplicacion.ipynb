{
 "metadata": {
  "name": "",
  "signature": "sha256:b9caf5ca121252c4f2c362c62f1808d07743b3ee4473d3c6bd05248af048cf94"
 },
 "nbformat": 3,
 "nbformat_minor": 0,
 "worksheets": [
  {
   "cells": [
    {
     "cell_type": "markdown",
     "metadata": {},
     "source": [
      "## Localmente\n",
      "[Libreta de referencia](Lib01_GIT_RevisionControl_1aEtapa.ipynb)"
     ]
    },
    {
     "cell_type": "code",
     "collapsed": false,
     "input": [
      "pwd"
     ],
     "language": "python",
     "metadata": {},
     "outputs": [
      {
       "metadata": {},
       "output_type": "pyout",
       "prompt_number": 1,
       "text": [
        "u'/home/htapia/LocalRepos/lania.research/htapiagroup'"
       ]
      }
     ],
     "prompt_number": 1
    },
    {
     "cell_type": "code",
     "collapsed": false,
     "input": [
      "%%bash\n",
      "\n",
      "git init imageproc"
     ],
     "language": "python",
     "metadata": {},
     "outputs": [
      {
       "output_type": "stream",
       "stream": "stdout",
       "text": [
        "Initialized empty Git repository in /home/htapia/LocalRepos/lania.research/htapiagroup/imageproc/.git/\n"
       ]
      }
     ],
     "prompt_number": 2
    },
    {
     "cell_type": "code",
     "collapsed": false,
     "input": [
      "ls imageproc_orig/src/"
     ],
     "language": "python",
     "metadata": {},
     "outputs": [
      {
       "output_type": "stream",
       "stream": "stdout",
       "text": [
        "\u001b[0m\u001b[01;34mgitdemo\u001b[0m/                           GIT_RevisionControl_3aEtapa.ipynb  No mas pretextos.ipynb\r\n",
        "GIT_RevisionControl_1aEtapa.ipynb  GIT_RevisionControl_4aEtapa.ipynb  \u001b[01;34mprueba2\u001b[0m/\r\n",
        "GIT_RevisionControl_2aEtapa.ipynb  imagenContornos_0.py               vision.md\r\n"
       ]
      }
     ],
     "prompt_number": 4
    },
    {
     "cell_type": "code",
     "collapsed": false,
     "input": [
      "%%bash \n",
      "cd imageproc/\n",
      "\n",
      "mkdir libretas\n",
      "mkdir recursos\n",
      "mkdir styles\n",
      "\n",
      "echo \"Repositorio creado por HTM en 09/15/2014\"> Readme.md"
     ],
     "language": "python",
     "metadata": {},
     "outputs": [
      {
       "output_type": "stream",
       "stream": "stderr",
       "text": [
        "mkdir: cannot create directory \u2018libretas\u2019: File exists\n",
        "mkdir: cannot create directory \u2018recursos\u2019: File exists\n",
        "mkdir: cannot create directory \u2018styles\u2019: File exists\n"
       ]
      }
     ],
     "prompt_number": 6
    },
    {
     "cell_type": "code",
     "collapsed": false,
     "input": [
      "%%bash\n",
      "cd imageproc/\n",
      "\n",
      "git add Readme.md\n",
      "git commit -a -m\"Primera creacion del repositorio imageproc\"\n",
      "git slog"
     ],
     "language": "python",
     "metadata": {},
     "outputs": [
      {
       "output_type": "stream",
       "stream": "stdout",
       "text": [
        "[master (root-commit) 82efbc6] Primera creacion del repositorio imageproc\n",
        " 1 file changed, 1 insertion(+)\n",
        " create mode 100644 Readme.md\n",
        "* 82efbc6 Primera creacion del repositorio imageproc\n"
       ]
      }
     ],
     "prompt_number": 8
    },
    {
     "cell_type": "markdown",
     "metadata": {},
     "source": [
      "En estas lineas voy a copiar las libretas que acabo de terminar de preparar, sobre como usar git. Noten el resultado del comando `git diff`"
     ]
    },
    {
     "cell_type": "code",
     "collapsed": false,
     "input": [
      "%%bash\n",
      "cd imageproc/\n",
      "cp ../imageproc_orig/src/GIT_* ./libretas/\n",
      "ls libretas/\n",
      "\n",
      "git diff\n",
      "git slog"
     ],
     "language": "python",
     "metadata": {},
     "outputs": [
      {
       "output_type": "stream",
       "stream": "stdout",
       "text": [
        "GIT_RevisionControl_1aEtapa.ipynb\n",
        "GIT_RevisionControl_2aEtapa.ipynb\n",
        "GIT_RevisionControl_3aEtapa.ipynb\n",
        "GIT_RevisionControl_4aEtapa.ipynb\n",
        "* 82efbc6 Primera creacion del repositorio imageproc\n"
       ]
      }
     ],
     "prompt_number": 18
    },
    {
     "cell_type": "markdown",
     "metadata": {},
     "source": [
      "Ahora voy a hacer los cambios permanentes en la lista de Git. Noten que aun son locales."
     ]
    },
    {
     "cell_type": "code",
     "collapsed": false,
     "input": [
      "%%bash\n",
      "cd imageproc/\n",
      "\n",
      "git add *\n",
      "git commit -a -m\"Agregando libretas de curso Git\""
     ],
     "language": "python",
     "metadata": {},
     "outputs": [
      {
       "output_type": "stream",
       "stream": "stdout",
       "text": [
        "[master 1e6de4c] Agregando libretas de curso Git\n",
        " 4 files changed, 1489 insertions(+)\n",
        " create mode 100644 libretas/GIT_RevisionControl_1aEtapa.ipynb\n",
        " create mode 100644 libretas/GIT_RevisionControl_2aEtapa.ipynb\n",
        " create mode 100644 libretas/GIT_RevisionControl_3aEtapa.ipynb\n",
        " create mode 100644 libretas/GIT_RevisionControl_4aEtapa.ipynb\n"
       ]
      }
     ],
     "prompt_number": 19
    },
    {
     "cell_type": "markdown",
     "metadata": {},
     "source": [
      "Solo una checada rapida para estar seguro:"
     ]
    },
    {
     "cell_type": "code",
     "collapsed": false,
     "input": [
      "%%bash\n",
      "cd imageproc/\n",
      "\n",
      "git status"
     ],
     "language": "python",
     "metadata": {},
     "outputs": [
      {
       "output_type": "stream",
       "stream": "stdout",
       "text": [
        "On branch master\n",
        "nothing to commit, working directory clean\n"
       ]
      }
     ],
     "prompt_number": 20
    },
    {
     "cell_type": "markdown",
     "metadata": {},
     "source": [
      "## Sincronizando con el repositorio en la nube\n",
      "[Libreta de referencia](Lib03_GIT_RevisionControl_3aEtapa.ipynb)\n",
      "\n",
      "Ahora que tengo el repositorio como lo quiero en mi computadora local lo voy a sincronizar en el espacio del grupo en la nube.\n",
      "\n",
      "Primero veamos si tenemos algun repositorio remoto configurado:"
     ]
    },
    {
     "cell_type": "code",
     "collapsed": false,
     "input": [
      "%%bash\n",
      "cd imageproc/\n",
      "\n",
      "git remote -v"
     ],
     "language": "python",
     "metadata": {},
     "outputs": [],
     "prompt_number": 21
    },
    {
     "cell_type": "markdown",
     "metadata": {},
     "source": [
      "Antes de ejecutar esta celda, ingreso a [Github](github.com) para crear el repositorio."
     ]
    },
    {
     "cell_type": "markdown",
     "metadata": {},
     "source": [
      "**Atencion** la celda siguiente requiere ingresar credenciales, mejor ejecutarla desde la linea de comando!"
     ]
    },
    {
     "cell_type": "code",
     "collapsed": false,
     "input": [
      "%%bash\n",
      "cd imageproc/\n",
      "\n",
      "git remote add origin https://github.com/htapiagroup/imageproc.git\n",
      "git push -u origin master"
     ],
     "language": "python",
     "metadata": {},
     "outputs": [
      {
       "output_type": "stream",
       "stream": "stdout",
       "text": [
        "Branch master set up to track remote branch master from origin.\n"
       ]
      },
      {
       "output_type": "stream",
       "stream": "stderr",
       "text": [
        "fatal: remote origin already exists.\n",
        "Everything up-to-date\n"
       ]
      }
     ],
     "prompt_number": 1
    },
    {
     "cell_type": "code",
     "collapsed": false,
     "input": [
      "%%bash\n",
      "cd imageproc/\n",
      "\n",
      "git remote -v\n",
      "git slog"
     ],
     "language": "python",
     "metadata": {},
     "outputs": [
      {
       "output_type": "stream",
       "stream": "stdout",
       "text": [
        "origin\thttps://github.com/htapiagroup/imageproc (fetch)\n",
        "origin\thttps://github.com/htapiagroup/imageproc (push)\n",
        "* 1e6de4c Agregando libretas de curso Git\n",
        "* 82efbc6 Primera creacion del repositorio imageproc\n"
       ]
      }
     ],
     "prompt_number": 2
    },
    {
     "cell_type": "markdown",
     "metadata": {},
     "source": [
      "## Creando mi branch del repositorio\n",
      "[Libreta de referencia](Lib02_GIT_RevisionControl_2aEtapa.ipynb)\n",
      "\n",
      "Ahora el repositorio [`imageproc`](https://github.com/htapiagroup/imageproc) existe y es el `master`. Necesito crear un `branch` en el cual voy a trabajar. Para esto voy a crear un `branch`. Noten que el `branch` es **local**"
     ]
    },
    {
     "cell_type": "code",
     "collapsed": false,
     "input": [
      "%%bash\n",
      "cd imageproc/\n",
      "\n",
      "git branch imageproc_htm\n",
      "git checkout imageproc_htm"
     ],
     "language": "python",
     "metadata": {},
     "outputs": [
      {
       "output_type": "stream",
       "stream": "stderr",
       "text": [
        "Switched to branch 'imageproc_htm'\n"
       ]
      }
     ],
     "prompt_number": 3
    },
    {
     "cell_type": "code",
     "collapsed": false,
     "input": [
      "%%bash\n",
      "cd imageproc/\n",
      "\n",
      "git status"
     ],
     "language": "python",
     "metadata": {},
     "outputs": [
      {
       "output_type": "stream",
       "stream": "stdout",
       "text": [
        "On branch imageproc_htm\n",
        "Changes not staged for commit:\n",
        "  (use \"git add <file>...\" to update what will be committed)\n",
        "  (use \"git checkout -- <file>...\" to discard changes in working directory)\n",
        "\n",
        "\tmodified:   libretas/GIT_RevisionControl_4aEtapa.ipynb\n",
        "\n",
        "Untracked files:\n",
        "  (use \"git add <file>...\" to include in what will be committed)\n",
        "\n",
        "\tlibretas/.ipynb_checkpoints/\n",
        "\n",
        "no changes added to commit (use \"git add\" and/or \"git commit -a\")\n"
       ]
      }
     ],
     "prompt_number": 4
    },
    {
     "cell_type": "code",
     "collapsed": false,
     "input": [
      "%%bash\n",
      "cd imageproc/\n",
      "\n",
      "git add .\n",
      "git commit -a -m\"Primer commit a mi branch en imageproc\"\n",
      "git slog"
     ],
     "language": "python",
     "metadata": {},
     "outputs": [
      {
       "output_type": "stream",
       "stream": "stdout",
       "text": [
        "[imageproc_htm efadb05] Primer commit a mi branch en imageproc\n",
        " 2 files changed, 175 insertions(+), 2 deletions(-)\n",
        " create mode 100644 libretas/.ipynb_checkpoints/GIT_RevisionControl_4aEtapa-checkpoint.ipynb\n",
        "* efadb05 Primer commit a mi branch en imageproc\n",
        "* 1e6de4c Agregando libretas de curso Git\n",
        "* 82efbc6 Primera creacion del repositorio imageproc\n"
       ]
      }
     ],
     "prompt_number": 5
    },
    {
     "cell_type": "code",
     "collapsed": false,
     "input": [
      "%%bash\n",
      "cd imageproc/\n",
      "\n",
      "git remote add imageproc_htm https://github.com/htapiagroup/imageproc.git\n",
      "git push -u origin imageproc_htm"
     ],
     "language": "python",
     "metadata": {},
     "outputs": [
      {
       "output_type": "stream",
       "stream": "stdout",
       "text": [
        "Branch imageproc_htm set up to track remote branch imageproc_htm from origin.\n"
       ]
      },
      {
       "output_type": "stream",
       "stream": "stderr",
       "text": [
        "To https://github.com/htapiagroup/imageproc\n",
        " * [new branch]      imageproc_htm -> imageproc_htm\n"
       ]
      }
     ],
     "prompt_number": 6
    },
    {
     "cell_type": "code",
     "collapsed": false,
     "input": [
      "%%bash\n",
      "cd imageproc/\n",
      "\n",
      "git remote -v\n",
      "git status"
     ],
     "language": "python",
     "metadata": {},
     "outputs": [
      {
       "output_type": "stream",
       "stream": "stdout",
       "text": [
        "imageproc_htm\thttps://github.com/htapiagroup/imageproc.git (fetch)\n",
        "imageproc_htm\thttps://github.com/htapiagroup/imageproc.git (push)\n",
        "origin\thttps://github.com/htapiagroup/imageproc (fetch)\n",
        "origin\thttps://github.com/htapiagroup/imageproc (push)\n",
        "On branch imageproc_htm\n",
        "Your branch is up-to-date with 'origin/imageproc_htm'.\n",
        "Changes not staged for commit:\n",
        "  (use \"git add <file>...\" to update what will be committed)\n",
        "  (use \"git checkout -- <file>...\" to discard changes in working directory)\n",
        "\n",
        "\tmodified:   libretas/GIT_RevisionControl_4aEtapa.ipynb\n",
        "\n",
        "Untracked files:\n",
        "  (use \"git add <file>...\" to include in what will be committed)\n",
        "\n",
        "\tlibretas/.ipynb_checkpoints/GIT_RevisionControl_3aEtapa-checkpoint.ipynb\n",
        "\n",
        "no changes added to commit (use \"git add\" and/or \"git commit -a\")\n"
       ]
      }
     ],
     "prompt_number": 8
    },
    {
     "cell_type": "markdown",
     "metadata": {},
     "source": [
      "Ahora en el repositorio `imageproc` hay un `branch` que tiene el nombre de mi repositorio. Este es el repositorio en el que vamos a trabajar y a sincronizarnos entre este mi y su propio `branch`. \n",
      "\n",
      "De este modo, les queda de tarea crear su `branch` en el repositorio correspondiente y **sincronizen los avances de la semana pasada** en ellos."
     ]
    }
   ],
   "metadata": {}
  }
 ]
}