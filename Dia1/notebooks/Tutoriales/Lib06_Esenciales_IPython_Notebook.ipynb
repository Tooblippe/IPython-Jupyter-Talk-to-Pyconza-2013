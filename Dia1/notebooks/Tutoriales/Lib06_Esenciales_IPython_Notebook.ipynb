{
 "metadata": {
  "name": "",
  "signature": "sha256:38307968f815f143b716e7be03b424d3e0bf3e409233972efddb56ef397ae60b"
 },
 "nbformat": 3,
 "nbformat_minor": 0,
 "worksheets": [
  {
   "cells": [
    {
     "cell_type": "code",
     "collapsed": true,
     "input": [
      "%run ../talktools.py"
     ],
     "language": "python",
     "metadata": {
      "slideshow": {
       "slide_type": "skip"
      }
     },
     "outputs": [
      {
       "html": [
        "\n",
        "<style>\n",
        "    @font-face {\n",
        "        font-family: \"Computer Modern\";\n",
        "        src: url('http://mirrors.ctan.org/fonts/cm-unicode/fonts/otf/cmunss.otf');\n",
        "    }\n",
        "    div.cell{\n",
        "        width:800px;\n",
        "        margin-left:auto !important;\n",
        "        margin-right:auto;\n",
        "\t\tmargin-top:1em;\n",
        "\t\tmargin-bottom:1em;\n",
        "    }\n",
        "    h1 {\n",
        "        font-family: Helvetica, serif;\n",
        "\t\tbackground-color:#b0c4de;\n",
        "\n",
        "\t\t\n",
        "    }\n",
        "\th2 {\n",
        "        font-family: Helvetica, serif;\n",
        "\t\tbackground-color:#b0c4de;\n",
        "\t\t\n",
        "\t\t\n",
        "    }\n",
        "\th3 {\n",
        "        font-family: Helvetica, serif;\n",
        "\t\tbackground-color:#b0c4de;\n",
        "\t\t\n",
        "    }\n",
        "    h4{\n",
        "        margin-top:12px;\n",
        "        margin-bottom: 3px;\n",
        "       }\n",
        "    div.text_cell_render{\n",
        "        font-family: Computer Modern, \"Helvetica Neue\", Arial, Helvetica, Geneva, sans-serif;\n",
        "        line-height: 145%;\n",
        "        font-size: 130%;\n",
        "        width:800px;\n",
        "        margin-left:auto;\n",
        "        margin-right:auto;\n",
        "    }\n",
        "    .CodeMirror{\n",
        "            font-family: \"Source Code Pro\", source-code-pro,Consolas, monospace;\n",
        "    }\n",
        "    \n",
        "    .text_cell_render h5 {\n",
        "        font-weight: 300;\n",
        "        font-size: 22pt;\n",
        "        color: #4057A1;\n",
        "        font-style: italic;\n",
        "        margin-bottom: .5em;\n",
        "        margin-top: 0.5em;\n",
        "        display: block;\n",
        "    }\n",
        "    \n",
        "    .warning{\n",
        "        color: rgb( 240, 20, 20 )\n",
        "        }  \n",
        "\n",
        "\t\tdiv.cell.code_cell {  /* Areat containing both code and output */\n",
        "\t\tbackground-color:#F1F0FF; /* light blue */\n",
        "\t\tborder-radius: 10px; /* rounded borders = friendlier */\n",
        "\t\tpadding: 1em;\n",
        "\t\t}\n",
        "</style>\n",
        "<script>\n",
        "    MathJax.Hub.Config({\n",
        "                        TeX: {\n",
        "                           extensions: [\"AMSmath.js\"]\n",
        "                           },\n",
        "                tex2jax: {\n",
        "                    inlineMath: [ ['$','$'], [\"\\\\(\",\"\\\\)\"] ],\n",
        "                    displayMath: [ ['$$','$$'], [\"\\\\[\",\"\\\\]\"] ]\n",
        "                },\n",
        "                displayAlign: 'center', // Change this to 'center' to center equations.\n",
        "                \"HTML-CSS\": {\n",
        "                    styles: {'.MathJax_Display': {\"margin\": 4}}\n",
        "                }\n",
        "        });\n",
        "</script>"
       ],
       "metadata": {},
       "output_type": "display_data",
       "text": [
        "<IPython.core.display.HTML at 0x7f1ac99ad390>"
       ]
      }
     ],
     "prompt_number": 1
    },
    {
     "cell_type": "markdown",
     "metadata": {
      "slideshow": {
       "slide_type": "slide"
      }
     },
     "source": [
      "# IPython Notebook\n",
      "\n",
      "![IPython Notebook](http://ipython.org/_static/ipy_0.13.png)"
     ]
    },
    {
     "cell_type": "markdown",
     "metadata": {},
     "source": [
      "## Ejecutando comandos del shell\n",
      "IPython y las libretas pueden usarse como un lenguaje para el shell agregando el poder del shell y de python. Para llamar un comando del shell se antecede `!` al comando que se desea invocar, indicando a la libreta que se quiere ejecutar un comando del sistema. \n",
      "\n",
      "Veamos un ejemplo en el que pasaremos el contenido del directorio actual a una variable en python y se despliega:"
     ]
    },
    {
     "cell_type": "code",
     "collapsed": false,
     "input": [
      "filelist = !ls                     #read the current directory into variable\n",
      "for x,i in enumerate(filelist):\n",
      "    print '#',x, '--->', i"
     ],
     "language": "python",
     "metadata": {},
     "outputs": []
    },
    {
     "cell_type": "code",
     "collapsed": false,
     "input": [
      "#MAS"
     ],
     "language": "python",
     "metadata": {},
     "outputs": []
    },
    {
     "cell_type": "markdown",
     "metadata": {},
     "source": [
      "## Como enlazar el sistema de archivos local"
     ]
    },
    {
     "cell_type": "code",
     "collapsed": false,
     "input": [
      "from IPython.display import FileLink, FileLinks\n",
      "FileLinks('.')"
     ],
     "language": "python",
     "metadata": {},
     "outputs": [
      {
       "html": [
        "./<br>\n",
        "&nbsp;&nbsp;<a href='./Lib06_Esenciales_IPython_Notebook.ipynb' target='_blank'>Lib06_Esenciales_IPython_Notebook.ipynb</a><br>\n",
        "&nbsp;&nbsp;<a href='./Lib08_Esenciales_IPython_Notebook.ipynb' target='_blank'>Lib08_Esenciales_IPython_Notebook.ipynb</a><br>\n",
        "&nbsp;&nbsp;<a href='./npm-debug.log' target='_blank'>npm-debug.log</a><br>\n",
        "&nbsp;&nbsp;<a href='./Lib01_Esenciales_IPython_Notebook.ipynb' target='_blank'>Lib01_Esenciales_IPython_Notebook.ipynb</a><br>\n",
        "&nbsp;&nbsp;<a href='./Lib00_Esenciales_Instalacion.slides.html' target='_blank'>Lib00_Esenciales_Instalacion.slides.html</a><br>\n",
        "&nbsp;&nbsp;<a href='./Lib05_Esenciales_IPython_Notebook.ipynb' target='_blank'>Lib05_Esenciales_IPython_Notebook.ipynb</a><br>\n",
        "&nbsp;&nbsp;<a href='./Lib00_Esenciales_IPython_Notebook.ipynb' target='_blank'>Lib00_Esenciales_IPython_Notebook.ipynb</a><br>\n",
        "&nbsp;&nbsp;<a href='./Lib13_GIT03_RevisionControl_3aEtapa.ipynb' target='_blank'>Lib13_GIT03_RevisionControl_3aEtapa.ipynb</a><br>\n",
        "&nbsp;&nbsp;<a href='./mydemo.py' target='_blank'>mydemo.py</a><br>\n",
        "&nbsp;&nbsp;<a href='./Lib03_Esenciales_IPython_Notebook.ipynb' target='_blank'>Lib03_Esenciales_IPython_Notebook.ipynb</a><br>\n",
        "&nbsp;&nbsp;<a href='./Lib12_GIT02_RevisionControl_2aEtapa.ipynb' target='_blank'>Lib12_GIT02_RevisionControl_2aEtapa.ipynb</a><br>\n",
        "&nbsp;&nbsp;<a href='./Lib09_Esenciales_IPython_Notebook.ipynb' target='_blank'>Lib09_Esenciales_IPython_Notebook.ipynb</a><br>\n",
        "&nbsp;&nbsp;<a href='./lania2014_ipython.slides.html' target='_blank'>lania2014_ipython.slides.html</a><br>\n",
        "&nbsp;&nbsp;<a href='./Lib15_GIT05_RevisionControl_Aplicacion.ipynb' target='_blank'>Lib15_GIT05_RevisionControl_Aplicacion.ipynb</a><br>\n",
        "&nbsp;&nbsp;<a href='./Lib14_GIT04_RevisionControl_4aEtapa.ipynb' target='_blank'>Lib14_GIT04_RevisionControl_4aEtapa.ipynb</a><br>\n",
        "&nbsp;&nbsp;<a href='./Lib02_Esenciales_IPython_Notebook.ipynb' target='_blank'>Lib02_Esenciales_IPython_Notebook.ipynb</a><br>\n",
        "&nbsp;&nbsp;<a href='./Lib11_GIT01_RevisionControl_1aEtapa.ipynb' target='_blank'>Lib11_GIT01_RevisionControl_1aEtapa.ipynb</a><br>\n",
        "&nbsp;&nbsp;<a href='./Lib07_Esenciales_IPython_Notebook.ipynb' target='_blank'>Lib07_Esenciales_IPython_Notebook.ipynb</a><br>\n",
        "&nbsp;&nbsp;<a href='./Lib10_Esenciales_IPython_Notebook.ipynb' target='_blank'>Lib10_Esenciales_IPython_Notebook.ipynb</a><br>\n",
        "&nbsp;&nbsp;<a href='./Lib04_Esenciales_IPython_Notebook.ipynb' target='_blank'>Lib04_Esenciales_IPython_Notebook.ipynb</a><br>\n",
        "./.ipynb_checkpoints/<br>\n",
        "&nbsp;&nbsp;<a href='./.ipynb_checkpoints/Lib08_Esenciales_IPython_Notebook-checkpoint.ipynb' target='_blank'>Lib08_Esenciales_IPython_Notebook-checkpoint.ipynb</a><br>\n",
        "&nbsp;&nbsp;<a href='./.ipynb_checkpoints/Lib07_Esenciales_IPython_Notebook-checkpoint.ipynb' target='_blank'>Lib07_Esenciales_IPython_Notebook-checkpoint.ipynb</a><br>\n",
        "&nbsp;&nbsp;<a href='./.ipynb_checkpoints/Lib15_GIT05_RevisionControl_Aplicacion-checkpoint.ipynb' target='_blank'>Lib15_GIT05_RevisionControl_Aplicacion-checkpoint.ipynb</a><br>\n",
        "&nbsp;&nbsp;<a href='./.ipynb_checkpoints/Lib01_Esenciales_IPython_Notebook-checkpoint.ipynb' target='_blank'>Lib01_Esenciales_IPython_Notebook-checkpoint.ipynb</a><br>\n",
        "&nbsp;&nbsp;<a href='./.ipynb_checkpoints/lania2014_ipython-checkpoint.ipynb' target='_blank'>lania2014_ipython-checkpoint.ipynb</a><br>\n",
        "&nbsp;&nbsp;<a href='./.ipynb_checkpoints/Lib13_GIT03_RevisionControl_3aEtapa-checkpoint.ipynb' target='_blank'>Lib13_GIT03_RevisionControl_3aEtapa-checkpoint.ipynb</a><br>\n",
        "&nbsp;&nbsp;<a href='./.ipynb_checkpoints/Lib14_GIT04_RevisionControl_4aEtapa-checkpoint.ipynb' target='_blank'>Lib14_GIT04_RevisionControl_4aEtapa-checkpoint.ipynb</a><br>\n",
        "&nbsp;&nbsp;<a href='./.ipynb_checkpoints/Lib05_Esenciales_IPython_Notebook-checkpoint.ipynb' target='_blank'>Lib05_Esenciales_IPython_Notebook-checkpoint.ipynb</a><br>\n",
        "&nbsp;&nbsp;<a href='./.ipynb_checkpoints/Lib12_GIT02_RevisionControl_2aEtapa-checkpoint.ipynb' target='_blank'>Lib12_GIT02_RevisionControl_2aEtapa-checkpoint.ipynb</a><br>\n",
        "&nbsp;&nbsp;<a href='./.ipynb_checkpoints/Lib02_Esenciales_IPython_Notebook-checkpoint.ipynb' target='_blank'>Lib02_Esenciales_IPython_Notebook-checkpoint.ipynb</a><br>\n",
        "&nbsp;&nbsp;<a href='./.ipynb_checkpoints/Lib03_Esenciales_IPython_Notebook-checkpoint.ipynb' target='_blank'>Lib03_Esenciales_IPython_Notebook-checkpoint.ipynb</a><br>\n",
        "&nbsp;&nbsp;<a href='./.ipynb_checkpoints/Lib04_Esenciales_IPython_Notebook-checkpoint.ipynb' target='_blank'>Lib04_Esenciales_IPython_Notebook-checkpoint.ipynb</a><br>\n",
        "&nbsp;&nbsp;<a href='./.ipynb_checkpoints/Lib00_Esenciales_IPython_Notebook-checkpoint.ipynb' target='_blank'>Lib00_Esenciales_IPython_Notebook-checkpoint.ipynb</a><br>\n",
        "&nbsp;&nbsp;<a href='./.ipynb_checkpoints/Lib10_Esenciales_IPython_Notebook-checkpoint.ipynb' target='_blank'>Lib10_Esenciales_IPython_Notebook-checkpoint.ipynb</a><br>\n",
        "&nbsp;&nbsp;<a href='./.ipynb_checkpoints/Lib06_Esenciales_IPython_Notebook-checkpoint.ipynb' target='_blank'>Lib06_Esenciales_IPython_Notebook-checkpoint.ipynb</a><br>\n",
        "&nbsp;&nbsp;<a href='./.ipynb_checkpoints/Lib09_Esenciales_IPython_Notebook-checkpoint.ipynb' target='_blank'>Lib09_Esenciales_IPython_Notebook-checkpoint.ipynb</a><br>"
       ],
       "metadata": {},
       "output_type": "pyout",
       "prompt_number": 3,
       "text": [
        "./\n",
        "  Lib06_Esenciales_IPython_Notebook.ipynb\n",
        "  Lib08_Esenciales_IPython_Notebook.ipynb\n",
        "  npm-debug.log\n",
        "  Lib01_Esenciales_IPython_Notebook.ipynb\n",
        "  Lib00_Esenciales_Instalacion.slides.html\n",
        "  Lib05_Esenciales_IPython_Notebook.ipynb\n",
        "  Lib00_Esenciales_IPython_Notebook.ipynb\n",
        "  Lib13_GIT03_RevisionControl_3aEtapa.ipynb\n",
        "  mydemo.py\n",
        "  Lib03_Esenciales_IPython_Notebook.ipynb\n",
        "  Lib12_GIT02_RevisionControl_2aEtapa.ipynb\n",
        "  Lib09_Esenciales_IPython_Notebook.ipynb\n",
        "  lania2014_ipython.slides.html\n",
        "  Lib15_GIT05_RevisionControl_Aplicacion.ipynb\n",
        "  Lib14_GIT04_RevisionControl_4aEtapa.ipynb\n",
        "  Lib02_Esenciales_IPython_Notebook.ipynb\n",
        "  Lib11_GIT01_RevisionControl_1aEtapa.ipynb\n",
        "  Lib07_Esenciales_IPython_Notebook.ipynb\n",
        "  Lib10_Esenciales_IPython_Notebook.ipynb\n",
        "  Lib04_Esenciales_IPython_Notebook.ipynb\n",
        "./.ipynb_checkpoints/\n",
        "  Lib08_Esenciales_IPython_Notebook-checkpoint.ipynb\n",
        "  Lib07_Esenciales_IPython_Notebook-checkpoint.ipynb\n",
        "  Lib15_GIT05_RevisionControl_Aplicacion-checkpoint.ipynb\n",
        "  Lib01_Esenciales_IPython_Notebook-checkpoint.ipynb\n",
        "  lania2014_ipython-checkpoint.ipynb\n",
        "  Lib13_GIT03_RevisionControl_3aEtapa-checkpoint.ipynb\n",
        "  Lib14_GIT04_RevisionControl_4aEtapa-checkpoint.ipynb\n",
        "  Lib05_Esenciales_IPython_Notebook-checkpoint.ipynb\n",
        "  Lib12_GIT02_RevisionControl_2aEtapa-checkpoint.ipynb\n",
        "  Lib02_Esenciales_IPython_Notebook-checkpoint.ipynb\n",
        "  Lib03_Esenciales_IPython_Notebook-checkpoint.ipynb\n",
        "  Lib04_Esenciales_IPython_Notebook-checkpoint.ipynb\n",
        "  Lib00_Esenciales_IPython_Notebook-checkpoint.ipynb\n",
        "  Lib10_Esenciales_IPython_Notebook-checkpoint.ipynb\n",
        "  Lib06_Esenciales_IPython_Notebook-checkpoint.ipynb\n",
        "  Lib09_Esenciales_IPython_Notebook-checkpoint.ipynb"
       ]
      }
     ],
     "prompt_number": 3
    },
    {
     "cell_type": "code",
     "collapsed": false,
     "input": [
      "FileLinks('./.ipynb_checkpoints/')"
     ],
     "language": "python",
     "metadata": {},
     "outputs": [
      {
       "html": [
        "./.ipynb_checkpoints/<br>\n",
        "&nbsp;&nbsp;<a href='./.ipynb_checkpoints/Lib08_Esenciales_IPython_Notebook-checkpoint.ipynb' target='_blank'>Lib08_Esenciales_IPython_Notebook-checkpoint.ipynb</a><br>\n",
        "&nbsp;&nbsp;<a href='./.ipynb_checkpoints/Lib07_Esenciales_IPython_Notebook-checkpoint.ipynb' target='_blank'>Lib07_Esenciales_IPython_Notebook-checkpoint.ipynb</a><br>\n",
        "&nbsp;&nbsp;<a href='./.ipynb_checkpoints/Lib15_GIT05_RevisionControl_Aplicacion-checkpoint.ipynb' target='_blank'>Lib15_GIT05_RevisionControl_Aplicacion-checkpoint.ipynb</a><br>\n",
        "&nbsp;&nbsp;<a href='./.ipynb_checkpoints/Lib01_Esenciales_IPython_Notebook-checkpoint.ipynb' target='_blank'>Lib01_Esenciales_IPython_Notebook-checkpoint.ipynb</a><br>\n",
        "&nbsp;&nbsp;<a href='./.ipynb_checkpoints/lania2014_ipython-checkpoint.ipynb' target='_blank'>lania2014_ipython-checkpoint.ipynb</a><br>\n",
        "&nbsp;&nbsp;<a href='./.ipynb_checkpoints/Lib13_GIT03_RevisionControl_3aEtapa-checkpoint.ipynb' target='_blank'>Lib13_GIT03_RevisionControl_3aEtapa-checkpoint.ipynb</a><br>\n",
        "&nbsp;&nbsp;<a href='./.ipynb_checkpoints/Lib14_GIT04_RevisionControl_4aEtapa-checkpoint.ipynb' target='_blank'>Lib14_GIT04_RevisionControl_4aEtapa-checkpoint.ipynb</a><br>\n",
        "&nbsp;&nbsp;<a href='./.ipynb_checkpoints/Lib05_Esenciales_IPython_Notebook-checkpoint.ipynb' target='_blank'>Lib05_Esenciales_IPython_Notebook-checkpoint.ipynb</a><br>\n",
        "&nbsp;&nbsp;<a href='./.ipynb_checkpoints/Lib12_GIT02_RevisionControl_2aEtapa-checkpoint.ipynb' target='_blank'>Lib12_GIT02_RevisionControl_2aEtapa-checkpoint.ipynb</a><br>\n",
        "&nbsp;&nbsp;<a href='./.ipynb_checkpoints/Lib02_Esenciales_IPython_Notebook-checkpoint.ipynb' target='_blank'>Lib02_Esenciales_IPython_Notebook-checkpoint.ipynb</a><br>\n",
        "&nbsp;&nbsp;<a href='./.ipynb_checkpoints/Lib03_Esenciales_IPython_Notebook-checkpoint.ipynb' target='_blank'>Lib03_Esenciales_IPython_Notebook-checkpoint.ipynb</a><br>\n",
        "&nbsp;&nbsp;<a href='./.ipynb_checkpoints/Lib04_Esenciales_IPython_Notebook-checkpoint.ipynb' target='_blank'>Lib04_Esenciales_IPython_Notebook-checkpoint.ipynb</a><br>\n",
        "&nbsp;&nbsp;<a href='./.ipynb_checkpoints/Lib00_Esenciales_IPython_Notebook-checkpoint.ipynb' target='_blank'>Lib00_Esenciales_IPython_Notebook-checkpoint.ipynb</a><br>\n",
        "&nbsp;&nbsp;<a href='./.ipynb_checkpoints/Lib10_Esenciales_IPython_Notebook-checkpoint.ipynb' target='_blank'>Lib10_Esenciales_IPython_Notebook-checkpoint.ipynb</a><br>\n",
        "&nbsp;&nbsp;<a href='./.ipynb_checkpoints/Lib06_Esenciales_IPython_Notebook-checkpoint.ipynb' target='_blank'>Lib06_Esenciales_IPython_Notebook-checkpoint.ipynb</a><br>\n",
        "&nbsp;&nbsp;<a href='./.ipynb_checkpoints/Lib09_Esenciales_IPython_Notebook-checkpoint.ipynb' target='_blank'>Lib09_Esenciales_IPython_Notebook-checkpoint.ipynb</a><br>"
       ],
       "metadata": {},
       "output_type": "pyout",
       "prompt_number": 4,
       "text": [
        "./.ipynb_checkpoints/\n",
        "  Lib08_Esenciales_IPython_Notebook-checkpoint.ipynb\n",
        "  Lib07_Esenciales_IPython_Notebook-checkpoint.ipynb\n",
        "  Lib15_GIT05_RevisionControl_Aplicacion-checkpoint.ipynb\n",
        "  Lib01_Esenciales_IPython_Notebook-checkpoint.ipynb\n",
        "  lania2014_ipython-checkpoint.ipynb\n",
        "  Lib13_GIT03_RevisionControl_3aEtapa-checkpoint.ipynb\n",
        "  Lib14_GIT04_RevisionControl_4aEtapa-checkpoint.ipynb\n",
        "  Lib05_Esenciales_IPython_Notebook-checkpoint.ipynb\n",
        "  Lib12_GIT02_RevisionControl_2aEtapa-checkpoint.ipynb\n",
        "  Lib02_Esenciales_IPython_Notebook-checkpoint.ipynb\n",
        "  Lib03_Esenciales_IPython_Notebook-checkpoint.ipynb\n",
        "  Lib04_Esenciales_IPython_Notebook-checkpoint.ipynb\n",
        "  Lib00_Esenciales_IPython_Notebook-checkpoint.ipynb\n",
        "  Lib10_Esenciales_IPython_Notebook-checkpoint.ipynb\n",
        "  Lib06_Esenciales_IPython_Notebook-checkpoint.ipynb\n",
        "  Lib09_Esenciales_IPython_Notebook-checkpoint.ipynb"
       ]
      }
     ],
     "prompt_number": 4
    },
    {
     "cell_type": "markdown",
     "metadata": {},
     "source": [
      "## Acceso y ejecucion de codigo externos"
     ]
    },
    {
     "cell_type": "code",
     "collapsed": false,
     "input": [
      "%load http://pastebin.com/raw.php?i=mGiV1FwY"
     ],
     "language": "python",
     "metadata": {
      "slideshow": {
       "slide_type": "fragment"
      }
     },
     "outputs": []
    },
    {
     "cell_type": "markdown",
     "metadata": {
      "slideshow": {
       "slide_type": "slide"
      }
     },
     "source": [
      "## Salvando a [Gist](https://gist.github.com/)\n",
      "Gist es una forma sencilla de compartir _snippets_ de codigo. Es posible, desde las libretas, salvar lineas de codigo especificas usando la funcion magica `pastebin`:"
     ]
    },
    {
     "cell_type": "code",
     "collapsed": false,
     "input": [
      "%pastebin?"
     ],
     "language": "python",
     "metadata": {
      "slideshow": {
       "slide_type": "fragment"
      }
     },
     "outputs": [],
     "prompt_number": 4
    },
    {
     "cell_type": "code",
     "collapsed": false,
     "input": [
      "%pastebin \"grafica\" 0-10"
     ],
     "language": "python",
     "metadata": {
      "slideshow": {
       "slide_type": "fragment"
      }
     },
     "outputs": [
      {
       "metadata": {},
       "output_type": "pyout",
       "prompt_number": 75,
       "text": [
        "u'https://gist.github.com/2ddab870b06ab2ab0e65'"
       ]
      }
     ],
     "prompt_number": 75
    },
    {
     "cell_type": "markdown",
     "metadata": {
      "slideshow": {
       "slide_type": "slide"
      }
     },
     "source": [
      "## Conectarse a un kernel remotamente\n",
      "Usando la funcion magica `%connect_info` puede obtenerse informacion sobre la conexion y usarla para acceder a esta libreta desde otra consola de python (por ejemplo desde una terminal qtconsole) usando la instruccion:\n",
      "\n",
      "    ipython qtconsole --existing"
     ]
    },
    {
     "cell_type": "code",
     "collapsed": false,
     "input": [
      "%connect_info"
     ],
     "language": "python",
     "metadata": {
      "slideshow": {
       "slide_type": "fragment"
      }
     },
     "outputs": [
      {
       "output_type": "stream",
       "stream": "stdout",
       "text": [
        "{\n",
        "  \"stdin_port\": 35508, \n",
        "  \"ip\": \"127.0.0.1\", \n",
        "  \"control_port\": 34186, \n",
        "  \"hb_port\": 48236, \n",
        "  \"signature_scheme\": \"hmac-sha256\", \n",
        "  \"key\": \"7e7d64e1-229b-4d4a-b1e7-e6523e0fe88b\", \n",
        "  \"shell_port\": 50432, \n",
        "  \"transport\": \"tcp\", \n",
        "  \"iopub_port\": 43523\n",
        "}\n",
        "\n",
        "Paste the above JSON into a file, and connect with:\n",
        "    $> ipython <app> --existing <file>\n",
        "or, if you are local, you can connect with just:\n",
        "    $> ipython <app> --existing kernel-eb23a0cf-a20b-4076-affb-2df5663026ab.json \n",
        "or even just:\n",
        "    $> ipython <app> --existing \n",
        "if this is the most recent IPython session you have started.\n"
       ]
      }
     ],
     "prompt_number": 98
    },
    {
     "cell_type": "markdown",
     "metadata": {},
     "source": [
      "## Ejercicio\n",
      "\n",
      "* Asegurense de ejecutar todas las celdas.\n",
      "\n",
      "* Crear un documento vacio usando el comando correspondiente a su shell (si usan  algun SO tipo \\*NIX el comando del _shell_ es `touch` seguido del nombre que le quieren dar al documento; en windows pueden usar `echo $null >> nombre`).\n",
      "\n",
      "* Enlisten el archivo usando el comando apropiado de su shell (`ls` en \\*NIX, `dir` en Windows).\n",
      "\n",
      "* Usando el comando `FileLinks` obtengan el enlace de archivos en el directorio local y seleccionen el que se llama `Lib07_Esenciales_IPython_Notebook.ipynb` para ir a la siguiente sesion, donde veremos como [hacer graficas y manipularlas.](Lib07_Esenciales_IPython_Notebook.ipynb).\n",
      "\n",
      "* No olviden salvar todos los cambios de su documento antes de salir de esta libreta!"
     ]
    }
   ],
   "metadata": {}
  }
 ]
}