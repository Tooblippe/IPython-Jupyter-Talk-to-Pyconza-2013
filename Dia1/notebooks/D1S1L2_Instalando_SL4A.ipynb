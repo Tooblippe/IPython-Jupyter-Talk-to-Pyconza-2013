{
 "cells": [
  {
   "cell_type": "code",
   "execution_count": 1,
   "metadata": {
    "collapsed": true,
    "slideshow": {
     "slide_type": "skip"
    }
   },
   "outputs": [
    {
     "data": {
      "text/html": [
       "\n",
       "<style>\n",
       "    @font-face {\n",
       "        font-family: \"Computer Modern\";\n",
       "        src: url('http://mirrors.ctan.org/fonts/cm-unicode/fonts/otf/cmunss.otf');\n",
       "    }\n",
       "    div.cell{\n",
       "        width:800px;\n",
       "        margin-left:auto !important;\n",
       "        margin-right:auto;\n",
       "\t\tmargin-top:1em;\n",
       "\t\tmargin-bottom:1em;\n",
       "    }\n",
       "    h1 {\n",
       "        font-family: Helvetica, serif;\n",
       "\t\tbackground-color:#b0c4de;\n",
       "\n",
       "\t\t\n",
       "    }\n",
       "\th2 {\n",
       "        font-family: Helvetica, serif;\n",
       "\t\tbackground-color:#b0c4de;\n",
       "\t\t\n",
       "\t\t\n",
       "    }\n",
       "\th3 {\n",
       "        font-family: Helvetica, serif;\n",
       "\t\tbackground-color:#b0c4de;\n",
       "\t\t\n",
       "    }\n",
       "    h4{\n",
       "        margin-top:12px;\n",
       "        margin-bottom: 3px;\n",
       "       }\n",
       "    div.text_cell_render{\n",
       "        font-family: Computer Modern, \"Helvetica Neue\", Arial, Helvetica, Geneva, sans-serif;\n",
       "        line-height: 145%;\n",
       "        font-size: 130%;\n",
       "        width:800px;\n",
       "        margin-left:auto;\n",
       "        margin-right:auto;\n",
       "    }\n",
       "    .CodeMirror{\n",
       "            font-family: \"Source Code Pro\", source-code-pro,Consolas, monospace;\n",
       "    }\n",
       "    \n",
       "    .text_cell_render h5 {\n",
       "        font-weight: 300;\n",
       "        font-size: 22pt;\n",
       "        color: #4057A1;\n",
       "        font-style: italic;\n",
       "        margin-bottom: .5em;\n",
       "        margin-top: 0.5em;\n",
       "        display: block;\n",
       "    }\n",
       "    \n",
       "    .warning{\n",
       "        color: rgb( 240, 20, 20 )\n",
       "        }  \n",
       "\n",
       "\t\tdiv.cell.code_cell {  /* Areat containing both code and output */\n",
       "\t\tbackground-color:#F1F0FF; /* light blue */\n",
       "\t\tborder-radius: 10px; /* rounded borders = friendlier */\n",
       "\t\tpadding: 1em;\n",
       "\t\t}\n",
       "</style>\n",
       "<script>\n",
       "    MathJax.Hub.Config({\n",
       "                        TeX: {\n",
       "                           extensions: [\"AMSmath.js\"]\n",
       "                           },\n",
       "                tex2jax: {\n",
       "                    inlineMath: [ ['$','$'], [\"\\\\(\",\"\\\\)\"] ],\n",
       "                    displayMath: [ ['$$','$$'], [\"\\\\[\",\"\\\\]\"] ]\n",
       "                },\n",
       "                displayAlign: 'center', // Change this to 'center' to center equations.\n",
       "                \"HTML-CSS\": {\n",
       "                    styles: {'.MathJax_Display': {\"margin\": 4}}\n",
       "                }\n",
       "        });\n",
       "</script>"
      ],
      "text/plain": [
       "<IPython.core.display.HTML at 0x7ff8e1659390>"
      ]
     },
     "metadata": {},
     "output_type": "display_data"
    }
   ],
   "source": [
    "%run ../talktools.py"
   ]
  },
  {
   "cell_type": "markdown",
   "metadata": {
    "slideshow": {
     "slide_type": "slide"
    }
   },
   "source": [
    "#  Dia 1, Sesion 1, Libreta 2: Scripting Layer for Android SL4A\n",
    "\n",
    "El Scripting Layer for Android, SL4A, es un aplicacion de codigo abierto que permite ejecutar programas desarrollados en lenguajes interpretados sobre el SO de Android, y proporciona una API de alto nivel que permite a los programas interactuar con el dispositivo Android facilitando el acceso a los datos de los sensores, enviar mensajes de texto, correos electronicos, etc.\n",
    "\n",
    "En esta libreta se describen los pasos para instalar y configurar el dispositivo movil y el sistema local."
   ]
  },
  {
   "cell_type": "markdown",
   "metadata": {
    "slideshow": {
     "slide_type": "slide"
    }
   },
   "source": [
    "## Instalando SL4A\n",
    "\n",
    "Para instalar el SL4A:\n",
    "1. Habilitar \"Fuentes desconocidas\" (Unknown Sources) en la seccion de configuracion (Application Settings)\n",
    "2. Instalar un  programa Barcode Scanner.\n",
    "3. Escanear el codigo para descargar el APK.\n",
    "4. Instalar presionando el archivo APK descargado.\n",
    "\n",
    "[Sl4A](https://github.com/kuri65536/sl4a/releases/download/6.1.1/sl4a-r6.1.1-arm-debug.apk)\n",
    "![QR code for binary(apk)][qrcodeSL4A]\n",
    "[qrcodeSL4A]: http://chart.apis.google.com/chart?cht=qr&chs=200x200&chl=https://github.com/kuri65536/sl4a/releases/download/6.1.1/sl4a-r6.1.1-arm-debug.apk&nonsense=something_that_ends_with.png\n",
    "\n",
    "[Py4A](https://github.com/kuri65536/python-for-android/releases/download/r26/PythonForAndroid-debug-r26.apk)\n",
    "![QR code for binary(apk)][qrcodePy4A]\n",
    "[qrcodePy4A]: http://chart.apis.google.com/chart?cht=qr&chs=200x200&chl=https://github.com/kuri65536/python-for-android/releases/download/r26/PythonForAndroid-debug-r26.apk&nonsense=something_that_ends_with.png"
   ]
  },
  {
   "cell_type": "markdown",
   "metadata": {},
   "source": [
    "## Video de instalacion del interprete de Python\n",
    "A continuacion una animacion con los pasos completos para instalar el interprete de Python en su dispositivo una vez instalado el SL4A:\n",
    "\n",
    "![sl4a loop](../files/sl4a_install.gif)\n",
    "\n",
    "# Revisando configuracion\n",
    "Al terminar el proceso de instalacion, seleccionen Python del menu de interpretes y escriban en las lineas de comando las siguientes lineas de codigo:\n",
    "\n",
    "    from android import Android\n",
    "    droid = Android()\n",
    "    droid.ttsSpeak(\"hola clase\")\n",
    "\n",
    "Presionando la tecla \"Return\" al termino de cada linea:\n",
    "\n",
    "![sl4a loop](../files/sl4a_interprete2.png)\n",
    "\n",
    "Si escucharon a su dispositivo repetir \"hola clase\" entonces instalaron exitosamente Python en su Android, felicidades! A continuacion conectaremos su computadora con el dispositivo para controlarlo a traves de Python."
   ]
  },
  {
   "cell_type": "markdown",
   "metadata": {
    "collapsed": false
   },
   "source": [
    "# Recursos\n",
    "\n",
    "[SL4A en github](https://github.com/kuri65536/sl4a)\n",
    "\n",
    "[API Reference](https://github.com/damonkohler/sl4a/blob/wiki/ApiReference.md)\n",
    "\n",
    "[Muchos ejemplos](https://github.com/damonkohler/sl4a/blob/wiki/Tutorials.md)\n",
    "\n",
    "[Tutorial en Python central](http://pythoncentral.io/python-for-android-the-scripting-layer-sl4a/)\n",
    "\n",
    "[Videos en YouTube](https://www.youtube.com/playlist?list=PL07A81E6CE96F158B)\n",
    "\n",
    "[Mas videos en YouTube](https://www.youtube.com/user/damonkohler#p/c/07A81E6CE96F158B/0/4bsbzLEEdQs)\n"
   ]
  }
 ],
 "metadata": {
  "kernelspec": {
   "display_name": "Python 2",
   "language": "python",
   "name": "python2"
  },
  "language_info": {
   "codemirror_mode": {
    "name": "ipython",
    "version": 2
   },
   "file_extension": ".py",
   "mimetype": "text/x-python",
   "name": "python",
   "nbconvert_exporter": "python",
   "pygments_lexer": "ipython2",
   "version": "2.7.10"
  }
 },
 "nbformat": 4,
 "nbformat_minor": 0
}
