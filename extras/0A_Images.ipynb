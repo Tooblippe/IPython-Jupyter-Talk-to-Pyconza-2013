{
 "metadata": {
  "name": "",
  "signature": "sha256:b7b6735e002b160af4ce0cbef727310d80672b90ebd17b6b2bdecc2daeaa0d6d"
 },
 "nbformat": 3,
 "nbformat_minor": 0,
 "worksheets": [
  {
   "cells": [
    {
     "cell_type": "markdown",
     "metadata": {},
     "source": [
      "From\n",
      "http://nbviewer.ipython.org/github/minrk/IPython-parallel-tutorial/blob/master/images.ipynb"
     ]
    },
    {
     "cell_type": "markdown",
     "metadata": {},
     "source": [
      "Requires: requests, requests_cache\n",
      "[MediaWiki search API](http://www.mediawiki.org/wiki/API:Search)"
     ]
    },
    {
     "cell_type": "code",
     "collapsed": false,
     "input": [
      "import sys, os\n",
      "\n",
      "import requests\n",
      "try:\n",
      "    import requests_cache\n",
      "except ImportError:\n",
      "    print(\"no cache, no worries\")\n",
      "else:\n",
      "    requests_cache.install_cache(\"mediawiki\")\n",
      "\n",
      "api_url = \"http://commons.wikimedia.org/w/api.php\""
     ],
     "language": "python",
     "metadata": {},
     "outputs": [
      {
       "output_type": "stream",
       "stream": "stdout",
       "text": [
        "no cache, no worries\n"
       ]
      }
     ],
     "prompt_number": 32
    },
    {
     "cell_type": "code",
     "collapsed": false,
     "input": [
      "def api_request(**kwargs):\n",
      "    \"\"\"Make a request of the Wikimedia Commons API\n",
      "    \n",
      "    Returns data after parsing JSON\n",
      "    \"\"\"\n",
      "    sys.stdout.write('.')\n",
      "    sys.stdout.flush()\n",
      "    \n",
      "\n",
      "    params = dict(\n",
      "        action='query',\n",
      "        format='json',\n",
      "    )\n",
      "    params.update(kwargs)\n",
      "    r = requests.get(api_url, params=params)\n",
      "    r.raise_for_status()\n",
      "    return r.json()\n",
      "\n",
      "\n",
      "import json\n",
      "\n",
      "def search_images(search, limit=100, size_limit=400000):\n",
      "    \"\"\"search wikimedia commons for a given term\n",
      "    \n",
      "    returns a list of `limit` URLs for images\n",
      "    \"\"\"\n",
      "    urls = []\n",
      "    continue_params = {}\n",
      "    while limit > 0:\n",
      "        data = api_request(\n",
      "                srnamespace=6,\n",
      "                prop='imageinfo',\n",
      "                list='search',\n",
      "                srsearch=search,\n",
      "                srlimit=min(limit, 50),\n",
      "                **continue_params\n",
      "        )\n",
      "        continue_params = data['query-continue']['search']\n",
      "        total = data['query']['searchinfo']['totalhits']\n",
      "        results = data['query']['search']\n",
      "        for r in results:\n",
      "            title = r['title']\n",
      "            data = api_request(\n",
      "                            prop='imageinfo',\n",
      "                            titles=title,\n",
      "                            iiprop='url|size|mime')\n",
      "            imageinfo = data['query']['pages'].values()[0]['imageinfo'][0]\n",
      "            if imageinfo['mime'] in ('image/png', 'image/jpeg') and imageinfo['size'] <= size_limit:\n",
      "                urls.append(imageinfo['url'])\n",
      "                limit -= 1\n",
      " \n",
      "    return urls"
     ],
     "language": "python",
     "metadata": {},
     "outputs": [],
     "prompt_number": 33
    },
    {
     "cell_type": "code",
     "collapsed": false,
     "input": [
      "def download_images(search, n):\n",
      "    \"\"\"download images from mediawiki commons to folders based on the search term\"\"\"\n",
      "    if not os.path.exists('images'):\n",
      "        os.mkdir('images')\n",
      "    tagdir = os.path.join('images', search)\n",
      "    if not os.path.exists(tagdir):\n",
      "        os.mkdir(tagdir)\n",
      "    for url in search_images(search, n):\n",
      "        r = requests.get(url)\n",
      "        fname = url.rsplit('/')[-1]\n",
      "        dest = os.path.join(tagdir, fname)\n",
      "        # print(\"downloading %s => %s\" % (url, dest))\n",
      "        sys.stdout.write('+')\n",
      "        sys.stdout.flush()\n",
      "        with open(dest, 'wb') as f:\n",
      "            f.write(r.content)"
     ],
     "language": "python",
     "metadata": {},
     "outputs": [],
     "prompt_number": 34
    },
    {
     "cell_type": "code",
     "collapsed": false,
     "input": [
      "download_images('portrait', 100)"
     ],
     "language": "python",
     "metadata": {},
     "outputs": [
      {
       "output_type": "stream",
       "stream": "stdout",
       "text": [
        "."
       ]
      },
      {
       "output_type": "stream",
       "stream": "stdout",
       "text": [
        "."
       ]
      },
      {
       "output_type": "stream",
       "stream": "stdout",
       "text": [
        "."
       ]
      },
      {
       "output_type": "stream",
       "stream": "stdout",
       "text": [
        "."
       ]
      },
      {
       "output_type": "stream",
       "stream": "stdout",
       "text": [
        "."
       ]
      },
      {
       "output_type": "stream",
       "stream": "stdout",
       "text": [
        "."
       ]
      },
      {
       "output_type": "stream",
       "stream": "stdout",
       "text": [
        "."
       ]
      },
      {
       "output_type": "stream",
       "stream": "stdout",
       "text": [
        "."
       ]
      },
      {
       "output_type": "stream",
       "stream": "stdout",
       "text": [
        "."
       ]
      },
      {
       "output_type": "stream",
       "stream": "stdout",
       "text": [
        "."
       ]
      },
      {
       "output_type": "stream",
       "stream": "stdout",
       "text": [
        "."
       ]
      },
      {
       "output_type": "stream",
       "stream": "stdout",
       "text": [
        "."
       ]
      },
      {
       "output_type": "stream",
       "stream": "stdout",
       "text": [
        "."
       ]
      },
      {
       "output_type": "stream",
       "stream": "stdout",
       "text": [
        "."
       ]
      },
      {
       "output_type": "stream",
       "stream": "stdout",
       "text": [
        "."
       ]
      },
      {
       "output_type": "stream",
       "stream": "stdout",
       "text": [
        "."
       ]
      },
      {
       "output_type": "stream",
       "stream": "stdout",
       "text": [
        "."
       ]
      },
      {
       "output_type": "stream",
       "stream": "stdout",
       "text": [
        "."
       ]
      },
      {
       "output_type": "stream",
       "stream": "stdout",
       "text": [
        "."
       ]
      },
      {
       "output_type": "stream",
       "stream": "stdout",
       "text": [
        "."
       ]
      },
      {
       "output_type": "stream",
       "stream": "stdout",
       "text": [
        "."
       ]
      },
      {
       "output_type": "stream",
       "stream": "stdout",
       "text": [
        "."
       ]
      },
      {
       "output_type": "stream",
       "stream": "stdout",
       "text": [
        "."
       ]
      },
      {
       "output_type": "stream",
       "stream": "stdout",
       "text": [
        "."
       ]
      },
      {
       "output_type": "stream",
       "stream": "stdout",
       "text": [
        "."
       ]
      },
      {
       "output_type": "stream",
       "stream": "stdout",
       "text": [
        "."
       ]
      },
      {
       "output_type": "stream",
       "stream": "stdout",
       "text": [
        "."
       ]
      },
      {
       "output_type": "stream",
       "stream": "stdout",
       "text": [
        "."
       ]
      },
      {
       "output_type": "stream",
       "stream": "stdout",
       "text": [
        "."
       ]
      },
      {
       "output_type": "stream",
       "stream": "stdout",
       "text": [
        "."
       ]
      },
      {
       "output_type": "stream",
       "stream": "stdout",
       "text": [
        "."
       ]
      },
      {
       "output_type": "stream",
       "stream": "stdout",
       "text": [
        "."
       ]
      },
      {
       "output_type": "stream",
       "stream": "stdout",
       "text": [
        "."
       ]
      },
      {
       "output_type": "stream",
       "stream": "stdout",
       "text": [
        "."
       ]
      },
      {
       "output_type": "stream",
       "stream": "stdout",
       "text": [
        "."
       ]
      },
      {
       "output_type": "stream",
       "stream": "stdout",
       "text": [
        "."
       ]
      },
      {
       "output_type": "stream",
       "stream": "stdout",
       "text": [
        "."
       ]
      },
      {
       "output_type": "stream",
       "stream": "stdout",
       "text": [
        "."
       ]
      },
      {
       "output_type": "stream",
       "stream": "stdout",
       "text": [
        "."
       ]
      },
      {
       "output_type": "stream",
       "stream": "stdout",
       "text": [
        "."
       ]
      },
      {
       "output_type": "stream",
       "stream": "stdout",
       "text": [
        "."
       ]
      },
      {
       "output_type": "stream",
       "stream": "stdout",
       "text": [
        "."
       ]
      },
      {
       "output_type": "stream",
       "stream": "stdout",
       "text": [
        "."
       ]
      },
      {
       "output_type": "stream",
       "stream": "stdout",
       "text": [
        "."
       ]
      },
      {
       "output_type": "stream",
       "stream": "stdout",
       "text": [
        "."
       ]
      },
      {
       "output_type": "stream",
       "stream": "stdout",
       "text": [
        "."
       ]
      },
      {
       "output_type": "stream",
       "stream": "stdout",
       "text": [
        "."
       ]
      },
      {
       "output_type": "stream",
       "stream": "stdout",
       "text": [
        "."
       ]
      },
      {
       "output_type": "stream",
       "stream": "stdout",
       "text": [
        "."
       ]
      },
      {
       "output_type": "stream",
       "stream": "stdout",
       "text": [
        "."
       ]
      },
      {
       "output_type": "stream",
       "stream": "stdout",
       "text": [
        "."
       ]
      },
      {
       "output_type": "stream",
       "stream": "stdout",
       "text": [
        "."
       ]
      },
      {
       "output_type": "stream",
       "stream": "stdout",
       "text": [
        "."
       ]
      },
      {
       "output_type": "stream",
       "stream": "stdout",
       "text": [
        "."
       ]
      },
      {
       "output_type": "stream",
       "stream": "stdout",
       "text": [
        "."
       ]
      },
      {
       "output_type": "stream",
       "stream": "stdout",
       "text": [
        "."
       ]
      },
      {
       "output_type": "stream",
       "stream": "stdout",
       "text": [
        "."
       ]
      },
      {
       "output_type": "stream",
       "stream": "stdout",
       "text": [
        "."
       ]
      },
      {
       "output_type": "stream",
       "stream": "stdout",
       "text": [
        "."
       ]
      },
      {
       "output_type": "stream",
       "stream": "stdout",
       "text": [
        "."
       ]
      },
      {
       "output_type": "stream",
       "stream": "stdout",
       "text": [
        "."
       ]
      },
      {
       "output_type": "stream",
       "stream": "stdout",
       "text": [
        "."
       ]
      },
      {
       "output_type": "stream",
       "stream": "stdout",
       "text": [
        "."
       ]
      },
      {
       "output_type": "stream",
       "stream": "stdout",
       "text": [
        "."
       ]
      },
      {
       "output_type": "stream",
       "stream": "stdout",
       "text": [
        "."
       ]
      },
      {
       "output_type": "stream",
       "stream": "stdout",
       "text": [
        "."
       ]
      },
      {
       "output_type": "stream",
       "stream": "stdout",
       "text": [
        "."
       ]
      },
      {
       "output_type": "stream",
       "stream": "stdout",
       "text": [
        "."
       ]
      },
      {
       "output_type": "stream",
       "stream": "stdout",
       "text": [
        "."
       ]
      },
      {
       "output_type": "stream",
       "stream": "stdout",
       "text": [
        "."
       ]
      },
      {
       "output_type": "stream",
       "stream": "stdout",
       "text": [
        "."
       ]
      },
      {
       "output_type": "stream",
       "stream": "stdout",
       "text": [
        "."
       ]
      },
      {
       "output_type": "stream",
       "stream": "stdout",
       "text": [
        "."
       ]
      },
      {
       "output_type": "stream",
       "stream": "stdout",
       "text": [
        "."
       ]
      },
      {
       "output_type": "stream",
       "stream": "stdout",
       "text": [
        "."
       ]
      },
      {
       "output_type": "stream",
       "stream": "stdout",
       "text": [
        "."
       ]
      },
      {
       "output_type": "stream",
       "stream": "stdout",
       "text": [
        "."
       ]
      },
      {
       "output_type": "stream",
       "stream": "stdout",
       "text": [
        "."
       ]
      },
      {
       "output_type": "stream",
       "stream": "stdout",
       "text": [
        "."
       ]
      },
      {
       "output_type": "stream",
       "stream": "stdout",
       "text": [
        "."
       ]
      },
      {
       "output_type": "stream",
       "stream": "stdout",
       "text": [
        "."
       ]
      },
      {
       "output_type": "stream",
       "stream": "stdout",
       "text": [
        "."
       ]
      },
      {
       "output_type": "stream",
       "stream": "stdout",
       "text": [
        "."
       ]
      },
      {
       "output_type": "stream",
       "stream": "stdout",
       "text": [
        "."
       ]
      },
      {
       "output_type": "stream",
       "stream": "stdout",
       "text": [
        "."
       ]
      },
      {
       "output_type": "stream",
       "stream": "stdout",
       "text": [
        "."
       ]
      },
      {
       "output_type": "stream",
       "stream": "stdout",
       "text": [
        "."
       ]
      },
      {
       "output_type": "stream",
       "stream": "stdout",
       "text": [
        "."
       ]
      },
      {
       "output_type": "stream",
       "stream": "stdout",
       "text": [
        "."
       ]
      },
      {
       "output_type": "stream",
       "stream": "stdout",
       "text": [
        "."
       ]
      },
      {
       "output_type": "stream",
       "stream": "stdout",
       "text": [
        "."
       ]
      },
      {
       "output_type": "stream",
       "stream": "stdout",
       "text": [
        "."
       ]
      },
      {
       "output_type": "stream",
       "stream": "stdout",
       "text": [
        "."
       ]
      },
      {
       "output_type": "stream",
       "stream": "stdout",
       "text": [
        "."
       ]
      },
      {
       "output_type": "stream",
       "stream": "stdout",
       "text": [
        "."
       ]
      },
      {
       "output_type": "stream",
       "stream": "stdout",
       "text": [
        "."
       ]
      },
      {
       "output_type": "stream",
       "stream": "stdout",
       "text": [
        "."
       ]
      },
      {
       "output_type": "stream",
       "stream": "stdout",
       "text": [
        "."
       ]
      },
      {
       "output_type": "stream",
       "stream": "stdout",
       "text": [
        "."
       ]
      },
      {
       "output_type": "stream",
       "stream": "stdout",
       "text": [
        "."
       ]
      },
      {
       "output_type": "stream",
       "stream": "stdout",
       "text": [
        "."
       ]
      },
      {
       "output_type": "stream",
       "stream": "stdout",
       "text": [
        "."
       ]
      },
      {
       "output_type": "stream",
       "stream": "stdout",
       "text": [
        "."
       ]
      },
      {
       "output_type": "stream",
       "stream": "stdout",
       "text": [
        "."
       ]
      },
      {
       "output_type": "stream",
       "stream": "stdout",
       "text": [
        "."
       ]
      },
      {
       "output_type": "stream",
       "stream": "stdout",
       "text": [
        "."
       ]
      },
      {
       "output_type": "stream",
       "stream": "stdout",
       "text": [
        "."
       ]
      },
      {
       "output_type": "stream",
       "stream": "stdout",
       "text": [
        "."
       ]
      },
      {
       "output_type": "stream",
       "stream": "stdout",
       "text": [
        "."
       ]
      },
      {
       "output_type": "stream",
       "stream": "stdout",
       "text": [
        "."
       ]
      },
      {
       "output_type": "stream",
       "stream": "stdout",
       "text": [
        "."
       ]
      },
      {
       "output_type": "stream",
       "stream": "stdout",
       "text": [
        "."
       ]
      },
      {
       "output_type": "stream",
       "stream": "stdout",
       "text": [
        "."
       ]
      },
      {
       "output_type": "stream",
       "stream": "stdout",
       "text": [
        "."
       ]
      },
      {
       "output_type": "stream",
       "stream": "stdout",
       "text": [
        "."
       ]
      },
      {
       "output_type": "stream",
       "stream": "stdout",
       "text": [
        "."
       ]
      },
      {
       "output_type": "stream",
       "stream": "stdout",
       "text": [
        "."
       ]
      },
      {
       "output_type": "stream",
       "stream": "stdout",
       "text": [
        "."
       ]
      },
      {
       "output_type": "stream",
       "stream": "stdout",
       "text": [
        "."
       ]
      },
      {
       "output_type": "stream",
       "stream": "stdout",
       "text": [
        "."
       ]
      },
      {
       "output_type": "stream",
       "stream": "stdout",
       "text": [
        "."
       ]
      },
      {
       "output_type": "stream",
       "stream": "stdout",
       "text": [
        "."
       ]
      },
      {
       "output_type": "stream",
       "stream": "stdout",
       "text": [
        "."
       ]
      },
      {
       "output_type": "stream",
       "stream": "stdout",
       "text": [
        "."
       ]
      },
      {
       "output_type": "stream",
       "stream": "stdout",
       "text": [
        "."
       ]
      },
      {
       "output_type": "stream",
       "stream": "stdout",
       "text": [
        "."
       ]
      },
      {
       "output_type": "stream",
       "stream": "stdout",
       "text": [
        "."
       ]
      },
      {
       "output_type": "stream",
       "stream": "stdout",
       "text": [
        "."
       ]
      },
      {
       "output_type": "stream",
       "stream": "stdout",
       "text": [
        "."
       ]
      },
      {
       "output_type": "stream",
       "stream": "stdout",
       "text": [
        "."
       ]
      },
      {
       "output_type": "stream",
       "stream": "stdout",
       "text": [
        "."
       ]
      },
      {
       "output_type": "stream",
       "stream": "stdout",
       "text": [
        "."
       ]
      },
      {
       "output_type": "stream",
       "stream": "stdout",
       "text": [
        "."
       ]
      },
      {
       "output_type": "stream",
       "stream": "stdout",
       "text": [
        "."
       ]
      },
      {
       "output_type": "stream",
       "stream": "stdout",
       "text": [
        "."
       ]
      },
      {
       "output_type": "stream",
       "stream": "stdout",
       "text": [
        "."
       ]
      },
      {
       "output_type": "stream",
       "stream": "stdout",
       "text": [
        "."
       ]
      },
      {
       "output_type": "stream",
       "stream": "stdout",
       "text": [
        "."
       ]
      },
      {
       "output_type": "stream",
       "stream": "stdout",
       "text": [
        "."
       ]
      },
      {
       "output_type": "stream",
       "stream": "stdout",
       "text": [
        "."
       ]
      },
      {
       "output_type": "stream",
       "stream": "stdout",
       "text": [
        "."
       ]
      },
      {
       "output_type": "stream",
       "stream": "stdout",
       "text": [
        "."
       ]
      },
      {
       "output_type": "stream",
       "stream": "stdout",
       "text": [
        "."
       ]
      },
      {
       "output_type": "stream",
       "stream": "stdout",
       "text": [
        "."
       ]
      },
      {
       "output_type": "stream",
       "stream": "stdout",
       "text": [
        "."
       ]
      },
      {
       "output_type": "stream",
       "stream": "stdout",
       "text": [
        "."
       ]
      },
      {
       "output_type": "stream",
       "stream": "stdout",
       "text": [
        "."
       ]
      },
      {
       "output_type": "stream",
       "stream": "stdout",
       "text": [
        "."
       ]
      },
      {
       "output_type": "stream",
       "stream": "stdout",
       "text": [
        "."
       ]
      },
      {
       "output_type": "stream",
       "stream": "stdout",
       "text": [
        "."
       ]
      },
      {
       "output_type": "stream",
       "stream": "stdout",
       "text": [
        "."
       ]
      },
      {
       "output_type": "stream",
       "stream": "stdout",
       "text": [
        "."
       ]
      },
      {
       "output_type": "stream",
       "stream": "stdout",
       "text": [
        "."
       ]
      },
      {
       "output_type": "stream",
       "stream": "stdout",
       "text": [
        "."
       ]
      },
      {
       "output_type": "stream",
       "stream": "stdout",
       "text": [
        "."
       ]
      },
      {
       "output_type": "stream",
       "stream": "stdout",
       "text": [
        "."
       ]
      },
      {
       "output_type": "stream",
       "stream": "stdout",
       "text": [
        "."
       ]
      },
      {
       "output_type": "stream",
       "stream": "stdout",
       "text": [
        "."
       ]
      },
      {
       "output_type": "stream",
       "stream": "stdout",
       "text": [
        "."
       ]
      },
      {
       "output_type": "stream",
       "stream": "stdout",
       "text": [
        "."
       ]
      },
      {
       "output_type": "stream",
       "stream": "stdout",
       "text": [
        "."
       ]
      },
      {
       "output_type": "stream",
       "stream": "stdout",
       "text": [
        "."
       ]
      },
      {
       "output_type": "stream",
       "stream": "stdout",
       "text": [
        "."
       ]
      },
      {
       "output_type": "stream",
       "stream": "stdout",
       "text": [
        "."
       ]
      },
      {
       "output_type": "stream",
       "stream": "stdout",
       "text": [
        "."
       ]
      },
      {
       "output_type": "stream",
       "stream": "stdout",
       "text": [
        "."
       ]
      },
      {
       "output_type": "stream",
       "stream": "stdout",
       "text": [
        "."
       ]
      },
      {
       "output_type": "stream",
       "stream": "stdout",
       "text": [
        "."
       ]
      },
      {
       "output_type": "stream",
       "stream": "stdout",
       "text": [
        "."
       ]
      },
      {
       "output_type": "stream",
       "stream": "stdout",
       "text": [
        "."
       ]
      },
      {
       "output_type": "stream",
       "stream": "stdout",
       "text": [
        "."
       ]
      },
      {
       "output_type": "stream",
       "stream": "stdout",
       "text": [
        "."
       ]
      },
      {
       "output_type": "stream",
       "stream": "stdout",
       "text": [
        "."
       ]
      },
      {
       "output_type": "stream",
       "stream": "stdout",
       "text": [
        "."
       ]
      },
      {
       "output_type": "stream",
       "stream": "stdout",
       "text": [
        "."
       ]
      },
      {
       "output_type": "stream",
       "stream": "stdout",
       "text": [
        "."
       ]
      },
      {
       "output_type": "stream",
       "stream": "stdout",
       "text": [
        "."
       ]
      },
      {
       "output_type": "stream",
       "stream": "stdout",
       "text": [
        "."
       ]
      },
      {
       "output_type": "stream",
       "stream": "stdout",
       "text": [
        "."
       ]
      },
      {
       "output_type": "stream",
       "stream": "stdout",
       "text": [
        "."
       ]
      },
      {
       "output_type": "stream",
       "stream": "stdout",
       "text": [
        "."
       ]
      },
      {
       "output_type": "stream",
       "stream": "stdout",
       "text": [
        "."
       ]
      },
      {
       "output_type": "stream",
       "stream": "stdout",
       "text": [
        "."
       ]
      },
      {
       "output_type": "stream",
       "stream": "stdout",
       "text": [
        "."
       ]
      },
      {
       "output_type": "stream",
       "stream": "stdout",
       "text": [
        "."
       ]
      },
      {
       "output_type": "stream",
       "stream": "stdout",
       "text": [
        "."
       ]
      },
      {
       "output_type": "stream",
       "stream": "stdout",
       "text": [
        "."
       ]
      },
      {
       "output_type": "stream",
       "stream": "stdout",
       "text": [
        "."
       ]
      },
      {
       "output_type": "stream",
       "stream": "stdout",
       "text": [
        "."
       ]
      },
      {
       "output_type": "stream",
       "stream": "stdout",
       "text": [
        "."
       ]
      },
      {
       "output_type": "stream",
       "stream": "stdout",
       "text": [
        "."
       ]
      },
      {
       "output_type": "stream",
       "stream": "stdout",
       "text": [
        "."
       ]
      },
      {
       "output_type": "stream",
       "stream": "stdout",
       "text": [
        "."
       ]
      },
      {
       "output_type": "stream",
       "stream": "stdout",
       "text": [
        "."
       ]
      },
      {
       "output_type": "stream",
       "stream": "stdout",
       "text": [
        "+"
       ]
      },
      {
       "output_type": "stream",
       "stream": "stdout",
       "text": [
        "+"
       ]
      },
      {
       "output_type": "stream",
       "stream": "stdout",
       "text": [
        "+"
       ]
      },
      {
       "output_type": "stream",
       "stream": "stdout",
       "text": [
        "+"
       ]
      },
      {
       "output_type": "stream",
       "stream": "stdout",
       "text": [
        "+"
       ]
      },
      {
       "output_type": "stream",
       "stream": "stdout",
       "text": [
        "+"
       ]
      },
      {
       "output_type": "stream",
       "stream": "stdout",
       "text": [
        "+"
       ]
      },
      {
       "output_type": "stream",
       "stream": "stdout",
       "text": [
        "+"
       ]
      },
      {
       "output_type": "stream",
       "stream": "stdout",
       "text": [
        "+"
       ]
      },
      {
       "output_type": "stream",
       "stream": "stdout",
       "text": [
        "+"
       ]
      },
      {
       "output_type": "stream",
       "stream": "stdout",
       "text": [
        "+"
       ]
      },
      {
       "output_type": "stream",
       "stream": "stdout",
       "text": [
        "+"
       ]
      },
      {
       "output_type": "stream",
       "stream": "stdout",
       "text": [
        "+"
       ]
      },
      {
       "output_type": "stream",
       "stream": "stdout",
       "text": [
        "+"
       ]
      },
      {
       "output_type": "stream",
       "stream": "stdout",
       "text": [
        "+"
       ]
      },
      {
       "output_type": "stream",
       "stream": "stdout",
       "text": [
        "+"
       ]
      },
      {
       "output_type": "stream",
       "stream": "stdout",
       "text": [
        "+"
       ]
      },
      {
       "output_type": "stream",
       "stream": "stdout",
       "text": [
        "+"
       ]
      },
      {
       "output_type": "stream",
       "stream": "stdout",
       "text": [
        "+"
       ]
      },
      {
       "output_type": "stream",
       "stream": "stdout",
       "text": [
        "+"
       ]
      },
      {
       "output_type": "stream",
       "stream": "stdout",
       "text": [
        "+"
       ]
      },
      {
       "output_type": "stream",
       "stream": "stdout",
       "text": [
        "+"
       ]
      },
      {
       "output_type": "stream",
       "stream": "stdout",
       "text": [
        "+"
       ]
      },
      {
       "output_type": "stream",
       "stream": "stdout",
       "text": [
        "+"
       ]
      },
      {
       "output_type": "stream",
       "stream": "stdout",
       "text": [
        "+"
       ]
      },
      {
       "output_type": "stream",
       "stream": "stdout",
       "text": [
        "+"
       ]
      },
      {
       "output_type": "stream",
       "stream": "stdout",
       "text": [
        "+"
       ]
      },
      {
       "output_type": "stream",
       "stream": "stdout",
       "text": [
        "+"
       ]
      },
      {
       "output_type": "stream",
       "stream": "stdout",
       "text": [
        "+"
       ]
      },
      {
       "output_type": "stream",
       "stream": "stdout",
       "text": [
        "+"
       ]
      },
      {
       "output_type": "stream",
       "stream": "stdout",
       "text": [
        "+"
       ]
      },
      {
       "output_type": "stream",
       "stream": "stdout",
       "text": [
        "+"
       ]
      },
      {
       "output_type": "stream",
       "stream": "stdout",
       "text": [
        "+"
       ]
      },
      {
       "output_type": "stream",
       "stream": "stdout",
       "text": [
        "+"
       ]
      },
      {
       "output_type": "stream",
       "stream": "stdout",
       "text": [
        "+"
       ]
      },
      {
       "output_type": "stream",
       "stream": "stdout",
       "text": [
        "+"
       ]
      },
      {
       "output_type": "stream",
       "stream": "stdout",
       "text": [
        "+"
       ]
      },
      {
       "output_type": "stream",
       "stream": "stdout",
       "text": [
        "+"
       ]
      },
      {
       "output_type": "stream",
       "stream": "stdout",
       "text": [
        "+"
       ]
      },
      {
       "output_type": "stream",
       "stream": "stdout",
       "text": [
        "+"
       ]
      },
      {
       "output_type": "stream",
       "stream": "stdout",
       "text": [
        "+"
       ]
      },
      {
       "output_type": "stream",
       "stream": "stdout",
       "text": [
        "+"
       ]
      },
      {
       "output_type": "stream",
       "stream": "stdout",
       "text": [
        "+"
       ]
      },
      {
       "output_type": "stream",
       "stream": "stdout",
       "text": [
        "+"
       ]
      },
      {
       "output_type": "stream",
       "stream": "stdout",
       "text": [
        "+"
       ]
      },
      {
       "output_type": "stream",
       "stream": "stdout",
       "text": [
        "+"
       ]
      },
      {
       "output_type": "stream",
       "stream": "stdout",
       "text": [
        "+"
       ]
      },
      {
       "output_type": "stream",
       "stream": "stdout",
       "text": [
        "+"
       ]
      },
      {
       "output_type": "stream",
       "stream": "stdout",
       "text": [
        "+"
       ]
      },
      {
       "output_type": "stream",
       "stream": "stdout",
       "text": [
        "+"
       ]
      },
      {
       "output_type": "stream",
       "stream": "stdout",
       "text": [
        "+"
       ]
      },
      {
       "output_type": "stream",
       "stream": "stdout",
       "text": [
        "+"
       ]
      },
      {
       "output_type": "stream",
       "stream": "stdout",
       "text": [
        "+"
       ]
      },
      {
       "output_type": "stream",
       "stream": "stdout",
       "text": [
        "+"
       ]
      },
      {
       "output_type": "stream",
       "stream": "stdout",
       "text": [
        "+"
       ]
      },
      {
       "output_type": "stream",
       "stream": "stdout",
       "text": [
        "+"
       ]
      },
      {
       "output_type": "stream",
       "stream": "stdout",
       "text": [
        "+"
       ]
      },
      {
       "output_type": "stream",
       "stream": "stdout",
       "text": [
        "+"
       ]
      },
      {
       "output_type": "stream",
       "stream": "stdout",
       "text": [
        "+"
       ]
      },
      {
       "output_type": "stream",
       "stream": "stdout",
       "text": [
        "+"
       ]
      },
      {
       "output_type": "stream",
       "stream": "stdout",
       "text": [
        "+"
       ]
      },
      {
       "output_type": "stream",
       "stream": "stdout",
       "text": [
        "+"
       ]
      },
      {
       "output_type": "stream",
       "stream": "stdout",
       "text": [
        "+"
       ]
      },
      {
       "output_type": "stream",
       "stream": "stdout",
       "text": [
        "+"
       ]
      },
      {
       "output_type": "stream",
       "stream": "stdout",
       "text": [
        "+"
       ]
      },
      {
       "output_type": "stream",
       "stream": "stdout",
       "text": [
        "+"
       ]
      },
      {
       "output_type": "stream",
       "stream": "stdout",
       "text": [
        "+"
       ]
      },
      {
       "output_type": "stream",
       "stream": "stdout",
       "text": [
        "+"
       ]
      },
      {
       "output_type": "stream",
       "stream": "stdout",
       "text": [
        "+"
       ]
      },
      {
       "output_type": "stream",
       "stream": "stdout",
       "text": [
        "+"
       ]
      },
      {
       "output_type": "stream",
       "stream": "stdout",
       "text": [
        "+"
       ]
      },
      {
       "output_type": "stream",
       "stream": "stdout",
       "text": [
        "+"
       ]
      },
      {
       "output_type": "stream",
       "stream": "stdout",
       "text": [
        "+"
       ]
      },
      {
       "output_type": "stream",
       "stream": "stdout",
       "text": [
        "+"
       ]
      },
      {
       "output_type": "stream",
       "stream": "stdout",
       "text": [
        "+"
       ]
      },
      {
       "output_type": "stream",
       "stream": "stdout",
       "text": [
        "+"
       ]
      },
      {
       "output_type": "stream",
       "stream": "stdout",
       "text": [
        "+"
       ]
      },
      {
       "output_type": "stream",
       "stream": "stdout",
       "text": [
        "+"
       ]
      },
      {
       "output_type": "stream",
       "stream": "stdout",
       "text": [
        "+"
       ]
      },
      {
       "output_type": "stream",
       "stream": "stdout",
       "text": [
        "+"
       ]
      },
      {
       "output_type": "stream",
       "stream": "stdout",
       "text": [
        "+"
       ]
      },
      {
       "output_type": "stream",
       "stream": "stdout",
       "text": [
        "+"
       ]
      },
      {
       "output_type": "stream",
       "stream": "stdout",
       "text": [
        "+"
       ]
      },
      {
       "output_type": "stream",
       "stream": "stdout",
       "text": [
        "+"
       ]
      },
      {
       "output_type": "stream",
       "stream": "stdout",
       "text": [
        "+"
       ]
      },
      {
       "output_type": "stream",
       "stream": "stdout",
       "text": [
        "+"
       ]
      },
      {
       "output_type": "stream",
       "stream": "stdout",
       "text": [
        "+"
       ]
      },
      {
       "output_type": "stream",
       "stream": "stdout",
       "text": [
        "+"
       ]
      },
      {
       "output_type": "stream",
       "stream": "stdout",
       "text": [
        "+"
       ]
      },
      {
       "output_type": "stream",
       "stream": "stdout",
       "text": [
        "+"
       ]
      },
      {
       "output_type": "stream",
       "stream": "stdout",
       "text": [
        "+"
       ]
      },
      {
       "output_type": "stream",
       "stream": "stdout",
       "text": [
        "+"
       ]
      },
      {
       "output_type": "stream",
       "stream": "stdout",
       "text": [
        "+"
       ]
      },
      {
       "output_type": "stream",
       "stream": "stdout",
       "text": [
        "+"
       ]
      },
      {
       "output_type": "stream",
       "stream": "stdout",
       "text": [
        "+"
       ]
      },
      {
       "output_type": "stream",
       "stream": "stdout",
       "text": [
        "+"
       ]
      },
      {
       "output_type": "stream",
       "stream": "stdout",
       "text": [
        "+"
       ]
      },
      {
       "output_type": "stream",
       "stream": "stdout",
       "text": [
        "+"
       ]
      },
      {
       "output_type": "stream",
       "stream": "stdout",
       "text": [
        "+"
       ]
      },
      {
       "output_type": "stream",
       "stream": "stdout",
       "text": [
        "+"
       ]
      }
     ],
     "prompt_number": 35
    }
   ],
   "metadata": {}
  }
 ]
}