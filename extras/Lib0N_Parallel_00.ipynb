{
 "metadata": {
  "name": "",
  "signature": "sha256:a6858ab3322ad5c59ac1fdfcca6c5737f7ade671ebe0b65f6b2e05e975e5aca7"
 },
 "nbformat": 3,
 "nbformat_minor": 0,
 "worksheets": [
  {
   "cells": [
    {
     "cell_type": "markdown",
     "metadata": {},
     "source": [
      "Preliminares"
     ]
    },
    {
     "cell_type": "code",
     "collapsed": false,
     "input": [
      "import numpy\n",
      "print 'numpy:', numpy.__version__\n",
      "\n",
      "import scipy\n",
      "print 'scipy:', scipy.__version__\n",
      "\n",
      "import matplotlib\n",
      "print 'matplotlib:', matplotlib.__version__\n",
      "\n",
      "import sklearn\n",
      "print 'scikit-learn:', sklearn.__version__"
     ],
     "language": "python",
     "metadata": {},
     "outputs": [
      {
       "output_type": "stream",
       "stream": "stdout",
       "text": [
        "numpy: 1.8.1\n",
        "scipy: 0.13.3\n",
        "matplotlib: 1.3.1\n",
        "scikit-learn:"
       ]
      },
      {
       "output_type": "stream",
       "stream": "stdout",
       "text": [
        " 0.15.2\n"
       ]
      }
     ],
     "prompt_number": 1
    },
    {
     "cell_type": "code",
     "collapsed": false,
     "input": [
      "F = numpy.matrix([[1, 1], [1, 0]])"
     ],
     "language": "python",
     "metadata": {},
     "outputs": [],
     "prompt_number": 2
    },
    {
     "cell_type": "code",
     "collapsed": false,
     "input": [
      "(F ** 7)[0, 0]"
     ],
     "language": "python",
     "metadata": {},
     "outputs": [
      {
       "metadata": {},
       "output_type": "pyout",
       "prompt_number": 5,
       "text": [
        "21"
       ]
      }
     ],
     "prompt_number": 5
    },
    {
     "cell_type": "code",
     "collapsed": false,
     "input": [
      "F**7"
     ],
     "language": "python",
     "metadata": {},
     "outputs": [
      {
       "metadata": {},
       "output_type": "pyout",
       "prompt_number": 6,
       "text": [
        "matrix([[21, 13],\n",
        "        [13,  8]])"
       ]
      }
     ],
     "prompt_number": 6
    },
    {
     "cell_type": "code",
     "collapsed": false,
     "input": [],
     "language": "python",
     "metadata": {},
     "outputs": []
    },
    {
     "cell_type": "code",
     "collapsed": false,
     "input": [],
     "language": "python",
     "metadata": {},
     "outputs": []
    }
   ],
   "metadata": {}
  }
 ]
}