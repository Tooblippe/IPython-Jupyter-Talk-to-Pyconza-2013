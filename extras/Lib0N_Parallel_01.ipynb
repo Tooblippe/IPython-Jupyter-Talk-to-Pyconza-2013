{
 "metadata": {
  "name": "",
  "signature": "sha256:57581d555b39dcd9b8e44192d3deee742c741ee38542c131903df9167d0a6715"
 },
 "nbformat": 3,
 "nbformat_minor": 0,
 "worksheets": [
  {
   "cells": [
    {
     "cell_type": "markdown",
     "metadata": {},
     "source": [
      "Parallel IPython\n",
      "========\n",
      "## Un ejemplo\n",
      "\n",
      "Primero iniciamos el controlador y cuatro motores de IPython desde el dashboard."
     ]
    },
    {
     "cell_type": "code",
     "collapsed": false,
     "input": [
      "from IPython import parallel\n",
      "rc = parallel.Client()\n",
      "rc.block = True\n",
      "rc.ids"
     ],
     "language": "python",
     "metadata": {},
     "outputs": [
      {
       "metadata": {},
       "output_type": "pyout",
       "prompt_number": 1,
       "text": [
        "[0, 1, 2, 3]"
       ]
      }
     ],
     "prompt_number": 1
    },
    {
     "cell_type": "markdown",
     "metadata": {},
     "source": [
      "Primero veremos un ejemplo muy trivial. Multiplicaremos numeros."
     ]
    },
    {
     "cell_type": "code",
     "collapsed": false,
     "input": [
      "def mul(a,b):\n",
      "    return a*b"
     ],
     "language": "python",
     "metadata": {},
     "outputs": [],
     "prompt_number": 2
    },
    {
     "cell_type": "code",
     "collapsed": false,
     "input": [
      "def summary():\n",
      "    \"\"\"summarize some info about this process\"\"\"\n",
      "    import os\n",
      "    import socket\n",
      "    import sys\n",
      "    return {\n",
      "        'cwd': os.getcwd(),\n",
      "        'Python': sys.version,\n",
      "        'hostname': socket.gethostname(),\n",
      "        'pid': os.getpid(),\n",
      "    }"
     ],
     "language": "python",
     "metadata": {},
     "outputs": [],
     "prompt_number": 3
    },
    {
     "cell_type": "code",
     "collapsed": false,
     "input": [
      "mul(5,6)"
     ],
     "language": "python",
     "metadata": {},
     "outputs": [
      {
       "metadata": {},
       "output_type": "pyout",
       "prompt_number": 4,
       "text": [
        "30"
       ]
      }
     ],
     "prompt_number": 4
    },
    {
     "cell_type": "code",
     "collapsed": false,
     "input": [
      "summary()"
     ],
     "language": "python",
     "metadata": {},
     "outputs": [
      {
       "metadata": {},
       "output_type": "pyout",
       "prompt_number": 5,
       "text": [
        "{'Python': '2.7.8 |Anaconda 2.0.1 (64-bit)| (default, Aug 21 2014, 18:22:21) \\n[GCC 4.4.7 20120313 (Red Hat 4.4.7-1)]',\n",
        " 'cwd': '/home/htapia/LocalRepos/lania.posdoc/posdoc.1er/cursos/lania.ipython/notebooks',\n",
        " 'hostname': 'gpu-sensores',\n",
        " 'pid': 6416}"
       ]
      }
     ],
     "prompt_number": 5
    },
    {
     "cell_type": "markdown",
     "metadata": {},
     "source": [
      "Para ejecutar estas funciones en paralelo, lo unico que tenemos que hacer es convertir `f(*args, **kwargs)` en `view.apply(f, *args, **kwargs)`...asi de simple:"
     ]
    },
    {
     "cell_type": "markdown",
     "metadata": {},
     "source": [
      "`view` es un nombre generico para el objeto que representa un motor de IPython. En este ejemplo cada uno de los controlodadores especificados en el cliente `rc` es una vista:"
     ]
    },
    {
     "cell_type": "code",
     "collapsed": false,
     "input": [
      "type(rc[:])"
     ],
     "language": "python",
     "metadata": {},
     "outputs": [
      {
       "metadata": {},
       "output_type": "pyout",
       "prompt_number": 7,
       "text": [
        "IPython.parallel.client.view.DirectView"
       ]
      }
     ],
     "prompt_number": 7
    },
    {
     "cell_type": "markdown",
     "metadata": {},
     "source": [
      "Podemos usar cualquiera de ellos para ejecutar las funciones:"
     ]
    },
    {
     "cell_type": "code",
     "collapsed": false,
     "input": [
      "rc[1].apply(mul,5,6)"
     ],
     "language": "python",
     "metadata": {},
     "outputs": [
      {
       "metadata": {},
       "output_type": "pyout",
       "prompt_number": 8,
       "text": [
        "30"
       ]
      }
     ],
     "prompt_number": 8
    },
    {
     "cell_type": "code",
     "collapsed": false,
     "input": [
      "rc[3].apply(summary)"
     ],
     "language": "python",
     "metadata": {},
     "outputs": [
      {
       "metadata": {},
       "output_type": "pyout",
       "prompt_number": 10,
       "text": [
        "{'Python': '2.7.8 |Anaconda 2.0.1 (64-bit)| (default, Aug 21 2014, 18:22:21) \\n[GCC 4.4.7 20120313 (Red Hat 4.4.7-1)]',\n",
        " 'cwd': '/home/htapia',\n",
        " 'hostname': 'gpu-sensores',\n",
        " 'pid': 10048}"
       ]
      }
     ],
     "prompt_number": 10
    },
    {
     "cell_type": "markdown",
     "metadata": {},
     "source": [
      "Se puede hacer lo mismo en paralelo?"
     ]
    },
    {
     "cell_type": "code",
     "collapsed": false,
     "input": [
      "rc[:].apply(mul,5,6)"
     ],
     "language": "python",
     "metadata": {},
     "outputs": [
      {
       "metadata": {},
       "output_type": "pyout",
       "prompt_number": 11,
       "text": [
        "[30, 30, 30, 30]"
       ]
      }
     ],
     "prompt_number": 11
    },
    {
     "cell_type": "code",
     "collapsed": false,
     "input": [
      "rc[:].apply(summary)"
     ],
     "language": "python",
     "metadata": {},
     "outputs": [
      {
       "metadata": {},
       "output_type": "pyout",
       "prompt_number": 12,
       "text": [
        "[{'Python': '2.7.8 |Anaconda 2.0.1 (64-bit)| (default, Aug 21 2014, 18:22:21) \\n[GCC 4.4.7 20120313 (Red Hat 4.4.7-1)]',\n",
        "  'cwd': '/home/htapia',\n",
        "  'hostname': 'gpu-sensores',\n",
        "  'pid': 10049},\n",
        " {'Python': '2.7.8 |Anaconda 2.0.1 (64-bit)| (default, Aug 21 2014, 18:22:21) \\n[GCC 4.4.7 20120313 (Red Hat 4.4.7-1)]',\n",
        "  'cwd': '/home/htapia',\n",
        "  'hostname': 'gpu-sensores',\n",
        "  'pid': 10046},\n",
        " {'Python': '2.7.8 |Anaconda 2.0.1 (64-bit)| (default, Aug 21 2014, 18:22:21) \\n[GCC 4.4.7 20120313 (Red Hat 4.4.7-1)]',\n",
        "  'cwd': '/home/htapia',\n",
        "  'hostname': 'gpu-sensores',\n",
        "  'pid': 10047},\n",
        " {'Python': '2.7.8 |Anaconda 2.0.1 (64-bit)| (default, Aug 21 2014, 18:22:21) \\n[GCC 4.4.7 20120313 (Red Hat 4.4.7-1)]',\n",
        "  'cwd': '/home/htapia',\n",
        "  'hostname': 'gpu-sensores',\n",
        "  'pid': 10048}]"
       ]
      }
     ],
     "prompt_number": 12
    },
    {
     "cell_type": "markdown",
     "metadata": {},
     "source": [
      "En Python hay una implementacion de `map` para llamar una funcion con varios argumentos:"
     ]
    },
    {
     "cell_type": "code",
     "collapsed": false,
     "input": [
      "map(mul, range(1,10), range(2,11))"
     ],
     "language": "python",
     "metadata": {},
     "outputs": [
      {
       "metadata": {},
       "output_type": "pyout",
       "prompt_number": 13,
       "text": [
        "[2, 6, 12, 20, 30, 42, 56, 72, 90]"
       ]
      }
     ],
     "prompt_number": 13
    },
    {
     "cell_type": "markdown",
     "metadata": {},
     "source": [
      "Podemos paralelizar esto?"
     ]
    },
    {
     "cell_type": "code",
     "collapsed": false,
     "input": [
      "rc[:].map(mul, range(1,10), range(2,11))"
     ],
     "language": "python",
     "metadata": {},
     "outputs": [
      {
       "metadata": {},
       "output_type": "pyout",
       "prompt_number": 24,
       "text": [
        "[2, 6, 12, 20, 30, 42, 56, 72, 90]"
       ]
      }
     ],
     "prompt_number": 24
    },
    {
     "cell_type": "markdown",
     "metadata": {},
     "source": [
      "Hola Clase!\n",
      "======"
     ]
    },
    {
     "cell_type": "code",
     "collapsed": false,
     "input": [
      "def sleep_and_echo(t, msg):\n",
      "    import time\n",
      "    time.sleep(t)\n",
      "    return msg"
     ],
     "language": "python",
     "metadata": {},
     "outputs": [],
     "prompt_number": 28
    },
    {
     "cell_type": "code",
     "collapsed": false,
     "input": [
      "view = rc.load_balanced_view()"
     ],
     "language": "python",
     "metadata": {},
     "outputs": [],
     "prompt_number": 27
    },
    {
     "cell_type": "code",
     "collapsed": false,
     "input": [
      "hola = view.apply_async(sleep_and_echo, 30, \"Hola\")"
     ],
     "language": "python",
     "metadata": {},
     "outputs": [],
     "prompt_number": 29
    },
    {
     "cell_type": "code",
     "collapsed": false,
     "input": [
      "clase = view.apply_async(sleep_and_echo, 30, \"Clase!\")"
     ],
     "language": "python",
     "metadata": {},
     "outputs": [],
     "prompt_number": 30
    },
    {
     "cell_type": "code",
     "collapsed": false,
     "input": [
      "print 'Submitted tasks: ', hola.msg_ids + clase.msg_ids\n",
      "print hola.result + clase.result"
     ],
     "language": "python",
     "metadata": {},
     "outputs": [
      {
       "output_type": "stream",
       "stream": "stdout",
       "text": [
        "Submitted tasks:  ['12d8b417-2a3c-4730-b013-a1976b84f437', 'e279a6d1-6627-404a-b95a-a75f8d0bd1ee']\n",
        "HolaClase!\n"
       ]
      }
     ],
     "prompt_number": 31
    },
    {
     "cell_type": "markdown",
     "metadata": {},
     "source": [
      "Magia paralela\n",
      "======"
     ]
    },
    {
     "cell_type": "code",
     "collapsed": false,
     "input": [
      "%%px\n",
      "import os, socket\n",
      "print os.getpid()\n",
      "print socket.gethostname()"
     ],
     "language": "python",
     "metadata": {},
     "outputs": [
      {
       "output_type": "stream",
       "stream": "stdout",
       "text": [
        "[stdout:0] \n",
        "10049\n",
        "gpu-sensores\n",
        "[stdout:1] \n",
        "10046\n",
        "gpu-sensores\n",
        "[stdout:2] \n",
        "10047\n",
        "gpu-sensores\n",
        "[stdout:3] \n",
        "10048\n",
        "gpu-sensores\n"
       ]
      }
     ],
     "prompt_number": 26
    }
   ],
   "metadata": {}
  }
 ]
}